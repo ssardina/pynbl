{
 "cells": [
  {
   "cell_type": "markdown",
   "metadata": {},
   "source": [
    "# BSS-AUS: Basketball Statistic System (AUS)\n",
    "\n",
    "This system allows to **incrementally** build a database of _stint lineups_ (advance) statistics for each game and each team.\n",
    "\n",
    "A **stint** is a lineup of players who play together in different interval periods across the game. The system will build the stints for each team from the play-by-play data and compute various statistics.\n",
    "\n",
    "The data comes as a raw JSON file:\n",
    "\n",
    "https://fibalivestats.dcd.shared.geniussports.com/data/2087737/data.json"
   ]
  },
  {
   "cell_type": "code",
   "execution_count": 9,
   "metadata": {},
   "outputs": [],
   "source": [
    "# Let's first load all required packages...\n",
    "import os\n",
    "import pandas as pd\n",
    "import numpy as np\n",
    "\n",
    "from config import *\n",
    "import bball_stats\n",
    "import tools"
   ]
  },
  {
   "cell_type": "markdown",
   "metadata": {},
   "source": [
    "## 1. Define games to scrape and saved data\n",
    "\n",
    "First, setup the games we want to scrape and compute, as well as the existing data stored in file to append to."
   ]
  },
  {
   "cell_type": "code",
   "execution_count": 15,
   "metadata": {},
   "outputs": [],
   "source": [
    "# games to be computed\n",
    "# format: (game id, game no for team 1, game no for team 2)\n",
    "games = [(1999318, 1, 1), (2087737, 2, 2), (2090351, 3, 3)]\n",
    "games = [(1976463, 0, 0)]\n",
    "\n",
    "games = [(1976446,1,1,1,1),(1976447,1,1,1,1),(1976448,1,1,1,1),(1976452,2,1,1,1),(1976454,1,1,1,1),(2004608,2,1,1,1),(2004609,3,2,2,2),(1976449,2,2,2,2),(1976451,2,2,3,2),(1976453,2,2,3,2),(1976455,4,2,3,2),(1976458,2,2,2,2),(1976456,2,2,3,2),(1976457,3,3,3,3),(1976459,3,3,4,3),(1976460,4,3,3,3),(1976461,4,3,4,3),(1976462,3,3,5,3),(1976463,4,3,5,3),(1976464,4,3,4,3),(2004610,5,3,4,3),(1976465,5,3,5,3),(1976468,6,4,6,4),(1976469,6,4,5,4),(1976474,7,5,6,5),(1976473,4,5,6,5),(1976482,5,6,7,6),(2036215,5,7,7,7),(2031329,8,7,7,7),(2031330,6,7,5,7),(2031332,6,7,8,7),(2031333,8,7,9,7),(2031334,6,7,7,7),(2031335,7,8,9,8),(2031336,7,8,9,8),(2031337,7,8,8,8),(2031338,10,8,8,8),(2031340,8,8,6,8),(2031341,7,8,5,8),(2046695,8,8,8,8),(2046696,9,8,10,8),(2046697,9,9,9,9),(2031342,9,9,9,9),(2031343,6,9,10,9),(2031344,10,9,8,9),(2031345,10,9,11,9),(2031346,11,9,10,9),(2031347,10,9,10,9),(2046698,11,10,11,10),(2046700,11,10,12,10),(2046701,11,10,7,10),(2046702,9,10,11,10),(2046703,13,10,12,10),(2046704,12,10,12,10),(2046706,12,10,10,10),(2046707,11,11,14,11),(2046709,12,11,11,11),(2046710,13,11,8,11),(2046711,13,11,12,11),(2046712,12,11,13,11),(2046713,15,11,13,11),(2051763,9,11,13,11),(2053811,14,12,13,12),(2053812,14,12,10,12),(2053813,14,12,14,12),(2053814,16,12,13,12),(2053815,12,12,11,12),(2053816,15,12,14,12),(2053817,15,12,14,12),(2053818,12,13,14,12),(2053819,16,13,13,13),(2053820,16,13,15,13),(2053821,15,13,14,13),(2053822,14,13,17,13),(2053823,13,13,16,13),(2053824,16,13,15,13),(2053825,15,13,17,13),(2056454,15,14,16,14),(2056455,17,14,16,14),(2056457,17,14,17,14),(2056458,16,14,16,14),(2056461,17,14,18,14),(2056462,17,14,18,14),(2056460,18,14,14,14),(2056463,18,15,17,15),(2056464,15,15,18,15),(2056466,19,15,18,15),(2056467,18,15,17,15),(2056469,19,15,19,15),(2056471,18,15,19,15),(2056472,16,15,19,15),(2056473,19,15,19,15),(2065653,20,16,19,16),(2065654,18,16,17,16),(2065655,20,16,21,16),(2065656,20,16,20,16),(2065657,21,17,19,16),(2065658,21,17,18,16),(2065659,19,17,20,16),(2069165,20,16,21,17),(2069166,20,16,21,17),(2069167,20,16,21,17),(2069168,22,17,22,17),(2069169,22,17,21,17),(2069170,20,17,22,17),(2069171,21,17,22,17),(2069172,22,17,20,17),(2069175,23,18,23,18),(2069177,21,18,23,18),(2069179,22,18,24,18),(2069181,21,18,23,18),(2069183,24,18,22,18),(2069184,24,18,22,18),(2069186,24,18,22,18),(2069187,23,18,23,18),(2069191,23,18,24,19),(2069192,24,19,24,19),(2069194,24,19,23,19),(2069196,25,19,25,19),(2069199,25,19,23,19),(2069202,23,19,25,19),(2069203,25,19,25,19),(2069204,24,19,26,19),(2069190,24,19,26,20),(2069193,26,19,27,20),(2069195,26,20,25,20),(2069197,25,20,27,20),(2069198,27,20,26,20),(2069200,26,20,25,20),(2069201,26,20,25,20),(2069205,26,20,24,19),(2069173,26,20,28,21),(2069174,28,21,28,21),(2069176,28,21,28,21),(2069178,28,21,28,21),(2069180,28,21,28,21),(2069182,28,21,27,21),(2069188,27,21,27,21),(2069189,27,20,26,20)]\n",
    "games = [1976463]\n",
    "\n",
    "# Files containing the existing tables stored in disk already\n",
    "# System will extend these tables with the new games\n",
    "file_stats_df = os.path.join(DATA_DIR, \"stats_df.pkl\")\n",
    "file_games_df = os.path.join(DATA_DIR, \"games_df.pkl\")\n",
    "\n",
    "# Set to true to re-compute from scratch all tables\n",
    "reload = True"
   ]
  },
  {
   "cell_type": "markdown",
   "metadata": {},
   "source": [
    "## 2. Compute stat and game tables\n",
    "\n",
    "Now, let us run the system that scrapes the games' data, computes stats and game info, and adds them to the initial tables of stats and games."
   ]
  },
  {
   "cell_type": "code",
   "execution_count": 16,
   "metadata": {},
   "outputs": [
    {
     "name": "stdout",
     "output_type": "stream",
     "text": [
      "Loading initial stats df: data/stats_df.pkl\n",
      "Game 1976463 is already in table\n"
     ]
    }
   ],
   "source": [
    "# Load games from saved files (if any)\n",
    "init_stats_df = None\n",
    "game_df = None\n",
    "if os.path.exists(file_stats_df) and not reload:\n",
    "    # load the stat dataframe already stored as a file\n",
    "    print(f\"Loading initial stats df: {file_stats_df}\")\n",
    "    init_stats_df = pd.read_pickle(file_stats_df)\n",
    "    game_df = pd.read_pickle(file_games_df)\n",
    "    existing_games = init_stats_df.game_id.unique()\n",
    "else:\n",
    "    existing_games = []\n",
    "\n",
    "stats_dfs = [init_stats_df] if init_stats_df is not None else []\n",
    "games_data = []\n",
    "for game in games:\n",
    "    if isinstance(game, tuple):\n",
    "        game_id, game1, round1, game2, round2 = game\n",
    "    else:\n",
    "        game_id = game\n",
    "        game1 = round1 = game2 = round2  = np.nan\n",
    "\n",
    "    if game_id in existing_games:\n",
    "        print(f\"Game {game_id} is already in table\")\n",
    "        continue\n",
    "    print(f\"Computing game {game_id}...\")\n",
    "\n",
    "    # now compute the actual stats for the game\n",
    "    result = bball_stats.build_game_stints_stats_df(game_id)\n",
    "    df = result['stint_stats_df']\n",
    "    team1 = result['team1']\n",
    "    team2 = result['team2']\n",
    "    try:\n",
    "        game_info = tools.get_game_info(game_id)    # extract date of game from HTML\n",
    "    except:\n",
    "        game_info = { \"venue\" : np.nan, \"date\": np.nan}\n",
    "    print(f\"\\t .... done: {team1[0]} ({team1[1]}) vs {team2[0]} ({team2[1]}) on {game_info['date']}\")\n",
    "\n",
    "    # fill game info\n",
    "    df.insert(0, 'game_id', game_id)\n",
    "    df.insert(3, 'game1', game1)\n",
    "    df.insert(4, 'round1', round1)\n",
    "    df.insert(5, 'game2', game2)\n",
    "    df.insert(6, 'round2', round2)\n",
    "    stats_dfs.append(df)\n",
    "\n",
    "    # build game dataframe table\n",
    "    games_data.append({\"game_id\": game_id,\n",
    "                        \"date\" : game_info['date'],\n",
    "                        \"team1\": team1[0], \"team2\": team2[0],\n",
    "                        \"s1\": team1[1], \"s2\": team2[1],\n",
    "                        \"game1\": game1, \"round1\": round1,\n",
    "                        \"game2\": game2, \"round2\": round2,\n",
    "                        \"winner\": 1 if team1[1] > team2[1] else 2,\n",
    "                        \"venue\" : game_info[\"venue\"]}\n",
    "                      )\n",
    "\n",
    "# put all dfs together into a single dataframe\n",
    "stats_df = pd.concat(stats_dfs)\n",
    "stats_df.reset_index(inplace=True, drop=True)\n",
    "stats_df.sample(5)\n",
    "\n",
    "if game_df is not None:\n",
    "    games_df = pd.concat([game_df, pd.DataFrame(games_data)])\n",
    "    games_df.reset_index(inplace=True, drop=True)\n",
    "else:\n",
    "    games_df = pd.DataFrame(games_data)"
   ]
  },
  {
   "cell_type": "markdown",
   "metadata": {},
   "source": [
    "If we want we can do some sanity checks, before saving to disk:"
   ]
  },
  {
   "cell_type": "code",
   "execution_count": 4,
   "metadata": {},
   "outputs": [
    {
     "data": {
      "text/html": [
       "<div>\n",
       "<style scoped>\n",
       "    .dataframe tbody tr th:only-of-type {\n",
       "        vertical-align: middle;\n",
       "    }\n",
       "\n",
       "    .dataframe tbody tr th {\n",
       "        vertical-align: top;\n",
       "    }\n",
       "\n",
       "    .dataframe thead th {\n",
       "        text-align: right;\n",
       "    }\n",
       "</style>\n",
       "<table border=\"1\" class=\"dataframe\">\n",
       "  <thead>\n",
       "    <tr style=\"text-align: right;\">\n",
       "      <th></th>\n",
       "      <th>game_id</th>\n",
       "      <th>date</th>\n",
       "      <th>team1</th>\n",
       "      <th>team2</th>\n",
       "      <th>s1</th>\n",
       "      <th>s2</th>\n",
       "      <th>game_no1</th>\n",
       "      <th>game_no2</th>\n",
       "      <th>winner</th>\n",
       "      <th>venue</th>\n",
       "    </tr>\n",
       "  </thead>\n",
       "  <tbody>\n",
       "    <tr>\n",
       "      <th>0</th>\n",
       "      <td>1976463</td>\n",
       "      <td>2021-12-19</td>\n",
       "      <td>Melbourne United</td>\n",
       "      <td>New Zealand Breakers</td>\n",
       "      <td>83</td>\n",
       "      <td>60</td>\n",
       "      <td>0</td>\n",
       "      <td>0</td>\n",
       "      <td>1</td>\n",
       "      <td>John Cain Arena</td>\n",
       "    </tr>\n",
       "  </tbody>\n",
       "</table>\n",
       "</div>"
      ],
      "text/plain": [
       "   game_id       date             team1                 team2  s1  s2  \\\n",
       "0  1976463 2021-12-19  Melbourne United  New Zealand Breakers  83  60   \n",
       "\n",
       "   game_no1  game_no2  winner            venue  \n",
       "0         0         0       1  John Cain Arena  "
      ]
     },
     "execution_count": 4,
     "metadata": {},
     "output_type": "execute_result"
    }
   ],
   "source": [
    "games_df"
   ]
  },
  {
   "cell_type": "code",
   "execution_count": 13,
   "metadata": {},
   "outputs": [
    {
     "data": {
      "text/html": [
       "<div>\n",
       "<style scoped>\n",
       "    .dataframe tbody tr th:only-of-type {\n",
       "        vertical-align: middle;\n",
       "    }\n",
       "\n",
       "    .dataframe tbody tr th {\n",
       "        vertical-align: top;\n",
       "    }\n",
       "\n",
       "    .dataframe thead th {\n",
       "        text-align: right;\n",
       "    }\n",
       "</style>\n",
       "<table border=\"1\" class=\"dataframe\">\n",
       "  <thead>\n",
       "    <tr style=\"text-align: right;\">\n",
       "      <th></th>\n",
       "      <th>game_id</th>\n",
       "      <th>tno</th>\n",
       "      <th>team</th>\n",
       "      <th>game1</th>\n",
       "      <th>round1</th>\n",
       "      <th>game2</th>\n",
       "      <th>round2</th>\n",
       "      <th>stint</th>\n",
       "      <th>poss</th>\n",
       "      <th>ortg</th>\n",
       "      <th>...</th>\n",
       "      <th>tov_bh_opp</th>\n",
       "      <th>tov_bp_opp</th>\n",
       "      <th>tov_ofoul_opp</th>\n",
       "      <th>tov_3sec_opp</th>\n",
       "      <th>tov_8sec_opp</th>\n",
       "      <th>tov_24sec_opp</th>\n",
       "      <th>opp_fga_blocked_opp</th>\n",
       "      <th>lineup</th>\n",
       "      <th>intervals</th>\n",
       "      <th>mins</th>\n",
       "    </tr>\n",
       "  </thead>\n",
       "  <tbody>\n",
       "    <tr>\n",
       "      <th>3721</th>\n",
       "      <td>2069175</td>\n",
       "      <td>1</td>\n",
       "      <td>Illawarra Hawks</td>\n",
       "      <td>23</td>\n",
       "      <td>18</td>\n",
       "      <td>23</td>\n",
       "      <td>18</td>\n",
       "      <td>5</td>\n",
       "      <td>6.00</td>\n",
       "      <td>83.33</td>\n",
       "      <td>...</td>\n",
       "      <td>1.0</td>\n",
       "      <td>1.0</td>\n",
       "      <td>0.0</td>\n",
       "      <td>0.0</td>\n",
       "      <td>0.0</td>\n",
       "      <td>0.0</td>\n",
       "      <td>0.0</td>\n",
       "      <td>[A. Cleveland, H. Froling, J. Jessup, S. Froli...</td>\n",
       "      <td>[(2, 00:06:18, 00:03:53)]</td>\n",
       "      <td>2.416667</td>\n",
       "    </tr>\n",
       "    <tr>\n",
       "      <th>1118</th>\n",
       "      <td>2031334</td>\n",
       "      <td>1</td>\n",
       "      <td>Adelaide 36ers</td>\n",
       "      <td>6</td>\n",
       "      <td>7</td>\n",
       "      <td>7</td>\n",
       "      <td>7</td>\n",
       "      <td>9</td>\n",
       "      <td>7.64</td>\n",
       "      <td>104.71</td>\n",
       "      <td>...</td>\n",
       "      <td>0.0</td>\n",
       "      <td>0.0</td>\n",
       "      <td>0.0</td>\n",
       "      <td>0.0</td>\n",
       "      <td>0.0</td>\n",
       "      <td>0.0</td>\n",
       "      <td>0.0</td>\n",
       "      <td>[D. Johnson, H. Harris, M. King, M. Mccarron, ...</td>\n",
       "      <td>[(2, 00:04:41, 00:02:33), (3, 00:01:08, 00:00:...</td>\n",
       "      <td>3.266667</td>\n",
       "    </tr>\n",
       "    <tr>\n",
       "      <th>3383</th>\n",
       "      <td>2065658</td>\n",
       "      <td>1</td>\n",
       "      <td>Brisbane Bullets</td>\n",
       "      <td>21</td>\n",
       "      <td>17</td>\n",
       "      <td>18</td>\n",
       "      <td>16</td>\n",
       "      <td>9</td>\n",
       "      <td>5.00</td>\n",
       "      <td>200.00</td>\n",
       "      <td>...</td>\n",
       "      <td>0.0</td>\n",
       "      <td>0.0</td>\n",
       "      <td>0.0</td>\n",
       "      <td>0.0</td>\n",
       "      <td>0.0</td>\n",
       "      <td>0.0</td>\n",
       "      <td>0.0</td>\n",
       "      <td>[A. Drmic, J. Cadee, L. Patterson, R. Franks, ...</td>\n",
       "      <td>[(2, 00:02:42, 00:00:00), (3, 00:10:00, 00:10:...</td>\n",
       "      <td>2.700000</td>\n",
       "    </tr>\n",
       "    <tr>\n",
       "      <th>468</th>\n",
       "      <td>1976457</td>\n",
       "      <td>1</td>\n",
       "      <td>Melbourne United</td>\n",
       "      <td>3</td>\n",
       "      <td>3</td>\n",
       "      <td>3</td>\n",
       "      <td>3</td>\n",
       "      <td>13</td>\n",
       "      <td>2.00</td>\n",
       "      <td>0.00</td>\n",
       "      <td>...</td>\n",
       "      <td>0.0</td>\n",
       "      <td>0.0</td>\n",
       "      <td>0.0</td>\n",
       "      <td>0.0</td>\n",
       "      <td>0.0</td>\n",
       "      <td>0.0</td>\n",
       "      <td>50.0</td>\n",
       "      <td>[C. Agada, C. Goulding, D. Okwera, J. Lual-Acu...</td>\n",
       "      <td>[(3, 00:06:49, 00:06:21)]</td>\n",
       "      <td>0.466667</td>\n",
       "    </tr>\n",
       "    <tr>\n",
       "      <th>797</th>\n",
       "      <td>1976469</td>\n",
       "      <td>1</td>\n",
       "      <td>Sydney Kings</td>\n",
       "      <td>6</td>\n",
       "      <td>4</td>\n",
       "      <td>5</td>\n",
       "      <td>4</td>\n",
       "      <td>4</td>\n",
       "      <td>1.00</td>\n",
       "      <td>0.00</td>\n",
       "      <td>...</td>\n",
       "      <td>1.0</td>\n",
       "      <td>0.0</td>\n",
       "      <td>0.0</td>\n",
       "      <td>0.0</td>\n",
       "      <td>0.0</td>\n",
       "      <td>0.0</td>\n",
       "      <td>NaN</td>\n",
       "      <td>[A. Glover, B. Bayles, D. Vasiljevic, M. Maker...</td>\n",
       "      <td>[(1, 00:01:37, 00:00:38.600000)]</td>\n",
       "      <td>0.966667</td>\n",
       "    </tr>\n",
       "  </tbody>\n",
       "</table>\n",
       "<p>5 rows × 99 columns</p>\n",
       "</div>"
      ],
      "text/plain": [
       "      game_id  tno              team  game1  round1  game2  round2  stint  \\\n",
       "3721  2069175    1   Illawarra Hawks     23      18     23      18      5   \n",
       "1118  2031334    1    Adelaide 36ers      6       7      7       7      9   \n",
       "3383  2065658    1  Brisbane Bullets     21      17     18      16      9   \n",
       "468   1976457    1  Melbourne United      3       3      3       3     13   \n",
       "797   1976469    1      Sydney Kings      6       4      5       4      4   \n",
       "\n",
       "      poss    ortg  ...  tov_bh_opp  tov_bp_opp  tov_ofoul_opp  tov_3sec_opp  \\\n",
       "3721  6.00   83.33  ...         1.0         1.0            0.0           0.0   \n",
       "1118  7.64  104.71  ...         0.0         0.0            0.0           0.0   \n",
       "3383  5.00  200.00  ...         0.0         0.0            0.0           0.0   \n",
       "468   2.00    0.00  ...         0.0         0.0            0.0           0.0   \n",
       "797   1.00    0.00  ...         1.0         0.0            0.0           0.0   \n",
       "\n",
       "      tov_8sec_opp  tov_24sec_opp  opp_fga_blocked_opp  \\\n",
       "3721           0.0            0.0                  0.0   \n",
       "1118           0.0            0.0                  0.0   \n",
       "3383           0.0            0.0                  0.0   \n",
       "468            0.0            0.0                 50.0   \n",
       "797            0.0            0.0                  NaN   \n",
       "\n",
       "                                                 lineup  \\\n",
       "3721  [A. Cleveland, H. Froling, J. Jessup, S. Froli...   \n",
       "1118  [D. Johnson, H. Harris, M. King, M. Mccarron, ...   \n",
       "3383  [A. Drmic, J. Cadee, L. Patterson, R. Franks, ...   \n",
       "468   [C. Agada, C. Goulding, D. Okwera, J. Lual-Acu...   \n",
       "797   [A. Glover, B. Bayles, D. Vasiljevic, M. Maker...   \n",
       "\n",
       "                                              intervals      mins  \n",
       "3721                          [(2, 00:06:18, 00:03:53)]  2.416667  \n",
       "1118  [(2, 00:04:41, 00:02:33), (3, 00:01:08, 00:00:...  3.266667  \n",
       "3383  [(2, 00:02:42, 00:00:00), (3, 00:10:00, 00:10:...  2.700000  \n",
       "468                           [(3, 00:06:49, 00:06:21)]  0.466667  \n",
       "797                    [(1, 00:01:37, 00:00:38.600000)]  0.966667  \n",
       "\n",
       "[5 rows x 99 columns]"
      ]
     },
     "execution_count": 13,
     "metadata": {},
     "output_type": "execute_result"
    }
   ],
   "source": [
    "stats_df.sample(5)\n",
    "# stats_df.loc[4]"
   ]
  },
  {
   "cell_type": "code",
   "execution_count": 5,
   "metadata": {},
   "outputs": [
    {
     "data": {
      "text/plain": [
       "poss         10.88\n",
       "ortg         73.53\n",
       "drtg        101.21\n",
       "poss_opp      9.88\n",
       "ortg_opp    101.21\n",
       "drtg_opp     73.53\n",
       "Name: 41, dtype: object"
      ]
     },
     "execution_count": 5,
     "metadata": {},
     "output_type": "execute_result"
    }
   ],
   "source": [
    "# (ortg, drtg) should mirror (drtg_opp, ortg)\n",
    "stats_df.iloc[41][['poss', 'ortg', 'drtg', \"poss_opp\", \"ortg_opp\", \"drtg_opp\"]]"
   ]
  },
  {
   "cell_type": "markdown",
   "metadata": {},
   "source": [
    "## 3. Save stats and games to files\n",
    "\n",
    "We now save the full dataframes (stats and games) in various formats: binary (pickle), csv, and Excel.\n",
    "\n",
    "This will allows us to re-load that data later to add more games to it quicker."
   ]
  },
  {
   "cell_type": "code",
   "execution_count": 14,
   "metadata": {},
   "outputs": [],
   "source": [
    "\n",
    "import os\n",
    "\n",
    "stats_df.to_pickle(os.path.join(DATA_DIR, \"stats_df.pkl\"))\n",
    "games_df.to_pickle(os.path.join(DATA_DIR, \"games_df.pkl\"))\n",
    "\n",
    "stats_df.to_csv(os.path.join(DATA_DIR, \"stats_df.csv\"))\n",
    "games_df.to_csv(os.path.join(DATA_DIR, \"games_df.csv\"))\n",
    "\n",
    "with pd.ExcelWriter(os.path.join(DATA_DIR, 'stats_df.xlsx')) as writer:\n",
    "    stats_df.to_excel(writer, sheet_name='STATS')\n",
    "    games_df.to_excel(writer, sheet_name='GAMES')\n",
    "games_df.to_excel(os.path.join(DATA_DIR, \"games_df.xlsx\"))\n"
   ]
  },
  {
   "cell_type": "markdown",
   "metadata": {},
   "source": [
    "### 3. Inspection & analysis\n",
    "\n",
    "We use [dtale](https://pypi.org/project/dtale/) package for this."
   ]
  },
  {
   "cell_type": "code",
   "execution_count": 10,
   "metadata": {},
   "outputs": [
    {
     "data": {
      "text/html": [
       "\n",
       "        <iframe\n",
       "            width=\"100%\"\n",
       "            height=\"475\"\n",
       "            src=\"http://Thinkpad-X1:40000/dtale/iframe/1\"\n",
       "            frameborder=\"0\"\n",
       "            allowfullscreen\n",
       "        ></iframe>\n",
       "        "
      ],
      "text/plain": [
       "<IPython.lib.display.IFrame at 0x7fac8458bd30>"
      ]
     },
     "metadata": {},
     "output_type": "display_data"
    },
    {
     "data": {
      "text/plain": []
     },
     "execution_count": 10,
     "metadata": {},
     "output_type": "execute_result"
    }
   ],
   "source": [
    "import dtale\n",
    "\n",
    "dtale.show(stats_df)\n",
    "# dtale.show(stats_df[['tno', 'stint', 'poss', 'ortg', 'drtg', \"poss_opp\", \"ortg_opp\", \"drtg_opp\"]])"
   ]
  }
 ],
 "metadata": {
  "kernelspec": {
   "display_name": "Python 3.8.10 64-bit",
   "language": "python",
   "name": "python3"
  },
  "language_info": {
   "codemirror_mode": {
    "name": "ipython",
    "version": 3
   },
   "file_extension": ".py",
   "mimetype": "text/x-python",
   "name": "python",
   "nbconvert_exporter": "python",
   "pygments_lexer": "ipython3",
   "version": "3.8.10"
  },
  "orig_nbformat": 4,
  "vscode": {
   "interpreter": {
    "hash": "31f2aee4e71d21fbe5cf8b01ff0e069b9275f58929596ceb00d14d90e3e16cd6"
   }
  }
 },
 "nbformat": 4,
 "nbformat_minor": 2
}
