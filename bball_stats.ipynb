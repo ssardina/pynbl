{
 "cells": [
  {
   "cell_type": "markdown",
   "metadata": {},
   "source": [
    "# pyNBL: Basketball Statistic System for Australian NBL\n",
    "\n",
    "[![Binder](https://mybinder.org/badge_logo.svg)](https://mybinder.org/v2/gh/ssardina/pynbl/HEAD)\n",
    "\n",
    "This notebook **incrementally** builds a set of stat tables from NBL Basketball Games:\n",
    "\n",
    "1. A table of games played, with team names, points, venue, etc.\n",
    "2. A stat table of _stint lineups_ (advance) statistics for each game and each team. A **stint** is a lineup of players who play together in different interval periods across the game. This table will contain the stints for each team from the play-by-play data and compute various statistics for those stints.\n",
    "\n",
    "Tables will be saved in CSV and Excel formats as well as in [Pickle format](https://docs.python.org/3/library/pickle.html) for later recovery as Panda DataFrames.\n",
    "\n",
    "\n",
    "The data comes as a raw JSON file using the game id (e.g., `2087737`):\n",
    "\n",
    "https://fibalivestats.dcd.shared.geniussports.com/data/2087737/data.json"
   ]
  },
  {
   "cell_type": "code",
   "execution_count": 8,
   "metadata": {},
   "outputs": [],
   "source": [
    "# Let's first load all required packages...\n",
    "import os\n",
    "import pandas as pd\n",
    "import numpy as np\n",
    "import dtale\n",
    "\n",
    "from config import *\n",
    "import bball_stats\n",
    "import tools\n",
    "\n",
    "# Overwrite default DATA_DIR folder where tables will be dumped\n",
    "DATA_DIR='data-21_22/'\n",
    "\n",
    "# Files containing the existing tables stored in disk already\n",
    "file_stats_df = os.path.join(DATA_DIR, \"stats_df.pkl\")\n",
    "file_games_df = os.path.join(DATA_DIR, \"games_df.pkl\")"
   ]
  },
  {
   "cell_type": "markdown",
   "metadata": {},
   "source": [
    "## 1. Define games to scrape and saved data\n",
    "\n",
    "First, setup the games we want to scrape and compute, as well as the existing data stored in file to append to."
   ]
  },
  {
   "cell_type": "code",
   "execution_count": 12,
   "metadata": {},
   "outputs": [
    {
     "ename": "SyntaxError",
     "evalue": "unmatched ']' (2970848630.py, line 4)",
     "output_type": "error",
     "traceback": [
      "\u001b[0;36m  Input \u001b[0;32mIn [12]\u001b[0;36m\u001b[0m\n\u001b[0;31m    games_21_22 = (1976446, 1), (1976447, 1), (1976448, 1), (1976452, 1), (1976454, 1), (2004608, 1), (2004609, 2), (1976449, 2), (1976451, 2), (1976453, 2), (1976455, 2), (1976458, 2), (1976456, 2), (1976457, 3), (1976459, 3), (1976460, 3), (1976461, 3), (1976462, 3), (1976463, 3), (1976464, 3), (2004610, 3), (1976465, 3), (1976468, 4), (1976469, 4), (1976474, 5), (1976473, 5), (1976482, 6), (2036215, 7), (2031329, 7), (2031330, 7), (2031332, 7), (2031333, 7), (2031334, 7), (2031335, 8), (2031336, 8), (2031337, 8), (2031338, 8), (2031340, 8), (2031341, 8), (2046695, 8), (2046696, 8), (2046697, 9), (2031342, 9), (2031343, 9), (2031344, 9), (2031345, 9), (2031346, 9), (2031347, 9), (2046698, 10), (2046700, 10), (2046701, 10), (2046702, 10), (2046703, 10), (2046704, 10), (2046706, 10), (2046707, 11), (2046709, 11), (2046710, 11), (2046711, 11), (2046712, 11), (2046713, 11), (2051763, 11), (2053811, 12), (2053812, 12), (2053813, 12), (2053814, 12), (2053815, 12), (2053816, 12), (2053817, 12), (2053818, 13), (2053819, 13), (2053820, 13), (2053821, 13), (2053822, 13), (2053823, 13), (2053824, 13), (2053825, 13), (2056454, 14), (2056455, 14), (2056457, 14), (2056458, 14), (2056461, 14), (2056462, 14), (2056460, 14), (2056463, 15), (2056464, 15), (2056466, 15), (2056467, 15), (2056469, 15), (2056471, 15), (2056472, 15), (2056473, 15), (2065653, 16), (2065654, 16), (2065655, 16), (2065656, 16), (2065657, 17), (2065658, 17), (2065659, 17), (2069165, 16), (2069166, 16), (2069167, 16), (2069168, 17), (2069169, 17), (2069170, 17), (2069171, 17), (2069172, 17), (2069175, 18), (2069177, 18), (2069179, 18), (2069181, 18), (2069183, 18), (2069184, 18), (2069186, 18), (2069187, 18), (2069191, 18), (2069192, 19), (2069194, 19), (2069196, 19), (2069199, 19), (2069202, 19), (2069203, 19), (2069204, 19), (2069190, 19), (2069193, 19), (2069195, 20), (2069197, 20), (2069198, 20), (2069200, 20), (2069201, 20), (2069205, 20), (2069173, 20), (2069174, 21), (2069176, 21), (2069178, 21), (2069180, 21), (2069182, 21), (2069188, 21), (2069189, 20)]\u001b[0m\n\u001b[0m                                                                                                                                                                                                                                                                                                                                                                                                                                                                                                                                                                                                                                                                                                                                                                                                                                                                                                                                                                                                                                                                                                                                                                                                                                                                                                                                                                                                                                                                                                                                                                                                                                                                                                                                                                                                                                                                                                                                                                                                                                                                                                                                     ^\u001b[0m\n\u001b[0;31mSyntaxError\u001b[0m\u001b[0;31m:\u001b[0m unmatched ']'\n"
     ]
    }
   ],
   "source": [
    "# Games to be computed\n",
    "\n",
    "#   Format: (game id, round number)\n",
    "games_21_22 = [(1976446, 1), (1976447, 1), (1976448, 1), (1976452, 1), (1976454, 1), (2004608, 1), (2004609, 2), (1976449, 2), (1976451, 2), (1976453, 2), (1976455, 2), (1976458, 2), (1976456, 2), (1976457, 3), (1976459, 3), (1976460, 3), (1976461, 3), (1976462, 3), (1976463, 3), (1976464, 3), (2004610, 3), (1976465, 3), (1976468, 4), (1976469, 4), (1976474, 5), (1976473, 5), (1976482, 6), (2036215, 7), (2031329, 7), (2031330, 7), (2031332, 7), (2031333, 7), (2031334, 7), (2031335, 8), (2031336, 8), (2031337, 8), (2031338, 8), (2031340, 8), (2031341, 8), (2046695, 8), (2046696, 8), (2046697, 9), (2031342, 9), (2031343, 9), (2031344, 9), (2031345, 9), (2031346, 9), (2031347, 9), (2046698, 10), (2046700, 10), (2046701, 10), (2046702, 10), (2046703, 10), (2046704, 10), (2046706, 10), (2046707, 11), (2046709, 11), (2046710, 11), (2046711, 11), (2046712, 11), (2046713, 11), (2051763, 11), (2053811, 12), (2053812, 12), (2053813, 12), (2053814, 12), (2053815, 12), (2053816, 12), (2053817, 12), (2053818, 13), (2053819, 13), (2053820, 13), (2053821, 13), (2053822, 13), (2053823, 13), (2053824, 13), (2053825, 13), (2056454, 14), (2056455, 14), (2056457, 14), (2056458, 14), (2056461, 14), (2056462, 14), (2056460, 14), (2056463, 15), (2056464, 15), (2056466, 15), (2056467, 15), (2056469, 15), (2056471, 15), (2056472, 15), (2056473, 15), (2065653, 16), (2065654, 16), (2065655, 16), (2065656, 16), (2065657, 17), (2065658, 17), (2065659, 17), (2069165, 16), (2069166, 16), (2069167, 16), (2069168, 17), (2069169, 17), (2069170, 17), (2069171, 17), (2069172, 17), (2069175, 18), (2069177, 18), (2069179, 18), (2069181, 18), (2069183, 18), (2069184, 18), (2069186, 18), (2069187, 18), (2069191, 18), (2069192, 19), (2069194, 19), (2069196, 19), (2069199, 19), (2069202, 19), (2069203, 19), (2069204, 19), (2069190, 19), (2069193, 19), (2069195, 20), (2069197, 20), (2069198, 20), (2069200, 20), (2069201, 20), (2069205, 20), (2069173, 20), (2069174, 21), (2069176, 21), (2069178, 21), (2069180, 21), (2069182, 21), (2069188, 21), (2069189, 20)]\n",
    "\n",
    "games_22_23 = [(2141127, 0), (2135117, 0), (2134935, 0), (2141126, 0), (2135116, 0), (2122060, 0), (2122059, 0)]\n",
    "\n",
    "# games = [1976463]   # game with no \"bugs\" in subs\n",
    "games = games_21_22\n",
    "\n",
    "\n",
    "# Set to True to re-compute from scratch all tables\n",
    "reload = False"
   ]
  },
  {
   "cell_type": "markdown",
   "metadata": {},
   "source": [
    "## 2. Compute stat and game tables\n",
    "\n",
    "Now, let us run the system that scrapes the games' data, computes stats and game info, and adds them to the initial tables of stats and games.\n",
    "\n",
    "We start by loading all saved previous games, if any, as we want to append to that database (and we don't want to recompute them)."
   ]
  },
  {
   "cell_type": "code",
   "execution_count": 7,
   "metadata": {},
   "outputs": [
    {
     "name": "stdout",
     "output_type": "stream",
     "text": [
      "Loading initial stats df: data-22_23/stats_df.pkl\n"
     ]
    },
    {
     "data": {
      "text/html": [
       "<div>\n",
       "<style scoped>\n",
       "    .dataframe tbody tr th:only-of-type {\n",
       "        vertical-align: middle;\n",
       "    }\n",
       "\n",
       "    .dataframe tbody tr th {\n",
       "        vertical-align: top;\n",
       "    }\n",
       "\n",
       "    .dataframe thead th {\n",
       "        text-align: right;\n",
       "    }\n",
       "</style>\n",
       "<table border=\"1\" class=\"dataframe\">\n",
       "  <thead>\n",
       "    <tr style=\"text-align: right;\">\n",
       "      <th></th>\n",
       "      <th>game_id</th>\n",
       "      <th>tno</th>\n",
       "      <th>team</th>\n",
       "      <th>game1</th>\n",
       "      <th>round1</th>\n",
       "      <th>game2</th>\n",
       "      <th>round2</th>\n",
       "      <th>stint</th>\n",
       "      <th>poss</th>\n",
       "      <th>ortg</th>\n",
       "      <th>...</th>\n",
       "      <th>tov_bh_opp</th>\n",
       "      <th>tov_bp_opp</th>\n",
       "      <th>tov_ofoul_opp</th>\n",
       "      <th>tov_3sec_opp</th>\n",
       "      <th>tov_8sec_opp</th>\n",
       "      <th>tov_24sec_opp</th>\n",
       "      <th>opp_fga_blocked_opp</th>\n",
       "      <th>lineup</th>\n",
       "      <th>intervals</th>\n",
       "      <th>mins</th>\n",
       "    </tr>\n",
       "  </thead>\n",
       "  <tbody>\n",
       "    <tr>\n",
       "      <th>19</th>\n",
       "      <td>2141127</td>\n",
       "      <td>1</td>\n",
       "      <td>Perth Wildcats</td>\n",
       "      <td>0</td>\n",
       "      <td>0</td>\n",
       "      <td>0</td>\n",
       "      <td>0</td>\n",
       "      <td>20</td>\n",
       "      <td>4.0</td>\n",
       "      <td>0.00</td>\n",
       "      <td>...</td>\n",
       "      <td>0.0</td>\n",
       "      <td>0.0</td>\n",
       "      <td>1.0</td>\n",
       "      <td>0.0</td>\n",
       "      <td>0.0</td>\n",
       "      <td>0.0</td>\n",
       "      <td>0.0</td>\n",
       "      <td>[B. Cotton, B. Manek, L. Travers, M. Norton, T...</td>\n",
       "      <td>[(4, 00:08:05, 00:06:16)]</td>\n",
       "      <td>1.816667</td>\n",
       "    </tr>\n",
       "    <tr>\n",
       "      <th>165</th>\n",
       "      <td>2135116</td>\n",
       "      <td>2</td>\n",
       "      <td>Brisbane Bullets</td>\n",
       "      <td>0</td>\n",
       "      <td>0</td>\n",
       "      <td>0</td>\n",
       "      <td>0</td>\n",
       "      <td>2</td>\n",
       "      <td>5.0</td>\n",
       "      <td>180.00</td>\n",
       "      <td>...</td>\n",
       "      <td>0.0</td>\n",
       "      <td>0.0</td>\n",
       "      <td>0.0</td>\n",
       "      <td>0.0</td>\n",
       "      <td>0.0</td>\n",
       "      <td>0.0</td>\n",
       "      <td>0.0</td>\n",
       "      <td>[D. Mitchell, D. Walker, H. Froling, J. Cadee,...</td>\n",
       "      <td>[(1, 00:07:49, 00:05:50), (3, 00:06:23, 00:06:...</td>\n",
       "      <td>2.300000</td>\n",
       "    </tr>\n",
       "    <tr>\n",
       "      <th>105</th>\n",
       "      <td>2134935</td>\n",
       "      <td>2</td>\n",
       "      <td>Illawarra Hawks</td>\n",
       "      <td>0</td>\n",
       "      <td>0</td>\n",
       "      <td>0</td>\n",
       "      <td>0</td>\n",
       "      <td>2</td>\n",
       "      <td>6.0</td>\n",
       "      <td>116.67</td>\n",
       "      <td>...</td>\n",
       "      <td>0.0</td>\n",
       "      <td>0.0</td>\n",
       "      <td>1.0</td>\n",
       "      <td>0.0</td>\n",
       "      <td>0.0</td>\n",
       "      <td>0.0</td>\n",
       "      <td>20.0</td>\n",
       "      <td>[A. Mudronja, D. Deng, J. Robinson, S. Froling...</td>\n",
       "      <td>[(1, 00:05:59, 00:05:08), (2, 00:07:31, 00:05:...</td>\n",
       "      <td>3.800000</td>\n",
       "    </tr>\n",
       "  </tbody>\n",
       "</table>\n",
       "<p>3 rows × 103 columns</p>\n",
       "</div>"
      ],
      "text/plain": [
       "     game_id  tno              team  game1  round1  game2  round2  stint  \\\n",
       "19   2141127    1    Perth Wildcats      0       0      0       0     20   \n",
       "165  2135116    2  Brisbane Bullets      0       0      0       0      2   \n",
       "105  2134935    2   Illawarra Hawks      0       0      0       0      2   \n",
       "\n",
       "     poss    ortg  ...  tov_bh_opp  tov_bp_opp  tov_ofoul_opp  tov_3sec_opp  \\\n",
       "19    4.0    0.00  ...         0.0         0.0            1.0           0.0   \n",
       "165   5.0  180.00  ...         0.0         0.0            0.0           0.0   \n",
       "105   6.0  116.67  ...         0.0         0.0            1.0           0.0   \n",
       "\n",
       "     tov_8sec_opp  tov_24sec_opp  opp_fga_blocked_opp  \\\n",
       "19            0.0            0.0                  0.0   \n",
       "165           0.0            0.0                  0.0   \n",
       "105           0.0            0.0                 20.0   \n",
       "\n",
       "                                                lineup  \\\n",
       "19   [B. Cotton, B. Manek, L. Travers, M. Norton, T...   \n",
       "165  [D. Mitchell, D. Walker, H. Froling, J. Cadee,...   \n",
       "105  [A. Mudronja, D. Deng, J. Robinson, S. Froling...   \n",
       "\n",
       "                                             intervals      mins  \n",
       "19                           [(4, 00:08:05, 00:06:16)]  1.816667  \n",
       "165  [(1, 00:07:49, 00:05:50), (3, 00:06:23, 00:06:...  2.300000  \n",
       "105  [(1, 00:05:59, 00:05:08), (2, 00:07:31, 00:05:...  3.800000  \n",
       "\n",
       "[3 rows x 103 columns]"
      ]
     },
     "execution_count": 7,
     "metadata": {},
     "output_type": "execute_result"
    }
   ],
   "source": [
    "# Load tables from saved files (if any)\n",
    "init_stats_df = None\n",
    "game_df = None\n",
    "if os.path.exists(file_stats_df) and not reload:\n",
    "    # load the stat dataframe already stored as a file\n",
    "    print(f\"Loading initial stats df: {file_stats_df}\")\n",
    "    init_stats_df = pd.read_pickle(file_stats_df)\n",
    "    game_df = pd.read_pickle(file_games_df)\n",
    "    existing_games = init_stats_df.game_id.unique()\n",
    "else:\n",
    "    existing_games = []\n",
    "\n",
    "init_stats_df.sample(3)\n",
    "# init_stats_df['lineup'].apply(lambda x: len(x) > 5)\n",
    "# init_stats_df.loc[5,'lineup']\n",
    "# init_stats_df.loc[5]"
   ]
  },
  {
   "cell_type": "markdown",
   "metadata": {},
   "source": [
    "It is now time to process each game:"
   ]
  },
  {
   "cell_type": "code",
   "execution_count": null,
   "metadata": {},
   "outputs": [],
   "source": [
    "stats_dfs = [init_stats_df] if init_stats_df is not None else []\n",
    "games_data = []\n",
    "for game in games:\n",
    "    # check if a game item includes game and round numbers for the two teams; otherwise assign np.nan\n",
    "    if isinstance(game, tuple):\n",
    "        game_id, game1, round1, game2, round2 = game\n",
    "    else:\n",
    "        game_id = game\n",
    "        game1 = round1 = game2 = round2  = np.nan\n",
    "\n",
    "    # don't scrape game data if already loaded from file\n",
    "    if game_id in existing_games:\n",
    "        print(f\"Game {game_id} is already in table\")\n",
    "        continue\n",
    "    print(f\"Computing game {game_id}...\")\n",
    "\n",
    "    # MAIN STEP: scrape and compute the actual stats for the game\n",
    "    result = bball_stats.build_game_stints_stats_df(game_id)\n",
    "    df = result['stint_stats_df']   #  this is basically what we care, the stint stats\n",
    "    team1, team2 = result['teams']\n",
    "\n",
    "    # extract date of game from HTML page\n",
    "    try:\n",
    "        game_info = tools.get_game_info(game_id)\n",
    "    except:\n",
    "        game_info = { \"venue\" : np.nan, \"date\": np.nan}\n",
    "    print(f\"\\t .... done: {team1[0]} ({team1[1]}) vs {team2[0]} ({team2[1]}) on {game_info['date']}\")\n",
    "\n",
    "    # fill game info\n",
    "    df.insert(0, 'game_id', game_id)\n",
    "    df.insert(3, 'game1', game1)\n",
    "    df.insert(4, 'round1', round1)\n",
    "    df.insert(5, 'game2', game2)\n",
    "    df.insert(6, 'round2', round2)\n",
    "    stats_dfs.append(df)\n",
    "\n",
    "    # build game dataframe table\n",
    "    games_data.append({\"game_id\": game_id,\n",
    "                        \"date\" : game_info['date'],\n",
    "                        \"team1\": team1[0], \"team2\": team2[0],\n",
    "                        \"s1\": team1[1], \"s2\": team2[1],\n",
    "                        \"game1\": game1, \"round1\": round1,\n",
    "                        \"game2\": game2, \"round2\": round2,\n",
    "                        \"winner\": 1 if team1[1] > team2[1] else 2,\n",
    "                        \"venue\" : game_info[\"venue\"]}\n",
    "                      )\n",
    "\n",
    "# put all dfs for each game together into a single dataframe\n",
    "stats_df = pd.concat(stats_dfs)\n",
    "stats_df.reset_index(inplace=True, drop=True)\n",
    "stats_df.sample(5)\n",
    "\n",
    "if game_df is not None:\n",
    "    games_df = pd.concat([game_df, pd.DataFrame(games_data)])\n",
    "    games_df.reset_index(inplace=True, drop=True)\n",
    "else:\n",
    "    games_df = pd.DataFrame(games_data)\n",
    "\n",
    "print(\"All games extracted!\")"
   ]
  },
  {
   "cell_type": "markdown",
   "metadata": {},
   "source": [
    "If we want we can do some sanity checks, before saving to disk:"
   ]
  },
  {
   "cell_type": "code",
   "execution_count": null,
   "metadata": {},
   "outputs": [],
   "source": [
    "dtale.show(games_df)"
   ]
  },
  {
   "cell_type": "code",
   "execution_count": null,
   "metadata": {},
   "outputs": [],
   "source": [
    "import random\n",
    "print(\"The shape of stats_df is:\", stats_df.shape)\n",
    "stats_cols = list(stats_df.columns[8:53])\n",
    "print(\"Stats cols:\", stats_cols)\n",
    "\n",
    "# build columns we want to show\n",
    "cols = ['game_id' , 'tno', 'team', 'stint']\n",
    "rnd_cols = random.sample(stats_cols, 8)\n",
    "rnd_cols.extend([f\"{x}_opp\" for x in rnd_cols])\n",
    "cols.extend(rnd_cols)\n",
    "\n",
    "# show some sample of stats computed\n",
    "stats_df[cols].sample(5)"
   ]
  },
  {
   "cell_type": "markdown",
   "metadata": {},
   "source": [
    "Sanity check that `(ortg, drtg)` (offensive/defensive rate goal) should mirror `(drtg_opp, ortg_opp)` (opponent offensive/defensive rate goal)):"
   ]
  },
  {
   "cell_type": "code",
   "execution_count": null,
   "metadata": {},
   "outputs": [],
   "source": [
    "# (ortg, drtg) should mirror (drtg_opp, ortg_opp)\n",
    "stats_df.iloc[4][['game_id' , 'team', 'poss', 'ortg', 'drtg', \"poss_opp\", \"ortg_opp\", \"drtg_opp\"]]"
   ]
  },
  {
   "cell_type": "markdown",
   "metadata": {},
   "source": [
    "## 3. Save stats and games to files\n",
    "\n",
    "We now save the full dataframes (stats and games) in various formats: binary (pickle), csv, and Excel.\n",
    "\n",
    "This will allows us to re-load that data later to add more games to it quicker."
   ]
  },
  {
   "cell_type": "code",
   "execution_count": null,
   "metadata": {},
   "outputs": [],
   "source": [
    "import datetime\n",
    "import os\n",
    "\n",
    "stats_df.to_pickle(os.path.join(DATA_DIR, \"stats_df.pkl\"))\n",
    "games_df.to_pickle(os.path.join(DATA_DIR, \"games_df.pkl\"))\n",
    "\n",
    "stats_df.to_csv(os.path.join(DATA_DIR, \"stats_df.csv\"), index=False)\n",
    "games_df.to_csv(os.path.join(DATA_DIR, \"games_df.csv\"), index=False)\n",
    "\n",
    "with pd.ExcelWriter(os.path.join(DATA_DIR, 'stats_df.xlsx')) as writer:\n",
    "    stats_df.to_excel(writer, sheet_name='STATS', index=False)\n",
    "    games_df.to_excel(writer, sheet_name='GAMES', index=False)\n",
    "games_df.to_excel(os.path.join(DATA_DIR, \"games_df.xlsx\"))\n",
    "\n",
    "\n",
    "now = datetime.datetime.now() # current date and time\n",
    "date_time = now.strftime(\"%m/%d/%Y, %H:%M:%S\")\n",
    "print(f\"Finished saving at time: {date_time}\")"
   ]
  },
  {
   "cell_type": "markdown",
   "metadata": {},
   "source": [
    "## 4. Inspection & analysis\n",
    "\n",
    "We use [dtale](https://pypi.org/project/dtale/) package for this."
   ]
  },
  {
   "cell_type": "code",
   "execution_count": null,
   "metadata": {},
   "outputs": [],
   "source": [
    "dtale.show(stats_df)\n",
    "# dtale.show(stats_df[['tno', 'stint', 'poss', 'ortg', 'drtg', \"poss_opp\", \"ortg_opp\", \"drtg_opp\"]])"
   ]
  },
  {
   "cell_type": "markdown",
   "metadata": {},
   "source": [
    "## 5. Some checks..."
   ]
  },
  {
   "cell_type": "markdown",
   "metadata": {},
   "source": [
    "Check if a stint lineup has more than 5 players! It could happen:\n",
    "\n",
    "1. Game 2031329, player H. Besson comes out (wrongly?) at 3rd period min 10:00 but he keeps playing and then goes out again at 7:33."
   ]
  },
  {
   "cell_type": "code",
   "execution_count": null,
   "metadata": {},
   "outputs": [],
   "source": [
    "stats_df.shape\n",
    "mask = stats_df['lineup'].apply(lambda x: len(x) != 5)\n",
    "stats_df[mask]\n",
    "\n",
    "# stats_df.iloc[941][['game_id', 'lineup']]"
   ]
  }
 ],
 "metadata": {
  "kernelspec": {
   "display_name": "Python 3.10.7 ('p10')",
   "language": "python",
   "name": "python3"
  },
  "language_info": {
   "codemirror_mode": {
    "name": "ipython",
    "version": 3
   },
   "file_extension": ".py",
   "mimetype": "text/x-python",
   "name": "python",
   "nbconvert_exporter": "python",
   "pygments_lexer": "ipython3",
   "version": "3.10.7"
  },
  "orig_nbformat": 4,
  "vscode": {
   "interpreter": {
    "hash": "bba08d008a084c0b9f453daa67c429f78b2a7511c43dcbed9cf62fe0b7ddf753"
   }
  }
 },
 "nbformat": 4,
 "nbformat_minor": 2
}
