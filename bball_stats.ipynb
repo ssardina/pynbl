{
 "cells": [
  {
   "cell_type": "markdown",
   "metadata": {},
   "source": [
    "# BSS-AUS: Basketball Statistic System (AUS)\n",
    "\n",
    "This system allows to **incrementally** build a database of _stint_ (advance) statistics for each game and each team.\n",
    "\n",
    "A **stint** is a lineup of players who play together in different interval periods across the game. The system will build the stints for each team from the play-by-play data and compute various statistics.\n",
    "\n",
    "The data comes as a raw JSON file:\n",
    "\n",
    "https://fibalivestats.dcd.shared.geniussports.com/data/2087737/data.json"
   ]
  },
  {
   "cell_type": "code",
   "execution_count": 1,
   "metadata": {},
   "outputs": [],
   "source": [
    "# Let's first load all required packages...\n",
    "import os\n",
    "import pandas as pd\n",
    "\n",
    "from config import *\n",
    "import bball_stats\n",
    "import tools"
   ]
  },
  {
   "cell_type": "markdown",
   "metadata": {},
   "source": [
    "## 1. Compute stat tables for various games\n"
   ]
  },
  {
   "cell_type": "markdown",
   "metadata": {},
   "source": [
    "## 1. Define games to scrape and saved data\n",
    "\n",
    "First, setup the games we want to scrape and compute, as well as the existing data stored in file to append to."
   ]
  },
  {
   "cell_type": "code",
   "execution_count": 2,
   "metadata": {},
   "outputs": [],
   "source": [
    "# games to be computed\n",
    "# format: (game id, game no for team 1, game no for team 2)\n",
    "games = [(1999318, 1, 1), (2087737, 2, 2), (2090351, 3, 3)]\n",
    "\n",
    "reload = True\n",
    "file_stats_df = os.path.join(DATA_DIR, \"stats_df.pkl\")\n",
    "file_games_df = os.path.join(DATA_DIR, \"games_df.pkl\")"
   ]
  },
  {
   "cell_type": "markdown",
   "metadata": {},
   "source": [
    "## 2. Compute stat and game tables\n",
    "\n",
    "Now, let us run the system that scrapes the games' data, compute stats and game info, and adds them to the initial tables of stats and games."
   ]
  },
  {
   "cell_type": "code",
   "execution_count": 14,
   "metadata": {},
   "outputs": [
    {
     "name": "stdout",
     "output_type": "stream",
     "text": [
      "Computing game 1999318...\n",
      "====> Game Melbourne United (United) vs New Zealand Breakers (Breakers)\n",
      "Play-by-play df for game 1999318: (644, 18)\n",
      "Starters for Melbourne United: {'M. Peatling', 'M. Dellavedova', 'C. Agada', 'C. Goulding', 'J. Lual-Acuil'}\n",
      "Starters for New Zealand Breakers: {'H. Besson', 'T. Abercrombie', 'P. Siva', 'R. Loe', 'F. Delany'}\n",
      "\t .... done: Melbourne United (90) vs New Zealand Breakers (84) on {'venue': 'Melbourne Sports & Aquatic Centre', 'date': datetime.datetime(2021, 11, 13, 0, 0)}\n",
      "Computing game 2087737...\n",
      "====> Game Melbourne United (United) vs Tasmania JackJumpers (JackJumpers)\n",
      "Play-by-play df for game 2087737: (566, 18)\n",
      "Starters for Melbourne United: {'J. Lual-Acuil Jr', 'S. Ili', 'M. Dellavedova', 'C. Agada', 'J. White'}\n",
      "Starters for Tasmania JackJumpers: {'J. Magette', 'F. Krslovic', 'J. Mcveigh', 'J. Adams', 'M. Kenyon'}\n",
      "\t .... done: Melbourne United (73) vs Tasmania JackJumpers (76) on {'venue': 'John Cain Arena', 'date': datetime.datetime(2022, 5, 2, 0, 0)}\n",
      "Computing game 2090351...\n",
      "====> Game Tasmania JackJumpers (JackJumpers) vs Sydney Kings (Kings)\n",
      "Play-by-play df for game 2090351: (552, 18)\n",
      "Starters for Tasmania JackJumpers: {'J. Magette', 'F. Krslovic', 'J. Mcveigh', 'J. Adams', 'M. Kenyon'}\n",
      "Starters for Sydney Kings: {'D. Vasiljevic', 'W. Swaka Lo Buluk', 'X. Cooks', 'I. Clark', 'J. Martin'}\n",
      "\t .... done: Tasmania JackJumpers (86) vs Sydney Kings (90) on {'venue': 'MyState Bank Arena', 'date': datetime.datetime(2022, 5, 8, 0, 0)}\n"
     ]
    }
   ],
   "source": [
    "init_stats_df = None\n",
    "game_df = None\n",
    "if os.path.exists(file_stats_df) and not reload:\n",
    "    # load the stat dataframe already stored as a file\n",
    "    print(f\"Loading initial stats df: {file_stats_df}\")\n",
    "    init_stats_df = pd.read_pickle(file_stats_df)\n",
    "    game_df = pd.read_pickle(file_games_df)\n",
    "    existing_games = init_stats_df.game_id.unique()\n",
    "else:\n",
    "    existing_games = []\n",
    "\n",
    "stats_dfs = [init_stats_df] if init_stats_df is not None else []\n",
    "games_data = []\n",
    "for game in games:\n",
    "    game_id, game_no1, game_no2 = game\n",
    "    if game_id in existing_games:\n",
    "        print(f\"Game {game_id} is already in table\")\n",
    "        continue\n",
    "    print(f\"Computing game {game_id}...\")\n",
    "\n",
    "    # now compute the actual stats for the game\n",
    "    df, team1, team2 = bball_stats.build_game_stints_stats_df(game_id)\n",
    "    date_game = tools.get_game_info(game_id)    # extract date of game from HTML\n",
    "    print(f\"\\t .... done: {team1[0]} ({team1[1]}) vs {team2[0]} ({team2[1]}) on {date_game}\")\n",
    "\n",
    "    # fill game info\n",
    "    df.insert(0, 'game_id', game_id)\n",
    "    df.insert(3, 'game_no1', game_no1)\n",
    "    df.insert(4, 'game_no2', game_no2)\n",
    "    stats_dfs.append(df)\n",
    "\n",
    "    # build game dataframe table\n",
    "    games_data.append({'game_id': game_id,\n",
    "                       \"date\" : date_game['date'],\n",
    "                       \"team1\": team1[0], \"team2\": team2[0],\n",
    "                       \"s1\": team1[1], \"s2\": team2[1],\n",
    "                       \"game_no1\": game_no2, \"game_no2\": game_no2,\n",
    "                       \"winner\": 1 if team1[1] > team2[1] else 2,\n",
    "                        \"venue\" : date_game[\"venue\"]}\n",
    "                      )\n",
    "\n",
    "# put all dfs together into a single dataframe\n",
    "stats_df = pd.concat(stats_dfs)\n",
    "stats_df.reset_index(inplace=True, drop=True)\n",
    "stats_df.sample(5)\n",
    "\n",
    "if game_df is not None:\n",
    "    games_df = pd.concat([game_df, pd.DataFrame(games_data)])\n",
    "    games_df.reset_index(inplace=True, drop=True)\n",
    "else:\n",
    "    games_df = pd.DataFrame(games_data)"
   ]
  },
  {
   "cell_type": "markdown",
   "metadata": {},
   "source": [
    "If we want we can do some sanity checks, before saving to disk:"
   ]
  },
  {
   "cell_type": "code",
   "execution_count": 10,
   "metadata": {},
   "outputs": [
    {
     "data": {
      "text/html": [
       "<div>\n",
       "<style scoped>\n",
       "    .dataframe tbody tr th:only-of-type {\n",
       "        vertical-align: middle;\n",
       "    }\n",
       "\n",
       "    .dataframe tbody tr th {\n",
       "        vertical-align: top;\n",
       "    }\n",
       "\n",
       "    .dataframe thead th {\n",
       "        text-align: right;\n",
       "    }\n",
       "</style>\n",
       "<table border=\"1\" class=\"dataframe\">\n",
       "  <thead>\n",
       "    <tr style=\"text-align: right;\">\n",
       "      <th></th>\n",
       "      <th>game_id</th>\n",
       "      <th>date</th>\n",
       "      <th>team1</th>\n",
       "      <th>team2</th>\n",
       "      <th>s1</th>\n",
       "      <th>s2</th>\n",
       "      <th>game_no1</th>\n",
       "      <th>game_no2</th>\n",
       "      <th>winner</th>\n",
       "    </tr>\n",
       "  </thead>\n",
       "  <tbody>\n",
       "    <tr>\n",
       "      <th>0</th>\n",
       "      <td>1999318</td>\n",
       "      <td>{'venue': 'Melbourne Sports &amp; Aquatic Centre',...</td>\n",
       "      <td>Melbourne United</td>\n",
       "      <td>New Zealand Breakers</td>\n",
       "      <td>90</td>\n",
       "      <td>84</td>\n",
       "      <td>1</td>\n",
       "      <td>1</td>\n",
       "      <td>1</td>\n",
       "    </tr>\n",
       "    <tr>\n",
       "      <th>1</th>\n",
       "      <td>2087737</td>\n",
       "      <td>{'venue': 'John Cain Arena', 'date': 2022-05-0...</td>\n",
       "      <td>Melbourne United</td>\n",
       "      <td>Tasmania JackJumpers</td>\n",
       "      <td>73</td>\n",
       "      <td>76</td>\n",
       "      <td>2</td>\n",
       "      <td>2</td>\n",
       "      <td>2</td>\n",
       "    </tr>\n",
       "    <tr>\n",
       "      <th>2</th>\n",
       "      <td>2090351</td>\n",
       "      <td>{'venue': 'MyState Bank Arena', 'date': 2022-0...</td>\n",
       "      <td>Tasmania JackJumpers</td>\n",
       "      <td>Sydney Kings</td>\n",
       "      <td>86</td>\n",
       "      <td>90</td>\n",
       "      <td>3</td>\n",
       "      <td>3</td>\n",
       "      <td>2</td>\n",
       "    </tr>\n",
       "  </tbody>\n",
       "</table>\n",
       "</div>"
      ],
      "text/plain": [
       "   game_id                                               date  \\\n",
       "0  1999318  {'venue': 'Melbourne Sports & Aquatic Centre',...   \n",
       "1  2087737  {'venue': 'John Cain Arena', 'date': 2022-05-0...   \n",
       "2  2090351  {'venue': 'MyState Bank Arena', 'date': 2022-0...   \n",
       "\n",
       "                  team1                 team2  s1  s2  game_no1  game_no2  \\\n",
       "0      Melbourne United  New Zealand Breakers  90  84         1         1   \n",
       "1      Melbourne United  Tasmania JackJumpers  73  76         2         2   \n",
       "2  Tasmania JackJumpers          Sydney Kings  86  90         3         3   \n",
       "\n",
       "   winner  \n",
       "0       1  \n",
       "1       2  \n",
       "2       2  "
      ]
     },
     "execution_count": 10,
     "metadata": {},
     "output_type": "execute_result"
    }
   ],
   "source": [
    "# Check the two df computed\n",
    "games_df\n",
    "# stats_df\n",
    "# stats_df.loc[4]"
   ]
  },
  {
   "cell_type": "code",
   "execution_count": 5,
   "metadata": {},
   "outputs": [
    {
     "data": {
      "text/plain": [
       "poss         10.88\n",
       "ortg         73.53\n",
       "drtg        101.21\n",
       "poss_opp      9.88\n",
       "ortg_opp    101.21\n",
       "drtg_opp     73.53\n",
       "Name: 41, dtype: object"
      ]
     },
     "execution_count": 5,
     "metadata": {},
     "output_type": "execute_result"
    }
   ],
   "source": [
    "# (ortg, drtg) should mirror (drtg_opp, ortg)\n",
    "stats_df.iloc[41][['poss', 'ortg', 'drtg', \"poss_opp\", \"ortg_opp\", \"drtg_opp\"]]"
   ]
  },
  {
   "cell_type": "markdown",
   "metadata": {},
   "source": [
    "## 3. Save stats and games to files\n",
    "\n",
    "We now save the full dataframes (stats and games) in various formats: binary (pickle), csv, and Excel.\n",
    "\n",
    "This will allows us to re-load that data later to add more games to it quicker."
   ]
  },
  {
   "cell_type": "code",
   "execution_count": 6,
   "metadata": {},
   "outputs": [],
   "source": [
    "\n",
    "import os\n",
    "\n",
    "stats_df.to_pickle(os.path.join(DATA_DIR, \"stats_df.pkl\"))\n",
    "games_df.to_pickle(os.path.join(DATA_DIR, \"games_df.pkl\"))\n",
    "\n",
    "stats_df.to_csv(os.path.join(DATA_DIR, \"stats_df.csv\"))\n",
    "games_df.to_csv(os.path.join(DATA_DIR, \"games_df.csv\"))\n",
    "\n",
    "with pd.ExcelWriter(os.path.join(DATA_DIR, 'stats_df.xlsx')) as writer:\n",
    "    stats_df.to_excel(writer, sheet_name='STATS')\n",
    "    games_df.to_excel(writer, sheet_name='GAMES')\n",
    "games_df.to_excel(os.path.join(DATA_DIR, \"games_df.xlsx\"))\n"
   ]
  },
  {
   "cell_type": "markdown",
   "metadata": {},
   "source": [
    "### 3. Inspection & analysis\n",
    "\n",
    "We use [dtale](https://pypi.org/project/dtale/) package for this."
   ]
  },
  {
   "cell_type": "code",
   "execution_count": 7,
   "metadata": {},
   "outputs": [
    {
     "data": {
      "text/html": [
       "\n",
       "        <iframe\n",
       "            width=\"100%\"\n",
       "            height=\"475\"\n",
       "            src=\"http://Thinkpad-X1:40000/dtale/iframe/1\"\n",
       "            frameborder=\"0\"\n",
       "            allowfullscreen\n",
       "        ></iframe>\n",
       "        "
      ],
      "text/plain": [
       "<IPython.lib.display.IFrame at 0x7f8bd3bd8ac0>"
      ]
     },
     "metadata": {},
     "output_type": "display_data"
    },
    {
     "data": {
      "text/plain": []
     },
     "execution_count": 7,
     "metadata": {},
     "output_type": "execute_result"
    }
   ],
   "source": [
    "import dtale\n",
    "\n",
    "dtale.show(stats_df)\n",
    "# dtale.show(stats_df[['tno', 'stint', 'poss', 'ortg', 'drtg', \"poss_opp\", \"ortg_opp\", \"drtg_opp\"]])"
   ]
  },
  {
   "cell_type": "markdown",
   "metadata": {},
   "source": [
    "## Web page analysis"
   ]
  },
  {
   "cell_type": "code",
   "execution_count": 8,
   "metadata": {},
   "outputs": [
    {
     "data": {
      "text/plain": [
       "{'venue': 'MyState Bank Arena', 'date': datetime.datetime(2021, 12, 3, 0, 0)}"
      ]
     },
     "execution_count": 8,
     "metadata": {},
     "output_type": "execute_result"
    }
   ],
   "source": [
    "tools.get_game_info(1976446)\n",
    "# import datetime\n",
    "# datetime.datetime.strptime(\"3/2/89\", \"%d/%m/%y\")"
   ]
  }
 ],
 "metadata": {
  "kernelspec": {
   "display_name": "Python 3.8.10 64-bit",
   "language": "python",
   "name": "python3"
  },
  "language_info": {
   "codemirror_mode": {
    "name": "ipython",
    "version": 3
   },
   "file_extension": ".py",
   "mimetype": "text/x-python",
   "name": "python",
   "nbconvert_exporter": "python",
   "pygments_lexer": "ipython3",
   "version": "3.8.10"
  },
  "orig_nbformat": 4,
  "vscode": {
   "interpreter": {
    "hash": "31f2aee4e71d21fbe5cf8b01ff0e069b9275f58929596ceb00d14d90e3e16cd6"
   }
  }
 },
 "nbformat": 4,
 "nbformat_minor": 2
}
