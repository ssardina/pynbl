{
 "cells": [
  {
   "cell_type": "markdown",
   "metadata": {},
   "source": [
    "# BSS-AUS: Basketball Statistic System (AUS)\n",
    "\n",
    "This system allows to **incrementally** build a database of _stint lineups_ (advance) statistics for each game and each team.\n",
    "\n",
    "A **stint** is a lineup of players who play together in different interval periods across the game. The system will build the stints for each team from the play-by-play data and compute various statistics.\n",
    "\n",
    "The data comes as a raw JSON file:\n",
    "\n",
    "https://fibalivestats.dcd.shared.geniussports.com/data/2087737/data.json"
   ]
  },
  {
   "cell_type": "code",
   "execution_count": 1,
   "metadata": {},
   "outputs": [],
   "source": [
    "# Let's first load all required packages...\n",
    "import os\n",
    "import pandas as pd\n",
    "import numpy as np\n",
    "import dtale\n",
    "\n",
    "from config import *\n",
    "import bball_stats\n",
    "import tools\n",
    "\n",
    "# If one wants Jupyter to report all vars, not just the last one\n",
    "# from IPython.core.interactiveshell import InteractiveShell\n",
    "# InteractiveShell.ast_node_interactivity = \"all\"\n"
   ]
  },
  {
   "cell_type": "markdown",
   "metadata": {},
   "source": [
    "## 1. Define games to scrape and saved data\n",
    "\n",
    "First, setup the games we want to scrape and compute, as well as the existing data stored in file to append to."
   ]
  },
  {
   "cell_type": "code",
   "execution_count": 2,
   "metadata": {},
   "outputs": [],
   "source": [
    "# games to be computed\n",
    "# format: (game id, game no for team 1, game no for team 2)\n",
    "games = [(1999318, 1, 1), (2087737, 2, 2), (2090351, 3, 3)]\n",
    "games = [(1976463, 0, 0)]\n",
    "\n",
    "games = [(1976446,1,1,1,1),(1976447,1,1,1,1),(1976448,1,1,1,1),(1976452,2,1,1,1),(1976454,1,1,1,1),(2004608,2,1,1,1),(2004609,3,2,2,2),(1976449,2,2,2,2),(1976451,2,2,3,2),(1976453,2,2,3,2),(1976455,4,2,3,2),(1976458,2,2,2,2),(1976456,2,2,3,2),(1976457,3,3,3,3),(1976459,3,3,4,3),(1976460,4,3,3,3),(1976461,4,3,4,3),(1976462,3,3,5,3),(1976463,4,3,5,3),(1976464,4,3,4,3),(2004610,5,3,4,3),(1976465,5,3,5,3),(1976468,6,4,6,4),(1976469,6,4,5,4),(1976474,7,5,6,5),(1976473,4,5,6,5),(1976482,5,6,7,6),(2036215,5,7,7,7),(2031329,8,7,7,7),(2031330,6,7,5,7),(2031332,6,7,8,7),(2031333,8,7,9,7),(2031334,6,7,7,7),(2031335,7,8,9,8),(2031336,7,8,9,8),(2031337,7,8,8,8),(2031338,10,8,8,8),(2031340,8,8,6,8),(2031341,7,8,5,8),(2046695,8,8,8,8),(2046696,9,8,10,8),(2046697,9,9,9,9),(2031342,9,9,9,9),(2031343,6,9,10,9),(2031344,10,9,8,9),(2031345,10,9,11,9),(2031346,11,9,10,9),(2031347,10,9,10,9),(2046698,11,10,11,10),(2046700,11,10,12,10),(2046701,11,10,7,10),(2046702,9,10,11,10),(2046703,13,10,12,10),(2046704,12,10,12,10),(2046706,12,10,10,10),(2046707,11,11,14,11),(2046709,12,11,11,11),(2046710,13,11,8,11),(2046711,13,11,12,11),(2046712,12,11,13,11),(2046713,15,11,13,11),(2051763,9,11,13,11),(2053811,14,12,13,12),(2053812,14,12,10,12),(2053813,14,12,14,12),(2053814,16,12,13,12),(2053815,12,12,11,12),(2053816,15,12,14,12),(2053817,15,12,14,12),(2053818,12,13,14,12),(2053819,16,13,13,13),(2053820,16,13,15,13),(2053821,15,13,14,13),(2053822,14,13,17,13),(2053823,13,13,16,13),(2053824,16,13,15,13),(2053825,15,13,17,13),(2056454,15,14,16,14),(2056455,17,14,16,14),(2056457,17,14,17,14),(2056458,16,14,16,14),(2056461,17,14,18,14),(2056462,17,14,18,14),(2056460,18,14,14,14),(2056463,18,15,17,15),(2056464,15,15,18,15),(2056466,19,15,18,15),(2056467,18,15,17,15),(2056469,19,15,19,15),(2056471,18,15,19,15),(2056472,16,15,19,15),(2056473,19,15,19,15),(2065653,20,16,19,16),(2065654,18,16,17,16),(2065655,20,16,21,16),(2065656,20,16,20,16),(2065657,21,17,19,16),(2065658,21,17,18,16),(2065659,19,17,20,16),(2069165,20,16,21,17),(2069166,20,16,21,17),(2069167,20,16,21,17),(2069168,22,17,22,17),(2069169,22,17,21,17),(2069170,20,17,22,17),(2069171,21,17,22,17),(2069172,22,17,20,17),(2069175,23,18,23,18),(2069177,21,18,23,18),(2069179,22,18,24,18),(2069181,21,18,23,18),(2069183,24,18,22,18),(2069184,24,18,22,18),(2069186,24,18,22,18),(2069187,23,18,23,18),(2069191,23,18,24,19),(2069192,24,19,24,19),(2069194,24,19,23,19),(2069196,25,19,25,19),(2069199,25,19,23,19),(2069202,23,19,25,19),(2069203,25,19,25,19),(2069204,24,19,26,19),(2069190,24,19,26,20),(2069193,26,19,27,20),(2069195,26,20,25,20),(2069197,25,20,27,20),(2069198,27,20,26,20),(2069200,26,20,25,20),(2069201,26,20,25,20),(2069205,26,20,24,19),(2069173,26,20,28,21),(2069174,28,21,28,21),(2069176,28,21,28,21),(2069178,28,21,28,21),(2069180,28,21,28,21),(2069182,28,21,27,21),(2069188,27,21,27,21),(2069189,27,20,26,20)]\n",
    "\n",
    "games = [1976463]   # game with no \"bugs\" in subs\n",
    "\n",
    "# Files containing the existing tables stored in disk already\n",
    "# System will extend these tables with the new games\n",
    "file_stats_df = os.path.join(DATA_DIR, \"stats_df.pkl\")\n",
    "file_games_df = os.path.join(DATA_DIR, \"games_df.pkl\")\n",
    "\n",
    "# Set to true to re-compute from scratch all tables\n",
    "reload = True"
   ]
  },
  {
   "cell_type": "markdown",
   "metadata": {},
   "source": [
    "## 2. Compute stat and game tables\n",
    "\n",
    "Now, let us run the system that scrapes the games' data, computes stats and game info, and adds them to the initial tables of stats and games.\n",
    "\n",
    "We start by loading all saved previous games, if any, as we want to append to that database (and we don't want to recompute them)."
   ]
  },
  {
   "cell_type": "code",
   "execution_count": 3,
   "metadata": {},
   "outputs": [],
   "source": [
    "# Load games from saved files (if any)\n",
    "init_stats_df = None\n",
    "game_df = None\n",
    "if os.path.exists(file_stats_df) and not reload:\n",
    "    # load the stat dataframe already stored as a file\n",
    "    print(f\"Loading initial stats df: {file_stats_df}\")\n",
    "    init_stats_df = pd.read_pickle(file_stats_df)\n",
    "    game_df = pd.read_pickle(file_games_df)\n",
    "    existing_games = init_stats_df.game_id.unique()\n",
    "else:\n",
    "    existing_games = []\n",
    "\n",
    "\n",
    "init_stats_df\n",
    "# init_stats_df['lineup'].apply(lambda x: len(x) > 5)\n",
    "# init_stats_df.loc[5,'lineup']\n",
    "# init_stats_df.loc[5]"
   ]
  },
  {
   "cell_type": "markdown",
   "metadata": {},
   "source": [
    "It is now time to process each game:"
   ]
  },
  {
   "cell_type": "code",
   "execution_count": 7,
   "metadata": {},
   "outputs": [
    {
     "name": "stdout",
     "output_type": "stream",
     "text": [
      "Computing game 1976463...\n",
      "\t .... done: Melbourne United (83) vs New Zealand Breakers (60) on 2021-12-19 00:00:00\n"
     ]
    }
   ],
   "source": [
    "stats_dfs = [init_stats_df] if init_stats_df is not None else []\n",
    "games_data = []\n",
    "for game in games:\n",
    "    if isinstance(game, tuple):\n",
    "        game_id, game1, round1, game2, round2 = game\n",
    "    else:\n",
    "        game_id = game\n",
    "        game1 = round1 = game2 = round2  = np.nan\n",
    "\n",
    "    if game_id in existing_games:\n",
    "        print(f\"Game {game_id} is already in table\")\n",
    "        continue\n",
    "    print(f\"Computing game {game_id}...\")\n",
    "\n",
    "    # now compute the actual stats for the game\n",
    "    result = bball_stats.build_game_stints_stats_df(game_id)\n",
    "    df = result['stint_stats_df']   #  this is basically what we care, the stint stats\n",
    "    team1, team2 = result['teams']\n",
    "\n",
    "    try:\n",
    "        game_info = tools.get_game_info(game_id)    # extract date of game from HTML\n",
    "    except:\n",
    "        game_info = { \"venue\" : np.nan, \"date\": np.nan}\n",
    "    print(f\"\\t .... done: {team1[0]} ({team1[1]}) vs {team2[0]} ({team2[1]}) on {game_info['date']}\")\n",
    "\n",
    "    # fill game info\n",
    "    df.insert(0, 'game_id', game_id)\n",
    "    df.insert(3, 'game1', game1)\n",
    "    df.insert(4, 'round1', round1)\n",
    "    df.insert(5, 'game2', game2)\n",
    "    df.insert(6, 'round2', round2)\n",
    "    stats_dfs.append(df)\n",
    "\n",
    "    # build game dataframe table\n",
    "    games_data.append({\"game_id\": game_id,\n",
    "                        \"date\" : game_info['date'],\n",
    "                        \"team1\": team1[0], \"team2\": team2[0],\n",
    "                        \"s1\": team1[1], \"s2\": team2[1],\n",
    "                        \"game1\": game1, \"round1\": round1,\n",
    "                        \"game2\": game2, \"round2\": round2,\n",
    "                        \"winner\": 1 if team1[1] > team2[1] else 2,\n",
    "                        \"venue\" : game_info[\"venue\"]}\n",
    "                      )\n",
    "\n",
    "# put all dfs together into a single dataframe\n",
    "stats_df = pd.concat(stats_dfs)\n",
    "stats_df.reset_index(inplace=True, drop=True)\n",
    "stats_df.sample(5)\n",
    "\n",
    "if game_df is not None:\n",
    "    games_df = pd.concat([game_df, pd.DataFrame(games_data)])\n",
    "    games_df.reset_index(inplace=True, drop=True)\n",
    "else:\n",
    "    games_df = pd.DataFrame(games_data)"
   ]
  },
  {
   "cell_type": "markdown",
   "metadata": {},
   "source": [
    "If we want we can do some sanity checks, before saving to disk:"
   ]
  },
  {
   "cell_type": "code",
   "execution_count": null,
   "metadata": {},
   "outputs": [],
   "source": [
    "games_df"
   ]
  },
  {
   "cell_type": "code",
   "execution_count": 8,
   "metadata": {},
   "outputs": [
    {
     "name": "stdout",
     "output_type": "stream",
     "text": [
      "The shape of stats_df is: (34, 99)\n"
     ]
    },
    {
     "data": {
      "text/html": [
       "\n",
       "        <iframe\n",
       "            width=\"100%\"\n",
       "            height=\"475\"\n",
       "            src=\"http://Thinkpad-X1:40001/dtale/iframe/1\"\n",
       "            frameborder=\"0\"\n",
       "            allowfullscreen\n",
       "        ></iframe>\n",
       "        "
      ],
      "text/plain": [
       "<IPython.lib.display.IFrame at 0x7f1b8c0669d0>"
      ]
     },
     "metadata": {},
     "output_type": "display_data"
    },
    {
     "data": {
      "text/plain": []
     },
     "execution_count": 8,
     "metadata": {},
     "output_type": "execute_result"
    }
   ],
   "source": [
    "print(\"The shape of stats_df is:\", stats_df.shape)\n",
    "stats_df.sample(5)\n",
    "dtale.show(stats_df)\n",
    "# stats_df.loc[4]"
   ]
  },
  {
   "cell_type": "code",
   "execution_count": null,
   "metadata": {},
   "outputs": [],
   "source": [
    "# (ortg, drtg) should mirror (drtg_opp, ortg)\n",
    "stats_df.iloc[41][['poss', 'ortg', 'drtg', \"poss_opp\", \"ortg_opp\", \"drtg_opp\"]]"
   ]
  },
  {
   "cell_type": "markdown",
   "metadata": {},
   "source": [
    "## 3. Save stats and games to files\n",
    "\n",
    "We now save the full dataframes (stats and games) in various formats: binary (pickle), csv, and Excel.\n",
    "\n",
    "This will allows us to re-load that data later to add more games to it quicker."
   ]
  },
  {
   "cell_type": "code",
   "execution_count": null,
   "metadata": {},
   "outputs": [],
   "source": [
    "import datetime\n",
    "import os\n",
    "\n",
    "stats_df.to_pickle(os.path.join(DATA_DIR, \"stats_df.pkl\"))\n",
    "games_df.to_pickle(os.path.join(DATA_DIR, \"games_df.pkl\"))\n",
    "\n",
    "stats_df.to_csv(os.path.join(DATA_DIR, \"stats_df.csv\"), index=False)\n",
    "games_df.to_csv(os.path.join(DATA_DIR, \"games_df.csv\"), index=False)\n",
    "\n",
    "with pd.ExcelWriter(os.path.join(DATA_DIR, 'stats_df.xlsx')) as writer:\n",
    "    stats_df.to_excel(writer, sheet_name='STATS', index=False)\n",
    "    games_df.to_excel(writer, sheet_name='GAMES', index=False)\n",
    "games_df.to_excel(os.path.join(DATA_DIR, \"games_df.xlsx\"))\n",
    "\n",
    "\n",
    "now = datetime.datetime.now() # current date and time\n",
    "date_time = now.strftime(\"%m/%d/%Y, %H:%M:%S\")\n",
    "print(f\"Finished saving at time: {date_time}\")"
   ]
  },
  {
   "cell_type": "markdown",
   "metadata": {},
   "source": [
    "## 4. Inspection & analysis\n",
    "\n",
    "We use [dtale](https://pypi.org/project/dtale/) package for this."
   ]
  },
  {
   "cell_type": "code",
   "execution_count": null,
   "metadata": {},
   "outputs": [],
   "source": [
    "dtale.show(stats_df)\n",
    "# dtale.show(stats_df[['tno', 'stint', 'poss', 'ortg', 'drtg', \"poss_opp\", \"ortg_opp\", \"drtg_opp\"]])"
   ]
  },
  {
   "cell_type": "markdown",
   "metadata": {},
   "source": [
    "## 5. Some checks..."
   ]
  },
  {
   "cell_type": "markdown",
   "metadata": {},
   "source": [
    "Check if a stint lineup has more than 5 players! It could happen:\n",
    "\n",
    "1. Game 2031329, player H. Besson comes out (wrongly?) at 3rd period min 10:00 but he keeps playing and then goes out again at 7:33."
   ]
  },
  {
   "cell_type": "code",
   "execution_count": null,
   "metadata": {},
   "outputs": [],
   "source": [
    "stats_df.shape\n",
    "mask = stats_df['lineup'].apply(lambda x: len(x) != 5)\n",
    "stats_df[mask]\n",
    "\n",
    "# stats_df.iloc[941][['game_id', 'lineup']]"
   ]
  }
 ],
 "metadata": {
  "kernelspec": {
   "display_name": "Python 3.8.10 64-bit",
   "language": "python",
   "name": "python3"
  },
  "language_info": {
   "codemirror_mode": {
    "name": "ipython",
    "version": 3
   },
   "file_extension": ".py",
   "mimetype": "text/x-python",
   "name": "python",
   "nbconvert_exporter": "python",
   "pygments_lexer": "ipython3",
   "version": "3.8.10"
  },
  "orig_nbformat": 4,
  "vscode": {
   "interpreter": {
    "hash": "31f2aee4e71d21fbe5cf8b01ff0e069b9275f58929596ceb00d14d90e3e16cd6"
   }
  }
 },
 "nbformat": 4,
 "nbformat_minor": 2
}
