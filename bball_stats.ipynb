{
 "cells": [
  {
   "cell_type": "markdown",
   "metadata": {},
   "source": [
    "# pyNBL: Basketball Statistic System for Australian NBL\n",
    "\n",
    "[![Binder](https://mybinder.org/badge_logo.svg)](https://mybinder.org/v2/gh/ssardina/pynbl/HEAD)\n",
    "\n",
    "This notebook **incrementally** builds a set of stat tables from NBL Basketball Games:\n",
    "\n",
    "1. A table of games played, with team names, points, venue, etc.\n",
    "2. A stat table of _stint lineups_ (advance) statistics for each game and each team. A **stint** is a lineup of players who play together in different interval periods across the game. This table will contain the stints for each team from the play-by-play data and compute various statistics for those stints.\n",
    "\n",
    "Tables will be saved in CSV and Excel formats as well as in [Pickle format](https://docs.python.org/3/library/pickle.html) for later recovery as Panda DataFrames.\n",
    "\n",
    "\n",
    "The data comes as a raw JSON file using the game id (e.g., `2087737`):\n",
    "\n",
    "https://fibalivestats.dcd.shared.geniussports.com/data/2087737/data.json"
   ]
  },
  {
   "cell_type": "code",
   "execution_count": 1,
   "metadata": {},
   "outputs": [],
   "source": [
    "# Let's first load all required packages...\n",
    "import os\n",
    "from pathlib import Path\n",
    "import pandas as pd\n",
    "import numpy as np\n",
    "import dtale\n",
    "\n",
    "from config import *\n",
    "import bball_stats\n",
    "import tools\n",
    "\n",
    "\n",
    "# Set folder with data files and Pickle tables saved on disk\n",
    "DATA_DIR='data-21_22/'\n",
    "FILES = dict()\n",
    "FILES['stint_stats'] = Path(DATA_DIR, \"stint_stats_df\").with_suffix('.pkl')\n",
    "FILES['stints'] = Path(DATA_DIR, \"stints_df\").with_suffix('.pkl')\n",
    "FILES['games'] = Path(DATA_DIR, \"games_df\").with_suffix('.pkl')\n",
    "FILES['players'] = Path(DATA_DIR, \"players_df\").with_suffix('.pkl')"
   ]
  },
  {
   "cell_type": "markdown",
   "metadata": {},
   "source": [
    "## 1. Define games to scrape and saved data\n",
    "\n",
    "First, setup the games we want to scrape and compute, as well as the existing data stored in file to append to."
   ]
  },
  {
   "cell_type": "code",
   "execution_count": 4,
   "metadata": {},
   "outputs": [],
   "source": [
    "# Games to be computed\n",
    "\n",
    "#   Format: (game id, round number)\n",
    "games_21_22 = [(1976446, 1), (1976447, 1), (1976448, 1), (1976452, 1), (1976454, 1), (2004608, 1), (2004609, 2), (1976449, 2), (1976451, 2), (1976453, 2), (1976455, 2), (1976458, 2), (1976456, 2), (1976457, 3), (1976459, 3), (1976460, 3), (1976461, 3), (1976462, 3), (1976463, 3), (1976464, 3), (2004610, 3), (1976465, 3), (1976468, 4), (1976469, 4), (1976474, 5), (1976473, 5), (1976482, 6), (2036215, 7), (2031329, 7), (2031330, 7), (2031332, 7), (2031333, 7), (2031334, 7), (2031335, 8), (2031336, 8), (2031337, 8), (2031338, 8), (2031340, 8), (2031341, 8), (2046695, 8), (2046696, 8), (2046697, 9), (2031342, 9), (2031343, 9), (2031344, 9), (2031345, 9), (2031346, 9), (2031347, 9), (2046698, 10), (2046700, 10), (2046701, 10), (2046702, 10), (2046703, 10), (2046704, 10), (2046706, 10), (2046707, 11), (2046709, 11), (2046710, 11), (2046711, 11), (2046712, 11), (2046713, 11), (2051763, 11), (2053811, 12), (2053812, 12), (2053813, 12), (2053814, 12), (2053815, 12), (2053816, 12), (2053817, 12), (2053818, 13), (2053819, 13), (2053820, 13), (2053821, 13), (2053822, 13), (2053823, 13), (2053824, 13), (2053825, 13), (2056454, 14), (2056455, 14), (2056457, 14), (2056458, 14), (2056461, 14), (2056462, 14), (2056460, 14), (2056463, 15), (2056464, 15), (2056466, 15), (2056467, 15), (2056469, 15), (2056471, 15), (2056472, 15), (2056473, 15), (2065653, 16), (2065654, 16), (2065655, 16), (2065656, 16), (2065657, 17), (2065658, 17), (2065659, 17), (2069165, 16), (2069166, 16), (2069167, 16), (2069168, 17), (2069169, 17), (2069170, 17), (2069171, 17), (2069172, 17), (2069175, 18), (2069177, 18), (2069179, 18), (2069181, 18), (2069183, 18), (2069184, 18), (2069186, 18), (2069187, 18), (2069191, 18), (2069192, 19), (2069194, 19), (2069196, 19), (2069199, 19), (2069202, 19), (2069203, 19), (2069204, 19), (2069190, 19), (2069193, 19), (2069195, 20), (2069197, 20), (2069198, 20), (2069200, 20), (2069201, 20), (2069205, 20), (2069173, 20), (2069174, 21), (2069176, 21), (2069178, 21), (2069180, 21), (2069182, 21), (2069188, 21), (2069189, 20)]\n",
    "\n",
    "games_22_23 = [(2141127, 0), (2135117, 0), (2134935, 0), (2141126, 0), (2135116, 0), (2122060, 0), (2122059, 0)]\n",
    "\n",
    "# games = [1976463]   # game with no \"bugs\" in subs\n",
    "games = games_21_22\n",
    "\n",
    "# Set to True to re-compute from scratch all tables\n",
    "reload = True"
   ]
  },
  {
   "cell_type": "markdown",
   "metadata": {},
   "source": [
    "## 2. Compute stat and game tables\n",
    "\n",
    "Now, let us run the system that scrapes the games' data, computes stats and game info, and adds them to the initial tables of stats and games.\n",
    "\n",
    "We start by loading all saved previous games, if any, as we want to append to that database (and we don't want to recompute them)."
   ]
  },
  {
   "cell_type": "code",
   "execution_count": 5,
   "metadata": {},
   "outputs": [
    {
     "name": "stdout",
     "output_type": "stream",
     "text": [
      "Recovered 0 games:  []\n"
     ]
    }
   ],
   "source": [
    "# Load tables from saved files (if any)\n",
    "saved_stint_stats_df = None\n",
    "saved_stints_df = None\n",
    "saved_games_df = None\n",
    "saved_players_df = None\n",
    "existing_games = []\n",
    "\n",
    "if not reload:\n",
    "    # load the stat dataframe already stored as a file\n",
    "    print(f\"Loading recorded dataframes from files\")\n",
    "    try:\n",
    "        saved_stint_stats_df = pd.read_pickle(FILES['stint_stats'])\n",
    "        saved_stints_df = pd.read_pickle(FILES['stints'])\n",
    "        saved_games_df = pd.read_pickle(FILES['games'])\n",
    "        saved_players_df = pd.read_pickle(FILES['players'])\n",
    "        # collect game ids of all games recovered from file\n",
    "        existing_games = saved_games_df.game_id.unique()\n",
    "    except FileNotFoundError as e:\n",
    "        print(\"Error loading Pickle files: \", e)\n",
    "        saved_stint_stats_df = None\n",
    "        saved_stints_df = None\n",
    "        saved_games_df = None\n",
    "        saved_players_df = None\n",
    "        existing_games = []\n",
    "else:\n",
    "    existing_games = []\n",
    "\n",
    "print(f\"Recovered {len(existing_games)} games: \", existing_games)\n",
    "\n",
    "# saved_stats_df['lineup'].apply(lambda x: len(x) > 5)\n",
    "# saved_stats_df.loc[5,'lineup']\n",
    "# saved_stats_df.loc[5]\n",
    "\n",
    "# saved_stint_stats_df.sample(3)\n",
    "# saved_games_df.sample(3)"
   ]
  },
  {
   "cell_type": "markdown",
   "metadata": {},
   "source": [
    "It is now time to process games to extract:\n",
    "\n",
    "1. Table of **games**.\n",
    "2. Table of **players** who played in each game with their stats, for each team.\n",
    "3. Table of **stints** in each game for each team.\n",
    "4. Table of **stint stats** in each game for each team."
   ]
  },
  {
   "cell_type": "code",
   "execution_count": 6,
   "metadata": {},
   "outputs": [
    {
     "name": "stdout",
     "output_type": "stream",
     "text": [
      "Computing game 1976446...\n"
     ]
    },
    {
     "name": "stderr",
     "output_type": "stream",
     "text": [
      "2022-09-17 18:16:07 WARNING Sub team 1 @ 00:00:17.800000 in period 5: incoming players already in court: {'Matt Kenyon'}\n",
      "2022-09-17 18:16:07 WARNING Sub team 1 @ 00:00:17.800000 in period 5: outcoming players not in court: {'Jack McVeigh'}\n"
     ]
    },
    {
     "name": "stdout",
     "output_type": "stream",
     "text": [
      "\t .... done: Tasmania JackJumpers (83) vs Brisbane Bullets (74) on 2021-12-03 00:00:00\n",
      "Computing game 1976447...\n"
     ]
    },
    {
     "name": "stderr",
     "output_type": "stream",
     "text": [
      "2022-09-17 18:16:12 WARNING Sub team 1 @ 00:02:26 in period 3: incoming players already in court: {'Jack Purchase'}\n"
     ]
    },
    {
     "name": "stdout",
     "output_type": "stream",
     "text": [
      "\t .... done: Perth Wildcats (85) vs Adelaide 36ers (73) on 2021-12-03 00:00:00\n",
      "Computing game 1976448...\n",
      "\t .... done: South East Melbourne Phoenix (89) vs New Zealand Breakers (65) on 2021-12-04 00:00:00\n",
      "Computing game 1976452...\n",
      "\t .... done: Adelaide 36ers (71) vs Illawarra Hawks (81) on 2021-12-05 00:00:00\n",
      "Computing game 1976454...\n",
      "\t .... done: Sydney Kings (79) vs Melbourne United (74) on 2021-12-05 00:00:00\n",
      "Computing game 2004608...\n",
      "\t .... done: Perth Wildcats (90) vs Cairns Taipans (67) on 2021-12-05 00:00:00\n",
      "Computing game 2004609...\n",
      "\t .... done: Perth Wildcats (94) vs Brisbane Bullets (97) on 2021-12-12 00:00:00\n",
      "Computing game 1976449...\n",
      "\t .... done: Sydney Kings (84) vs Illawarra Hawks (92) on 2021-12-11 00:00:00\n",
      "Computing game 1976451...\n",
      "\t .... done: Cairns Taipans (69) vs Tasmania JackJumpers (62) on 2021-12-11 00:00:00\n",
      "Computing game 1976453...\n",
      "\t .... done: Melbourne United (86) vs South East Melbourne Phoenix (94) on 2021-12-12 00:00:00\n",
      "Computing game 1976455...\n",
      "\t .... done: Adelaide 36ers (98) vs New Zealand Breakers (85) on 2021-12-12 00:00:00\n",
      "Computing game 1976458...\n",
      "\t .... done: South East Melbourne Phoenix (95) vs New Zealand Breakers (88) on 2021-12-10 00:00:00\n",
      "Computing game 1976456...\n",
      "\t .... done: Tasmania JackJumpers (80) vs Adelaide 36ers (83) on 2021-12-09 00:00:00\n",
      "Computing game 1976457...\n",
      "\t .... done: Melbourne United (89) vs Sydney Kings (47) on 2021-12-16 00:00:00\n",
      "Computing game 1976459...\n",
      "\t .... done: Illawarra Hawks (97) vs New Zealand Breakers (96) on 2021-12-17 00:00:00\n",
      "Computing game 1976460...\n",
      "\t .... done: Perth Wildcats (83) vs Brisbane Bullets (70) on 2021-12-17 00:00:00\n",
      "Computing game 1976461...\n",
      "\t .... done: Sydney Kings (84) vs South East Melbourne Phoenix (73) on 2021-12-18 00:00:00\n",
      "Computing game 1976462...\n",
      "\t .... done: Cairns Taipans (93) vs Adelaide 36ers (67) on 2021-12-18 00:00:00\n",
      "Computing game 1976463...\n",
      "\t .... done: Melbourne United (83) vs New Zealand Breakers (60) on 2021-12-19 00:00:00\n",
      "Computing game 1976464...\n",
      "\t .... done: Brisbane Bullets (96) vs Illawarra Hawks (92) on 2021-12-19 00:00:00\n",
      "Computing game 2004610...\n",
      "\t .... done: Perth Wildcats (101) vs Tasmania JackJumpers (83) on 2021-12-19 00:00:00\n",
      "Computing game 1976465...\n",
      "\t .... done: Sydney Kings (83) vs Tasmania JackJumpers (71) on 2021-12-22 00:00:00\n",
      "Computing game 1976468...\n",
      "\t .... done: Tasmania JackJumpers (84) vs New Zealand Breakers (75) on 2021-12-26 00:00:00\n",
      "Computing game 1976469...\n",
      "\t .... done: Sydney Kings (68) vs Melbourne United (82) on 2021-12-26 00:00:00\n",
      "Computing game 1976474...\n",
      "\t .... done: Tasmania JackJumpers (72) vs Melbourne United (76) on 2022-01-01 00:00:00\n",
      "Computing game 1976473...\n",
      "\t .... done: Cairns Taipans (78) vs Perth Wildcats (84) on 2021-12-31 00:00:00\n",
      "Computing game 1976482...\n"
     ]
    },
    {
     "name": "stderr",
     "output_type": "stream",
     "text": [
      "2022-09-17 18:18:30 WARNING Sub team 1 @ 00:01:06 in period 2: incoming players already in court: {'Nathan Sobey'}\n",
      "2022-09-17 18:18:30 WARNING Sub team 1 @ 00:06:05 in period 4: incoming players already in court: {'Lamar Patterson'}\n"
     ]
    },
    {
     "name": "stdout",
     "output_type": "stream",
     "text": [
      "\t .... done: Brisbane Bullets (83) vs New Zealand Breakers (88) on 2022-01-09 00:00:00\n",
      "Computing game 2036215...\n"
     ]
    },
    {
     "name": "stderr",
     "output_type": "stream",
     "text": [
      "2022-09-17 18:18:35 WARNING Sub team 2 @ 00:04:26 in period 3: incoming players already in court: {'Wani Swaka Lo Buluk'}\n"
     ]
    },
    {
     "name": "stdout",
     "output_type": "stream",
     "text": [
      "\t .... done: Illawarra Hawks (97) vs Sydney Kings (89) on 2022-01-13 00:00:00\n",
      "Computing game 2031329...\n"
     ]
    },
    {
     "name": "stderr",
     "output_type": "stream",
     "text": [
      "2022-09-17 18:18:41 WARNING Sub team 1 @ 00:07:43 in period 4: outcoming players not in court: {'Hugo Besson'}\n",
      "2022-09-17 18:18:41 WARNING Sub team 1 @ 00:01:44 in period 4: incoming players already in court: {'Ousmane Dieng'}\n",
      "2022-09-17 18:18:42 WARNING Sub team 2 @ 00:10:00 in period 4: incoming players already in court: {'Chris Goulding'}\n",
      "2022-09-17 18:18:42 WARNING Sub team 2 @ 00:05:42 in period 4: incoming players already in court: {'Mason Peatling'}\n",
      "2022-09-17 18:18:42 WARNING Sub team 2 @ 00:05:42 in period 4: outcoming players not in court: {'Jack White', 'Shea Ili'}\n"
     ]
    },
    {
     "name": "stdout",
     "output_type": "stream",
     "text": [
      "\t .... done: New Zealand Breakers (78) vs Melbourne United (89) on 2022-01-14 00:00:00\n",
      "Computing game 2031330...\n"
     ]
    },
    {
     "name": "stderr",
     "output_type": "stream",
     "text": [
      "2022-09-17 18:18:47 WARNING Sub team 2 @ 00:06:50 in period 2: incoming players already in court: {'Xavier Munford'}\n"
     ]
    },
    {
     "name": "stdout",
     "output_type": "stream",
     "text": [
      "\t .... done: Brisbane Bullets (100) vs South East Melbourne Phoenix (84) on 2022-01-15 00:00:00\n",
      "Computing game 2031332...\n",
      "\t .... done: Illawarra Hawks (84) vs Melbourne United (88) on 2022-01-16 00:00:00\n",
      "Computing game 2031333...\n",
      "\t .... done: Sydney Kings (75) vs New Zealand Breakers (82) on 2022-01-16 00:00:00\n",
      "Computing game 2031334...\n"
     ]
    },
    {
     "name": "stderr",
     "output_type": "stream",
     "text": [
      "2022-09-17 18:19:02 WARNING Sub team 1 @ 00:05:31 in period 1: incoming players already in court: {'Mitch McCarron'}\n",
      "2022-09-17 18:19:02 WARNING Sub team 1 @ 00:00:42.200000 in period 2: incoming players already in court: {'Sunday Dech'}\n"
     ]
    },
    {
     "name": "stdout",
     "output_type": "stream",
     "text": [
      "\t .... done: Adelaide 36ers (87) vs Perth Wildcats (74) on 2022-01-18 00:00:00\n",
      "Computing game 2031335...\n",
      "\t .... done: Brisbane Bullets (96) vs Sydney Kings (87) on 2022-01-21 00:00:00\n",
      "Computing game 2031336...\n",
      "\t .... done: Adelaide 36ers (78) vs Melbourne United (97) on 2022-01-22 00:00:00\n",
      "Computing game 2031337...\n",
      "\t .... done: Illawarra Hawks (78) vs Perth Wildcats (94) on 2022-01-22 00:00:00\n",
      "Computing game 2031338...\n"
     ]
    },
    {
     "name": "stderr",
     "output_type": "stream",
     "text": [
      "2022-09-17 18:19:22 WARNING Sub team 2 @ 00:10:00 in period 4: incoming players already in court: {'Robert Franks'}\n"
     ]
    },
    {
     "name": "stdout",
     "output_type": "stream",
     "text": [
      "\t .... done: Sydney Kings (97) vs Brisbane Bullets (73) on 2022-01-23 00:00:00\n",
      "Computing game 2031340...\n"
     ]
    },
    {
     "name": "stderr",
     "output_type": "stream",
     "text": [
      "2022-09-17 18:19:26 WARNING Sub team 1 @ 00:10:00 in period 2: incoming players already in court: {'Will Magnay'}\n",
      "2022-09-17 18:19:26 WARNING Sub team 1 @ 00:10:00 in period 2: outcoming players not in court: {'Fabijan Krslovic'}\n"
     ]
    },
    {
     "name": "stdout",
     "output_type": "stream",
     "text": [
      "\t .... done: Tasmania JackJumpers (63) vs South East Melbourne Phoenix (76) on 2022-01-23 00:00:00\n",
      "Computing game 2031341...\n",
      "\t .... done: South East Melbourne Phoenix (87) vs Cairns Taipans (77) on 2022-01-25 00:00:00\n",
      "Computing game 2046695...\n",
      "\t .... done: Illawarra Hawks (100) vs Adelaide 36ers (89) on 2022-01-24 00:00:00\n",
      "Computing game 2046696...\n",
      "\t .... done: Brisbane Bullets (82) vs Melbourne United (84) on 2022-01-26 00:00:00\n",
      "Computing game 2046697...\n",
      "\t .... done: Illawarra Hawks (80) vs Perth Wildcats (94) on 2022-01-27 00:00:00\n",
      "Computing game 2031342...\n",
      "\t .... done: Tasmania JackJumpers (76) vs Adelaide 36ers (71) on 2022-01-28 00:00:00\n",
      "Computing game 2031343...\n",
      "\t .... done: Cairns Taipans (75) vs Illawarra Hawks (94) on 2022-01-29 00:00:00\n",
      "Computing game 2031344...\n"
     ]
    },
    {
     "name": "stderr",
     "output_type": "stream",
     "text": [
      "2022-09-17 18:20:10 WARNING Sub team 1 @ 00:10:00 in period 2: incoming players already in court: {'Lamar Patterson'}\n"
     ]
    },
    {
     "name": "stdout",
     "output_type": "stream",
     "text": [
      "\t .... done: Brisbane Bullets (73) vs South East Melbourne Phoenix (88) on 2022-01-29 00:00:00\n",
      "Computing game 2031345...\n",
      "\t .... done: Adelaide 36ers (88) vs Melbourne United (83) on 2022-01-30 00:00:00\n",
      "Computing game 2031346...\n",
      "\t .... done: Sydney Kings (96) vs Perth Wildcats (81) on 2022-01-30 00:00:00\n",
      "Computing game 2031347...\n"
     ]
    },
    {
     "name": "stderr",
     "output_type": "stream",
     "text": [
      "2022-09-17 18:20:24 WARNING Sub team 1 @ 00:10:00 in period 2: incoming players already in court: {'Hugo Besson'}\n"
     ]
    },
    {
     "name": "stdout",
     "output_type": "stream",
     "text": [
      "\t .... done: New Zealand Breakers (59) vs Tasmania JackJumpers (83) on 2022-01-30 00:00:00\n",
      "Computing game 2046698...\n",
      "\t .... done: New Zealand Breakers (90) vs Illawarra Hawks (67) on 2022-02-02 00:00:00\n",
      "Computing game 2046700...\n",
      "\t .... done: Tasmania JackJumpers (77) vs Sydney Kings (70) on 2022-02-04 00:00:00\n",
      "Computing game 2046701...\n"
     ]
    },
    {
     "name": "stderr",
     "output_type": "stream",
     "text": [
      "2022-09-17 18:20:38 WARNING Sub team 1 @ 00:03:44 in period 1: incoming players already in court: {'Robert Franks'}\n"
     ]
    },
    {
     "name": "stdout",
     "output_type": "stream",
     "text": [
      "\t .... done: Brisbane Bullets (94) vs Cairns Taipans (102) on 2022-02-05 00:00:00\n",
      "Computing game 2046702...\n",
      "\t .... done: South East Melbourne Phoenix (79) vs Perth Wildcats (101) on 2022-02-05 00:00:00\n",
      "Computing game 2046703...\n",
      "\t .... done: Sydney Kings (84) vs New Zealand Breakers (65) on 2022-02-06 00:00:00\n",
      "Computing game 2046704...\n",
      "\t .... done: Melbourne United (85) vs Tasmania JackJumpers (94) on 2022-02-06 00:00:00\n",
      "Computing game 2046706...\n",
      "\t .... done: Illawarra Hawks (87) vs South East Melbourne Phoenix (88) on 2022-02-07 00:00:00\n",
      "Computing game 2046707...\n"
     ]
    },
    {
     "name": "stderr",
     "output_type": "stream",
     "text": [
      "2022-09-17 18:21:03 WARNING Sub team 1 @ 00:00:19.300000 in period 4: incoming players already in court: {'Reuben Te Rangi'}\n"
     ]
    },
    {
     "name": "stdout",
     "output_type": "stream",
     "text": [
      "\t .... done: South East Melbourne Phoenix (87) vs Sydney Kings (92) on 2022-02-10 00:00:00\n",
      "Computing game 2046709...\n",
      "\t .... done: Brisbane Bullets (77) vs Adelaide 36ers (73) on 2022-02-11 00:00:00\n",
      "Computing game 2046710...\n",
      "\t .... done: Illawarra Hawks (87) vs Cairns Taipans (81) on 2022-02-12 00:00:00\n",
      "Computing game 2046711...\n",
      "\t .... done: Melbourne United (93) vs Perth Wildcats (87) on 2022-02-12 00:00:00\n",
      "Computing game 2046712...\n",
      "\t .... done: South East Melbourne Phoenix (83) vs Tasmania JackJumpers (71) on 2022-02-13 00:00:00\n",
      "Computing game 2046713...\n",
      "\t .... done: Sydney Kings (71) vs Brisbane Bullets (69) on 2022-02-13 00:00:00\n",
      "Computing game 2051763...\n",
      "\t .... done: Cairns Taipans (83) vs New Zealand Breakers (84) on 2022-02-14 00:00:00\n",
      "Computing game 2053811...\n",
      "\t .... done: Melbourne United (94) vs South East Melbourne Phoenix (87) on 2022-02-17 00:00:00\n",
      "Computing game 2053812...\n",
      "\t .... done: Illawarra Hawks (79) vs Cairns Taipans (54) on 2022-02-18 00:00:00\n",
      "Computing game 2053813...\n"
     ]
    },
    {
     "name": "stderr",
     "output_type": "stream",
     "text": [
      "2022-09-17 18:21:48 WARNING Sub team 2 @ 00:00:06.800000 in period 1: incoming players already in court: {'Deng Deng'}\n",
      "2022-09-17 18:21:48 WARNING Sub team 2 @ 00:00:06.800000 in period 1: outcoming players not in court: {'Jason Cadee'}\n"
     ]
    },
    {
     "name": "stdout",
     "output_type": "stream",
     "text": [
      "\t .... done: South East Melbourne Phoenix (98) vs Brisbane Bullets (94) on 2022-02-19 00:00:00\n",
      "Computing game 2053814...\n",
      "\t .... done: Sydney Kings (98) vs Perth Wildcats (95) on 2022-02-19 00:00:00\n",
      "Computing game 2053815...\n",
      "\t .... done: Adelaide 36ers (82) vs Cairns Taipans (71) on 2022-02-20 00:00:00\n",
      "Computing game 2053816...\n",
      "\t .... done: Melbourne United (108) vs New Zealand Breakers (73) on 2022-02-20 00:00:00\n",
      "Computing game 2053817...\n",
      "\t .... done: Illawarra Hawks (86) vs Tasmania JackJumpers (96) on 2022-02-20 00:00:00\n",
      "Computing game 2053818...\n",
      "\t .... done: Cairns Taipans (73) vs Brisbane Bullets (69) on 2022-02-24 00:00:00\n",
      "Computing game 2053819...\n",
      "\t .... done: Illawarra Hawks (87) vs Adelaide 36ers (71) on 2022-02-25 00:00:00\n",
      "Computing game 2053820...\n",
      "\t .... done: Brisbane Bullets (94) vs Tasmania JackJumpers (86) on 2022-02-26 00:00:00\n",
      "Computing game 2053821...\n"
     ]
    },
    {
     "name": "stderr",
     "output_type": "stream",
     "text": [
      "2022-09-17 18:22:30 WARNING Sub team 1 @ 00:06:30 in period 4: incoming players already in court: {\"Izayah Le'Afa\"}\n",
      "2022-09-17 18:22:30 WARNING Sub team 2 @ 00:00:14.700000 in period 4: incoming players already in court: {'Michael Frazier II'}\n",
      "2022-09-17 18:22:30 WARNING Sub team 2 @ 00:00:14.700000 in period 4: outcoming players not in court: {'Matthew Hodgson'}\n"
     ]
    },
    {
     "name": "stdout",
     "output_type": "stream",
     "text": [
      "\t .... done: South East Melbourne Phoenix (86) vs Perth Wildcats (80) on 2022-02-26 00:00:00\n",
      "Computing game 2053822...\n",
      "\t .... done: Adelaide 36ers (90) vs Sydney Kings (93) on 2022-02-27 00:00:00\n",
      "Computing game 2053823...\n",
      "\t .... done: Cairns Taipans (73) vs Melbourne United (89) on 2022-02-27 00:00:00\n",
      "Computing game 2053824...\n",
      "\t .... done: Tasmania JackJumpers (78) vs Perth Wildcats (89) on 2022-02-28 00:00:00\n",
      "Computing game 2053825...\n",
      "\t .... done: New Zealand Breakers (87) vs Illawarra Hawks (102) on 2022-03-01 00:00:00\n",
      "Computing game 2056454...\n",
      "\t .... done: Adelaide 36ers (76) vs South East Melbourne Phoenix (83) on 2022-03-04 00:00:00\n",
      "Computing game 2056455...\n",
      "\t .... done: Tasmania JackJumpers (66) vs New Zealand Breakers (62) on 2022-03-05 00:00:00\n",
      "Computing game 2056457...\n",
      "\t .... done: Melbourne United (95) vs Brisbane Bullets (83) on 2022-03-05 00:00:00\n",
      "Computing game 2056458...\n",
      "\t .... done: Adelaide 36ers (73) vs Perth Wildcats (92) on 2022-03-06 00:00:00\n",
      "Computing game 2056461...\n",
      "\t .... done: South East Melbourne Phoenix (77) vs Illawarra Hawks (83) on 2022-03-06 00:00:00\n",
      "Computing game 2056462...\n"
     ]
    },
    {
     "name": "stderr",
     "output_type": "stream",
     "text": [
      "2022-09-17 18:23:20 WARNING Sub team 2 @ 00:01:40 in period 3: incoming players already in court: {'Tyrell Harrison'}\n"
     ]
    },
    {
     "name": "stdout",
     "output_type": "stream",
     "text": [
      "\t .... done: New Zealand Breakers (74) vs Brisbane Bullets (92) on 2022-03-07 00:00:00\n",
      "Computing game 2056460...\n",
      "\t .... done: Sydney Kings (98) vs Cairns Taipans (88) on 2022-03-06 00:00:00\n",
      "Computing game 2056463...\n",
      "\t .... done: Melbourne United (87) vs Perth Wildcats (97) on 2022-03-10 00:00:00\n",
      "Computing game 2056464...\n",
      "\t .... done: Cairns Taipans (69) vs Tasmania JackJumpers (85) on 2022-03-11 00:00:00\n",
      "Computing game 2056466...\n",
      "\t .... done: Brisbane Bullets (83) vs Perth Wildcats (95) on 2022-03-12 00:00:00\n",
      "Computing game 2056467...\n"
     ]
    },
    {
     "name": "stderr",
     "output_type": "stream",
     "text": [
      "2022-09-17 18:23:45 WARNING Sub team 2 @ 00:00:10.700000 in period 4: incoming players already in court: {'Daniel Johnson'}\n"
     ]
    },
    {
     "name": "stdout",
     "output_type": "stream",
     "text": [
      "\t .... done: New Zealand Breakers (84) vs Adelaide 36ers (75) on 2022-03-12 00:00:00\n",
      "Computing game 2056469...\n",
      "\t .... done: Tasmania JackJumpers (81) vs Illawarra Hawks (77) on 2022-03-13 00:00:00\n",
      "Computing game 2056471...\n"
     ]
    },
    {
     "name": "stderr",
     "output_type": "stream",
     "text": [
      "2022-09-17 18:23:54 WARNING Sub team 2 @ 00:02:51 in period 3: incoming players already in court: {'Caleb Agada'}\n"
     ]
    },
    {
     "name": "stdout",
     "output_type": "stream",
     "text": [
      "\t .... done: South East Melbourne Phoenix (90) vs Melbourne United (98) on 2022-03-13 00:00:00\n",
      "Computing game 2056472...\n",
      "\t .... done: Cairns Taipans (77) vs Sydney Kings (86) on 2022-03-13 00:00:00\n",
      "Computing game 2056473...\n",
      "\t .... done: New Zealand Breakers (102) vs Perth Wildcats (104) on 2022-03-14 00:00:00\n",
      "Computing game 2065653...\n",
      "\t .... done: Illawarra Hawks (103) vs South East Melbourne Phoenix (97) on 2022-03-17 00:00:00\n",
      "Computing game 2065654...\n",
      "\t .... done: Adelaide 36ers (83) vs Cairns Taipans (57) on 2022-03-18 00:00:00\n",
      "Computing game 2065655...\n",
      "\t .... done: Tasmania JackJumpers (65) vs Illawarra Hawks (91) on 2022-03-19 00:00:00\n",
      "Computing game 2065656...\n",
      "\t .... done: South East Melbourne Phoenix (89) vs Sydney Kings (91) on 2022-03-19 00:00:00\n",
      "Computing game 2065657...\n",
      "\t .... done: Melbourne United (101) vs Adelaide 36ers (74) on 2022-03-20 00:00:00\n",
      "Computing game 2065658...\n"
     ]
    },
    {
     "name": "stderr",
     "output_type": "stream",
     "text": [
      "2022-09-17 18:24:32 WARNING Sub team 1 @ 00:06:22 in period 4: incoming players already in court: {'Tanner Krebs'}\n",
      "2022-09-17 18:24:32 WARNING Sub team 2 @ 00:08:48 in period 4: incoming players already in court: {'Kouat Noi'}\n"
     ]
    },
    {
     "name": "stdout",
     "output_type": "stream",
     "text": [
      "\t .... done: Brisbane Bullets (88) vs Cairns Taipans (98) on 2022-03-20 00:00:00\n",
      "Computing game 2065659...\n",
      "\t .... done: Perth Wildcats (95) vs New Zealand Breakers (85) on 2022-03-20 00:00:00\n",
      "Computing game 2069165...\n",
      "\t .... done: New Zealand Breakers (100) vs Brisbane Bullets (101) on 2022-03-24 00:00:00\n",
      "Computing game 2069166...\n",
      "\t .... done: Perth Wildcats (83) vs Tasmania JackJumpers (85) on 2022-03-24 00:00:00\n",
      "Computing game 2069167...\n",
      "\t .... done: Cairns Taipans (74) vs South East Melbourne Phoenix (86) on 2022-03-25 00:00:00\n",
      "Computing game 2069168...\n",
      "\t .... done: Brisbane Bullets (82) vs Tasmania JackJumpers (84) on 2022-03-26 00:00:00\n",
      "Computing game 2069169...\n",
      "\t .... done: Perth Wildcats (80) vs Sydney Kings (102) on 2022-03-26 00:00:00\n",
      "Computing game 2069170...\n",
      "\t .... done: Adelaide 36ers (100) vs South East Melbourne Phoenix (92) on 2022-03-27 00:00:00\n",
      "Computing game 2069171...\n",
      "\t .... done: Melbourne United (77) vs Illawarra Hawks (92) on 2022-03-27 00:00:00\n",
      "Computing game 2069172...\n"
     ]
    },
    {
     "name": "stderr",
     "output_type": "stream",
     "text": [
      "2022-09-17 18:25:12 WARNING Sub team 1 @ 00:00:00 in period 2: incoming players already in court: {'Yanni Wetzell', 'Robert Loe'}\n",
      "2022-09-17 18:25:12 WARNING Sub team 1 @ 00:00:00 in period 2: outcoming players not in court: {'Ousmane Dieng', 'Kyrin Galloway'}\n",
      "2022-09-17 18:25:12 WARNING Sub team 2 @ 00:00:00 in period 2: incoming players already in court: {'Keanu Pinder'}\n",
      "2022-09-17 18:25:12 WARNING Sub team 2 @ 00:00:00 in period 2: outcoming players not in court: {'Jordan Ngatai'}\n"
     ]
    },
    {
     "name": "stdout",
     "output_type": "stream",
     "text": [
      "\t .... done: New Zealand Breakers (90) vs Cairns Taipans (93) on 2022-03-27 00:00:00\n",
      "Computing game 2069175...\n",
      "\t .... done: Illawarra Hawks (87) vs Brisbane Bullets (70) on 2022-03-31 00:00:00\n",
      "Computing game 2069177...\n",
      "\t .... done: Adelaide 36ers (72) vs Tasmania JackJumpers (80) on 2022-04-01 00:00:00\n",
      "Computing game 2069179...\n",
      "\t .... done: Melbourne United (90) vs Illawarra Hawks (96) on 2022-04-02 00:00:00\n",
      "Computing game 2069181...\n",
      "\t .... done: Cairns Taipans (90) vs South East Melbourne Phoenix (85) on 2022-04-02 00:00:00\n",
      "Computing game 2069183...\n",
      "\t .... done: Tasmania JackJumpers (83) vs Sydney Kings (103) on 2022-04-03 00:00:00\n",
      "Computing game 2069184...\n",
      "\t .... done: Brisbane Bullets (92) vs Adelaide 36ers (91) on 2022-04-03 00:00:00\n",
      "Computing game 2069186...\n",
      "\t .... done: New Zealand Breakers (77) vs Cairns Taipans (87) on 2022-04-04 00:00:00\n",
      "Computing game 2069187...\n",
      "\t .... done: Perth Wildcats (75) vs Melbourne United (84) on 2022-04-04 00:00:00\n",
      "Computing game 2069191...\n",
      "\t .... done: South East Melbourne Phoenix (88) vs Melbourne United (90) on 2022-04-07 00:00:00\n",
      "Computing game 2069192...\n",
      "\t .... done: Perth Wildcats (89) vs New Zealand Breakers (80) on 2022-04-07 00:00:00\n",
      "Computing game 2069194...\n",
      "\t .... done: Tasmania JackJumpers (87) vs Cairns Taipans (80) on 2022-04-08 00:00:00\n",
      "Computing game 2069196...\n",
      "\t .... done: Brisbane Bullets (77) vs Illawarra Hawks (108) on 2022-04-09 00:00:00\n",
      "Computing game 2069199...\n",
      "\t .... done: Adelaide 36ers (77) vs Sydney Kings (84) on 2022-04-09 00:00:00\n",
      "Computing game 2069202...\n",
      "\t .... done: New Zealand Breakers (89) vs South East Melbourne Phoenix (99) on 2022-04-10 00:00:00\n",
      "Computing game 2069203...\n",
      "\t .... done: Cairns Taipans (63) vs Melbourne United (92) on 2022-04-10 00:00:00\n",
      "Computing game 2069204...\n"
     ]
    },
    {
     "name": "stderr",
     "output_type": "stream",
     "text": [
      "2022-09-17 18:26:32 WARNING Sub team 1 @ 00:07:00 in period 1: incoming players already in court: {'Daniel Johnson'}\n",
      "2022-09-17 18:26:32 WARNING Sub team 2 @ 00:01:53 in period 4: incoming players already in court: {'Deng Deng'}\n"
     ]
    },
    {
     "name": "stdout",
     "output_type": "stream",
     "text": [
      "\t .... done: Adelaide 36ers (85) vs Brisbane Bullets (93) on 2022-04-11 00:00:00\n",
      "Computing game 2069190...\n",
      "\t .... done: Sydney Kings (82) vs Adelaide 36ers (90) on 2022-04-17 00:00:00\n",
      "Computing game 2069193...\n",
      "\t .... done: South East Melbourne Phoenix (80) vs Tasmania JackJumpers (84) on 2022-04-17 00:00:00\n",
      "Computing game 2069195...\n",
      "\t .... done: Perth Wildcats (106) vs Cairns Taipans (87) on 2022-04-16 00:00:00\n",
      "Computing game 2069197...\n",
      "\t .... done: Melbourne United (88) vs Brisbane Bullets (79) on 2022-04-16 00:00:00\n",
      "Computing game 2069198...\n",
      "\t .... done: New Zealand Breakers (86) vs Tasmania JackJumpers (88) on 2022-04-15 00:00:00\n",
      "Computing game 2069200...\n",
      "\t .... done: Perth Wildcats (70) vs Adelaide 36ers (82) on 2022-04-14 00:00:00\n",
      "Computing game 2069201...\n",
      "\t .... done: Illawarra Hawks (102) vs Sydney Kings (107) on 2022-04-14 00:00:00\n",
      "Computing game 2069205...\n",
      "\t .... done: New Zealand Breakers (70) vs Sydney Kings (76) on 2022-04-12 00:00:00\n",
      "Computing game 2069173...\n",
      "\t .... done: Perth Wildcats (100) vs South East Melbourne Phoenix (102) on 2022-04-24 00:00:00\n",
      "Computing game 2069174...\n"
     ]
    },
    {
     "name": "stderr",
     "output_type": "stream",
     "text": [
      "2022-09-17 18:27:18 WARNING Sub team 1 @ 00:00:02.900000 in period 4: incoming players already in court: {'Angus Glover'}\n"
     ]
    },
    {
     "name": "stdout",
     "output_type": "stream",
     "text": [
      "\t .... done: Sydney Kings (84) vs Illawarra Hawks (87) on 2022-04-24 00:00:00\n",
      "Computing game 2069176...\n"
     ]
    },
    {
     "name": "stderr",
     "output_type": "stream",
     "text": [
      "2022-09-17 18:27:23 WARNING Sub team 1 @ 00:10:00 in period 4: incoming players already in court: {'Rasmus Bach'}\n"
     ]
    },
    {
     "name": "stdout",
     "output_type": "stream",
     "text": [
      "\t .... done: New Zealand Breakers (60) vs Adelaide 36ers (93) on 2022-04-24 00:00:00\n",
      "Computing game 2069178...\n",
      "\t .... done: Cairns Taipans (112) vs Brisbane Bullets (98) on 2022-04-23 00:00:00\n",
      "Computing game 2069180...\n"
     ]
    },
    {
     "name": "stderr",
     "output_type": "stream",
     "text": [
      "2022-09-17 18:27:33 WARNING Sub team 1 @ 00:09:00 in period 4: incoming players already in court: {'Fabijan Krslovic'}\n"
     ]
    },
    {
     "name": "stdout",
     "output_type": "stream",
     "text": [
      "\t .... done: Tasmania JackJumpers (83) vs Melbourne United (61) on 2022-04-23 00:00:00\n",
      "Computing game 2069182...\n",
      "\t .... done: Perth Wildcats (77) vs Illawarra Hawks (82) on 2022-04-22 00:00:00\n",
      "Computing game 2069188...\n",
      "\t .... done: Cairns Taipans (77) vs Sydney Kings (87) on 2022-04-21 00:00:00\n",
      "Computing game 2069189...\n",
      "\t .... done: Melbourne United (92) vs Cairns Taipans (80) on 2022-04-18 00:00:00\n",
      "Number of games:  139\n"
     ]
    },
    {
     "data": {
      "text/html": [
       "<div>\n",
       "<style scoped>\n",
       "    .dataframe tbody tr th:only-of-type {\n",
       "        vertical-align: middle;\n",
       "    }\n",
       "\n",
       "    .dataframe tbody tr th {\n",
       "        vertical-align: top;\n",
       "    }\n",
       "\n",
       "    .dataframe thead th {\n",
       "        text-align: right;\n",
       "    }\n",
       "</style>\n",
       "<table border=\"1\" class=\"dataframe\">\n",
       "  <thead>\n",
       "    <tr style=\"text-align: right;\">\n",
       "      <th></th>\n",
       "      <th>game_id</th>\n",
       "      <th>tno</th>\n",
       "      <th>player</th>\n",
       "      <th>shirtNumber</th>\n",
       "      <th>sMinutes</th>\n",
       "      <th>sFieldGoalsMade</th>\n",
       "      <th>sFieldGoalsAttempted</th>\n",
       "      <th>sFieldGoalsPercentage</th>\n",
       "      <th>sThreePointersMade</th>\n",
       "      <th>sThreePointersAttempted</th>\n",
       "      <th>...</th>\n",
       "      <th>photoT</th>\n",
       "      <th>photoS</th>\n",
       "      <th>playingPosition</th>\n",
       "      <th>starter</th>\n",
       "      <th>name</th>\n",
       "      <th>comp.sMinutesAverage</th>\n",
       "      <th>comp.sPointsAverage</th>\n",
       "      <th>comp.sReboundsTotalAverage</th>\n",
       "      <th>comp.sAssistsAverage</th>\n",
       "      <th>captain</th>\n",
       "    </tr>\n",
       "  </thead>\n",
       "  <tbody>\n",
       "    <tr>\n",
       "      <th>1473</th>\n",
       "      <td>2053820</td>\n",
       "      <td>2</td>\n",
       "      <td>Jarred Bairstow</td>\n",
       "      <td>21</td>\n",
       "      <td>00:06:12</td>\n",
       "      <td>0</td>\n",
       "      <td>0</td>\n",
       "      <td>0</td>\n",
       "      <td>0</td>\n",
       "      <td>0</td>\n",
       "      <td>...</td>\n",
       "      <td>http://img.wh.sportingpulseinternational.com/d...</td>\n",
       "      <td>http://img.wh.sportingpulseinternational.com/d...</td>\n",
       "      <td>F</td>\n",
       "      <td>0</td>\n",
       "      <td>J. Bairstow</td>\n",
       "      <td>8:01</td>\n",
       "      <td>1.70</td>\n",
       "      <td>1.80</td>\n",
       "      <td>0.40</td>\n",
       "      <td>False</td>\n",
       "    </tr>\n",
       "    <tr>\n",
       "      <th>1432</th>\n",
       "      <td>2053818</td>\n",
       "      <td>2</td>\n",
       "      <td>Tyrell Harrison</td>\n",
       "      <td>24</td>\n",
       "      <td>00:24:17</td>\n",
       "      <td>2</td>\n",
       "      <td>7</td>\n",
       "      <td>28</td>\n",
       "      <td>0</td>\n",
       "      <td>0</td>\n",
       "      <td>...</td>\n",
       "      <td>http://img.wh.sportingpulseinternational.com/c...</td>\n",
       "      <td>http://img.wh.sportingpulseinternational.com/c...</td>\n",
       "      <td>C</td>\n",
       "      <td>0</td>\n",
       "      <td>T. Harrison</td>\n",
       "      <td>20:43</td>\n",
       "      <td>6.57</td>\n",
       "      <td>6.29</td>\n",
       "      <td>0.64</td>\n",
       "      <td>False</td>\n",
       "    </tr>\n",
       "    <tr>\n",
       "      <th>1916</th>\n",
       "      <td>2065654</td>\n",
       "      <td>2</td>\n",
       "      <td>Keanu Pinder</td>\n",
       "      <td>25</td>\n",
       "      <td>00:22:27</td>\n",
       "      <td>6</td>\n",
       "      <td>12</td>\n",
       "      <td>50</td>\n",
       "      <td>0</td>\n",
       "      <td>0</td>\n",
       "      <td>...</td>\n",
       "      <td>http://img.wh.sportingpulseinternational.com/4...</td>\n",
       "      <td>http://img.wh.sportingpulseinternational.com/4...</td>\n",
       "      <td>F</td>\n",
       "      <td>1</td>\n",
       "      <td>K. Pinder</td>\n",
       "      <td>20:47</td>\n",
       "      <td>8.12</td>\n",
       "      <td>6.41</td>\n",
       "      <td>0.88</td>\n",
       "      <td>False</td>\n",
       "    </tr>\n",
       "    <tr>\n",
       "      <th>2357</th>\n",
       "      <td>2069187</td>\n",
       "      <td>2</td>\n",
       "      <td>Yudai Baba</td>\n",
       "      <td>18</td>\n",
       "      <td>00:17:44</td>\n",
       "      <td>1</td>\n",
       "      <td>2</td>\n",
       "      <td>50</td>\n",
       "      <td>1</td>\n",
       "      <td>2</td>\n",
       "      <td>...</td>\n",
       "      <td>http://img.wh.sportingpulseinternational.com/f...</td>\n",
       "      <td>http://img.wh.sportingpulseinternational.com/f...</td>\n",
       "      <td>G</td>\n",
       "      <td>1</td>\n",
       "      <td>Y. Baba</td>\n",
       "      <td>17:53</td>\n",
       "      <td>4.00</td>\n",
       "      <td>0.00</td>\n",
       "      <td>1.50</td>\n",
       "      <td>False</td>\n",
       "    </tr>\n",
       "    <tr>\n",
       "      <th>169</th>\n",
       "      <td>1976451</td>\n",
       "      <td>1</td>\n",
       "      <td>Bul Kuol</td>\n",
       "      <td>42</td>\n",
       "      <td>00:15:11</td>\n",
       "      <td>1</td>\n",
       "      <td>4</td>\n",
       "      <td>25</td>\n",
       "      <td>1</td>\n",
       "      <td>4</td>\n",
       "      <td>...</td>\n",
       "      <td>http://img.wh.sportingpulseinternational.com/c...</td>\n",
       "      <td>http://img.wh.sportingpulseinternational.com/c...</td>\n",
       "      <td>F</td>\n",
       "      <td>0</td>\n",
       "      <td>B. Kuol</td>\n",
       "      <td>13:11</td>\n",
       "      <td>3.00</td>\n",
       "      <td>1.50</td>\n",
       "      <td>1.00</td>\n",
       "      <td>False</td>\n",
       "    </tr>\n",
       "  </tbody>\n",
       "</table>\n",
       "<p>5 rows × 59 columns</p>\n",
       "</div>"
      ],
      "text/plain": [
       "      game_id tno           player shirtNumber  sMinutes  sFieldGoalsMade  \\\n",
       "1473  2053820   2  Jarred Bairstow          21  00:06:12                0   \n",
       "1432  2053818   2  Tyrell Harrison          24  00:24:17                2   \n",
       "1916  2065654   2     Keanu Pinder          25  00:22:27                6   \n",
       "2357  2069187   2       Yudai Baba          18  00:17:44                1   \n",
       "169   1976451   1         Bul Kuol          42  00:15:11                1   \n",
       "\n",
       "      sFieldGoalsAttempted  sFieldGoalsPercentage  sThreePointersMade  \\\n",
       "1473                     0                      0                   0   \n",
       "1432                     7                     28                   0   \n",
       "1916                    12                     50                   0   \n",
       "2357                     2                     50                   1   \n",
       "169                      4                     25                   1   \n",
       "\n",
       "      sThreePointersAttempted  ...  \\\n",
       "1473                        0  ...   \n",
       "1432                        0  ...   \n",
       "1916                        0  ...   \n",
       "2357                        2  ...   \n",
       "169                         4  ...   \n",
       "\n",
       "                                                 photoT  \\\n",
       "1473  http://img.wh.sportingpulseinternational.com/d...   \n",
       "1432  http://img.wh.sportingpulseinternational.com/c...   \n",
       "1916  http://img.wh.sportingpulseinternational.com/4...   \n",
       "2357  http://img.wh.sportingpulseinternational.com/f...   \n",
       "169   http://img.wh.sportingpulseinternational.com/c...   \n",
       "\n",
       "                                                 photoS  playingPosition  \\\n",
       "1473  http://img.wh.sportingpulseinternational.com/d...                F   \n",
       "1432  http://img.wh.sportingpulseinternational.com/c...                C   \n",
       "1916  http://img.wh.sportingpulseinternational.com/4...                F   \n",
       "2357  http://img.wh.sportingpulseinternational.com/f...                G   \n",
       "169   http://img.wh.sportingpulseinternational.com/c...                F   \n",
       "\n",
       "      starter         name  comp.sMinutesAverage  comp.sPointsAverage  \\\n",
       "1473        0  J. Bairstow                  8:01                 1.70   \n",
       "1432        0  T. Harrison                 20:43                 6.57   \n",
       "1916        1    K. Pinder                 20:47                 8.12   \n",
       "2357        1      Y. Baba                 17:53                 4.00   \n",
       "169         0      B. Kuol                 13:11                 3.00   \n",
       "\n",
       "      comp.sReboundsTotalAverage  comp.sAssistsAverage  captain  \n",
       "1473                        1.80                  0.40    False  \n",
       "1432                        6.29                  0.64    False  \n",
       "1916                        6.41                  0.88    False  \n",
       "2357                        0.00                  1.50    False  \n",
       "169                         1.50                  1.00    False  \n",
       "\n",
       "[5 rows x 59 columns]"
      ]
     },
     "execution_count": 6,
     "metadata": {},
     "output_type": "execute_result"
    }
   ],
   "source": [
    "# collect here set of stat dfs and game info, one per game\n",
    "#   then, we will put them together into different dataframes\n",
    "stint_stats_dfs = []\n",
    "stints_dfs = []\n",
    "players_dfs = []\n",
    "games_data = []\n",
    "\n",
    "# Build data for each game, we'll put them together after....\n",
    "for game in games:\n",
    "    # get game_id and round no (if available)\n",
    "    if isinstance(game, tuple):\n",
    "        game_id, round_no = game\n",
    "    else:\n",
    "        game_id = game\n",
    "        round_no = np.nan # no round info available\n",
    "\n",
    "    # don't scrape game data if already loaded from file, skip it\n",
    "    if game_id in existing_games:\n",
    "        print(f\"Game {game_id} was already saved on file; no scrapping...\")\n",
    "        continue\n",
    "\n",
    "    ##################################################################\n",
    "    # !!! MAIN STEP: scrape and compute the actual stats for the game\n",
    "    ##################################################################\n",
    "    print(f\"Computing game {game_id}...\")\n",
    "\n",
    "    # 1. Read game JSON file\n",
    "    game_json = tools.get_json_data(game_id)\n",
    "\n",
    "    result = bball_stats.build_game_stints_stats_df(game_json, game_id)\n",
    "    game_stint_stats_df = result['stint_stats_df']   #  this is basically what we care, the stint stats\n",
    "    game_stints_df = result['stints_df']\n",
    "    game_team1, game_team2 = result['teams']\n",
    "\n",
    "    # Add the game id column to game tables\n",
    "    game_stint_stats_df.insert(0, 'game_id', game_id)\n",
    "    game_stints_df.insert(0, 'game_id', game_id)\n",
    "\n",
    "    # Extract players in the game\n",
    "    players_df = bball_stats.get_players_stats(game_json)\n",
    "    players_df.insert(0, 'game_id', game_id)\n",
    "\n",
    "    # Add tables to collected set of tables, one per game\n",
    "    stint_stats_dfs.append(game_stint_stats_df)\n",
    "    stints_dfs.append(game_stints_df)\n",
    "    players_dfs.append(players_df)\n",
    "\n",
    "    # Next build the record for the game dataframe\n",
    "    # first, extract date of game from HTML page\n",
    "    try:\n",
    "        game_info = tools.get_game_info(game_id)\n",
    "    except:\n",
    "        game_info = { \"venue\" : np.nan, \"date\": np.nan}\n",
    "    print(f\"\\t .... done: {game_team1[0]} ({game_team1[1]}) vs {game_team2[0]} ({game_team2[1]}) on {game_info['date']}\")\n",
    "\n",
    "    games_data.append({\"game_id\": game_id,\n",
    "                        \"date\" : game_info['date'],\n",
    "                        \"round\": round_no,\n",
    "                        \"team1\": game_team1[0],\n",
    "                        \"team2\": game_team2[0],\n",
    "                        \"s1\": game_team1[1],\n",
    "                        \"s2\": game_team2[1],\n",
    "                        \"winner\": 1 if game_team1[1] > game_team2[1] else 2,\n",
    "                        \"venue\" : game_info[\"venue\"]}\n",
    "                      )\n",
    "\n",
    "\n",
    "#################################\n",
    "# All games have been processed, now put all dfs together\n",
    "#################################\n",
    "\n",
    "# First, build a dataframe with all the game data collected\n",
    "games_df = pd.DataFrame(games_data) if saved_games_df is None else pd.concat([saved_games_df, pd.DataFrame(games_data)])\n",
    "games_df.reset_index(inplace=True, drop=True)\n",
    "\n",
    "# Build players dataframe\n",
    "players_df = pd.concat(players_dfs + ([saved_players_df] if saved_players_df is not None else []))\n",
    "players_df.reset_index(inplace=True, drop=True)\n",
    "\n",
    "# Build stint stats dataframe\n",
    "stint_stats_df = pd.concat(stint_stats_dfs + ([saved_stint_stats_df] if saved_stint_stats_df is not None else []))\n",
    "stint_stats_df.reset_index(inplace=True, drop=True)\n",
    "\n",
    "# Build stints dataframe\n",
    "stints_df = pd.concat(stints_dfs + ([saved_stints_df] if saved_stints_df is not None else []))\n",
    "stints_df.reset_index(inplace=True, drop=True)\n",
    "\n",
    "print(\"Number of games: \", games_df.shape[0])\n",
    "stint_stats_df.sample(2)\n",
    "stints_df.sample(2)\n",
    "games_df.sample(5)\n",
    "players_df.sample(5)"
   ]
  },
  {
   "cell_type": "markdown",
   "metadata": {},
   "source": [
    "If we want we can do some sanity checks, before saving to disk:"
   ]
  },
  {
   "cell_type": "code",
   "execution_count": 7,
   "metadata": {},
   "outputs": [
    {
     "data": {
      "text/html": [
       "\n",
       "        <iframe\n",
       "            width=\"100%\"\n",
       "            height=\"475\"\n",
       "            src=\"http://Thinkpad-X1:40000/dtale/iframe/2\"\n",
       "            frameborder=\"0\"\n",
       "            allowfullscreen\n",
       "            \n",
       "        ></iframe>\n",
       "        "
      ],
      "text/plain": [
       "<IPython.lib.display.IFrame at 0x7f4863d96980>"
      ]
     },
     "metadata": {},
     "output_type": "display_data"
    },
    {
     "data": {
      "text/plain": []
     },
     "execution_count": 7,
     "metadata": {},
     "output_type": "execute_result"
    }
   ],
   "source": [
    "dtale.show(games_df)\n",
    "dtale.show(stint_stats_df)\n",
    "# dtale.show(stints_df)\n",
    "# dtale.show(players_df)"
   ]
  },
  {
   "cell_type": "code",
   "execution_count": 9,
   "metadata": {},
   "outputs": [
    {
     "name": "stdout",
     "output_type": "stream",
     "text": [
      "The shape of stats_df is: (4687, 99)\n",
      "Stats cols: ['poss', 'ortg', 'drtg', 'nrtg', 'fga', 'fgm', 'fgp', 'pts', 'patra', 'patrm', 'patrp', '3pt_fga', '3pt_fgm', '3pt_fgp', '2pt_fga', '2pt_fgm', '2pt_fgp', 'fta', 'ftm', 'ftp', 'tsp', 'ast', 'astr', 'fgm_astp', 'stl', 'stlr', 'blk', 'blkr', 'tov', 'tovr', 'reb', 'dreb', 'drebc', 'drebp', 'oreb', 'odrec', 'orebp', 'trb', 'trbr', 'tov_bh', 'tov_bp', 'tov_ofoul', 'tov_3sec', 'tov_8sec', 'tov_24sec', 'opp_fga_blocked']\n"
     ]
    },
    {
     "data": {
      "text/html": [
       "<div>\n",
       "<style scoped>\n",
       "    .dataframe tbody tr th:only-of-type {\n",
       "        vertical-align: middle;\n",
       "    }\n",
       "\n",
       "    .dataframe tbody tr th {\n",
       "        vertical-align: top;\n",
       "    }\n",
       "\n",
       "    .dataframe thead th {\n",
       "        text-align: right;\n",
       "    }\n",
       "</style>\n",
       "<table border=\"1\" class=\"dataframe\">\n",
       "  <thead>\n",
       "    <tr style=\"text-align: right;\">\n",
       "      <th></th>\n",
       "      <th>game_id</th>\n",
       "      <th>tno</th>\n",
       "      <th>team</th>\n",
       "      <th>stint</th>\n",
       "      <th>tsp</th>\n",
       "      <th>3pt_fga</th>\n",
       "      <th>astr</th>\n",
       "      <th>fta</th>\n",
       "      <th>fga</th>\n",
       "      <th>reb</th>\n",
       "      <th>fgp</th>\n",
       "      <th>patrp</th>\n",
       "      <th>tsp_opp</th>\n",
       "      <th>3pt_fga_opp</th>\n",
       "      <th>astr_opp</th>\n",
       "      <th>fta_opp</th>\n",
       "      <th>fga_opp</th>\n",
       "      <th>reb_opp</th>\n",
       "      <th>fgp_opp</th>\n",
       "      <th>patrp_opp</th>\n",
       "    </tr>\n",
       "  </thead>\n",
       "  <tbody>\n",
       "    <tr>\n",
       "      <th>4041</th>\n",
       "      <td>2069202</td>\n",
       "      <td>2</td>\n",
       "      <td>South East Melbourne Phoenix</td>\n",
       "      <td>14</td>\n",
       "      <td>17.36</td>\n",
       "      <td>0.0</td>\n",
       "      <td>0.00</td>\n",
       "      <td>2.0</td>\n",
       "      <td>2.0</td>\n",
       "      <td>4.0</td>\n",
       "      <td>0.00</td>\n",
       "      <td>0.0</td>\n",
       "      <td>0.00</td>\n",
       "      <td>3.0</td>\n",
       "      <td>0.00</td>\n",
       "      <td>0.0</td>\n",
       "      <td>3.0</td>\n",
       "      <td>1.0</td>\n",
       "      <td>0.0</td>\n",
       "      <td>0.00</td>\n",
       "    </tr>\n",
       "    <tr>\n",
       "      <th>397</th>\n",
       "      <td>1976456</td>\n",
       "      <td>1</td>\n",
       "      <td>Tasmania JackJumpers</td>\n",
       "      <td>8</td>\n",
       "      <td>34.72</td>\n",
       "      <td>2.0</td>\n",
       "      <td>0.00</td>\n",
       "      <td>2.0</td>\n",
       "      <td>2.0</td>\n",
       "      <td>2.0</td>\n",
       "      <td>0.00</td>\n",
       "      <td>0.0</td>\n",
       "      <td>0.00</td>\n",
       "      <td>1.0</td>\n",
       "      <td>0.00</td>\n",
       "      <td>0.0</td>\n",
       "      <td>2.0</td>\n",
       "      <td>2.0</td>\n",
       "      <td>0.0</td>\n",
       "      <td>0.00</td>\n",
       "    </tr>\n",
       "    <tr>\n",
       "      <th>2846</th>\n",
       "      <td>2056464</td>\n",
       "      <td>2</td>\n",
       "      <td>Tasmania JackJumpers</td>\n",
       "      <td>1</td>\n",
       "      <td>81.86</td>\n",
       "      <td>19.0</td>\n",
       "      <td>21.96</td>\n",
       "      <td>3.0</td>\n",
       "      <td>28.0</td>\n",
       "      <td>16.0</td>\n",
       "      <td>60.71</td>\n",
       "      <td>50.0</td>\n",
       "      <td>53.19</td>\n",
       "      <td>7.0</td>\n",
       "      <td>31.65</td>\n",
       "      <td>1.0</td>\n",
       "      <td>24.0</td>\n",
       "      <td>8.0</td>\n",
       "      <td>50.0</td>\n",
       "      <td>58.33</td>\n",
       "    </tr>\n",
       "    <tr>\n",
       "      <th>1230</th>\n",
       "      <td>2031338</td>\n",
       "      <td>2</td>\n",
       "      <td>Brisbane Bullets</td>\n",
       "      <td>18</td>\n",
       "      <td>61.48</td>\n",
       "      <td>0.0</td>\n",
       "      <td>0.00</td>\n",
       "      <td>1.0</td>\n",
       "      <td>2.0</td>\n",
       "      <td>0.0</td>\n",
       "      <td>50.00</td>\n",
       "      <td>0.0</td>\n",
       "      <td>50.00</td>\n",
       "      <td>1.0</td>\n",
       "      <td>0.00</td>\n",
       "      <td>0.0</td>\n",
       "      <td>2.0</td>\n",
       "      <td>1.0</td>\n",
       "      <td>50.0</td>\n",
       "      <td>0.00</td>\n",
       "    </tr>\n",
       "    <tr>\n",
       "      <th>200</th>\n",
       "      <td>2004608</td>\n",
       "      <td>2</td>\n",
       "      <td>Cairns Taipans</td>\n",
       "      <td>9</td>\n",
       "      <td>28.57</td>\n",
       "      <td>5.0</td>\n",
       "      <td>16.67</td>\n",
       "      <td>0.0</td>\n",
       "      <td>7.0</td>\n",
       "      <td>1.0</td>\n",
       "      <td>28.57</td>\n",
       "      <td>100.0</td>\n",
       "      <td>125.00</td>\n",
       "      <td>2.0</td>\n",
       "      <td>25.00</td>\n",
       "      <td>0.0</td>\n",
       "      <td>4.0</td>\n",
       "      <td>3.0</td>\n",
       "      <td>100.0</td>\n",
       "      <td>100.00</td>\n",
       "    </tr>\n",
       "  </tbody>\n",
       "</table>\n",
       "</div>"
      ],
      "text/plain": [
       "      game_id  tno                          team  stint    tsp  3pt_fga  \\\n",
       "4041  2069202    2  South East Melbourne Phoenix     14  17.36      0.0   \n",
       "397   1976456    1          Tasmania JackJumpers      8  34.72      2.0   \n",
       "2846  2056464    2          Tasmania JackJumpers      1  81.86     19.0   \n",
       "1230  2031338    2              Brisbane Bullets     18  61.48      0.0   \n",
       "200   2004608    2                Cairns Taipans      9  28.57      5.0   \n",
       "\n",
       "       astr  fta   fga   reb    fgp  patrp  tsp_opp  3pt_fga_opp  astr_opp  \\\n",
       "4041   0.00  2.0   2.0   4.0   0.00    0.0     0.00          3.0      0.00   \n",
       "397    0.00  2.0   2.0   2.0   0.00    0.0     0.00          1.0      0.00   \n",
       "2846  21.96  3.0  28.0  16.0  60.71   50.0    53.19          7.0     31.65   \n",
       "1230   0.00  1.0   2.0   0.0  50.00    0.0    50.00          1.0      0.00   \n",
       "200   16.67  0.0   7.0   1.0  28.57  100.0   125.00          2.0     25.00   \n",
       "\n",
       "      fta_opp  fga_opp  reb_opp  fgp_opp  patrp_opp  \n",
       "4041      0.0      3.0      1.0      0.0       0.00  \n",
       "397       0.0      2.0      2.0      0.0       0.00  \n",
       "2846      1.0     24.0      8.0     50.0      58.33  \n",
       "1230      0.0      2.0      1.0     50.0       0.00  \n",
       "200       0.0      4.0      3.0    100.0     100.00  "
      ]
     },
     "execution_count": 9,
     "metadata": {},
     "output_type": "execute_result"
    }
   ],
   "source": [
    "import random\n",
    "print(\"The shape of stats_df is:\", stint_stats_df.shape)\n",
    "stats_cols = list(stint_stats_df.columns[4:-49])\n",
    "print(\"Stats cols:\", stats_cols)\n",
    "\n",
    "# build columns we want to show\n",
    "cols = ['game_id' , 'tno', 'team', 'stint']\n",
    "rnd_cols = random.sample(stats_cols, 8)\n",
    "rnd_cols.extend([f\"{x}_opp\" for x in rnd_cols])\n",
    "cols.extend(rnd_cols)\n",
    "\n",
    "# show some sample of stats computed\n",
    "stint_stats_df[cols].sample(5)"
   ]
  },
  {
   "cell_type": "markdown",
   "metadata": {},
   "source": [
    "Sanity check that `(ortg, drtg)` (offensive/defensive rate goal) should mirror `(drtg_opp, ortg_opp)` (opponent offensive/defensive rate goal)):"
   ]
  },
  {
   "cell_type": "code",
   "execution_count": 10,
   "metadata": {},
   "outputs": [
    {
     "data": {
      "text/plain": [
       "game_id                  1976446\n",
       "team        Tasmania JackJumpers\n",
       "poss                         3.0\n",
       "ortg                      266.67\n",
       "drtg                       100.0\n",
       "poss_opp                     4.0\n",
       "ortg_opp                   100.0\n",
       "drtg_opp                  266.67\n",
       "Name: 4, dtype: object"
      ]
     },
     "execution_count": 10,
     "metadata": {},
     "output_type": "execute_result"
    }
   ],
   "source": [
    "# (ortg, drtg) should mirror (drtg_opp, ortg_opp)\n",
    "stint_stats_df.iloc[4][['game_id' , 'team', 'poss', 'ortg', 'drtg', \"poss_opp\", \"ortg_opp\", \"drtg_opp\"]]"
   ]
  },
  {
   "cell_type": "markdown",
   "metadata": {},
   "source": [
    "## 3. Save stats and games to files\n",
    "\n",
    "We now save the full dataframes (stats and games) in various formats: binary (pickle), csv, and Excel.\n",
    "\n",
    "This will allows us to re-load that data later to add more games to it quicker."
   ]
  },
  {
   "cell_type": "code",
   "execution_count": 11,
   "metadata": {},
   "outputs": [
    {
     "name": "stdout",
     "output_type": "stream",
     "text": [
      "Finished saving at time: 09/17/2022, 20:53:50\n"
     ]
    }
   ],
   "source": [
    "import datetime\n",
    "import os\n",
    "import shutil\n",
    "from pathlib import Path\n",
    "\n",
    "# make a backup of existing tables on files\n",
    "for pkl_file in FILES.values():\n",
    "    for ext in ['.csv', '.xlsx', '.pkl']:\n",
    "        file = Path(pkl_file).with_suffix(ext)\n",
    "        if os.path.exists(file):\n",
    "            # print(\"Backup file\", file)\n",
    "            shutil.copy(file, file.with_suffix(\".bak\"))\n",
    "\n",
    "# dump stint stats dataframe\n",
    "stint_stats_df.to_pickle(Path(DATA_DIR, \"stint_stats_df\").with_suffix(\".pkl\"))\n",
    "stint_stats_df.to_csv(Path(DATA_DIR, \"stint_stats_df\").with_suffix(\".csv\"), index=False)\n",
    "stint_stats_df.to_excel(Path(DATA_DIR, \"stint_stats_df\").with_suffix(\".xlsx\"), index=False)\n",
    "\n",
    "# dump stint stats dataframe\n",
    "stints_df.to_pickle(Path(DATA_DIR, \"stints_df\").with_suffix(\".pkl\"))\n",
    "stints_df.to_csv(Path(DATA_DIR, \"stints_df\").with_suffix(\".csv\"), index=False)\n",
    "stints_df.to_excel(Path(DATA_DIR, \"stints_df\").with_suffix(\".xlsx\"), index=False)\n",
    "\n",
    "# dump game dataframe\n",
    "games_df.to_pickle(Path(DATA_DIR, \"games_df\").with_suffix(\".pkl\"))\n",
    "games_df.to_csv(Path(DATA_DIR, \"games_df\").with_suffix(\".csv\"), index=False)\n",
    "games_df.to_excel(Path(DATA_DIR, \"games_df\").with_suffix(\".xlsx\"), index=False)\n",
    "\n",
    "# dump players dataframe\n",
    "players_df.to_pickle(Path(DATA_DIR, \"players_df\").with_suffix(\".pkl\"))\n",
    "players_df.to_csv(Path(DATA_DIR, \"players_df\").with_suffix(\".csv\"), index=False)\n",
    "players_df.to_excel(Path(DATA_DIR, \"players_df\").with_suffix(\".xlsx\"), index=False)\n",
    "\n",
    "now = datetime.datetime.now() # current date and time\n",
    "date_time = now.strftime(\"%m/%d/%Y, %H:%M:%S\")\n",
    "print(f\"Finished saving at time: {date_time}\")"
   ]
  },
  {
   "cell_type": "markdown",
   "metadata": {},
   "source": [
    "## 4. Inspection & analysis\n",
    "\n",
    "We use [dtale](https://pypi.org/project/dtale/) package for this."
   ]
  },
  {
   "cell_type": "code",
   "execution_count": null,
   "metadata": {},
   "outputs": [],
   "source": [
    "dtale.show(stint_stats_df)\n",
    "# dtale.show(stats_df[['tno', 'stint', 'poss', 'ortg', 'drtg', \"poss_opp\", \"ortg_opp\", \"drtg_opp\"]])"
   ]
  },
  {
   "cell_type": "markdown",
   "metadata": {},
   "source": [
    "## 5. Some checks..."
   ]
  },
  {
   "cell_type": "markdown",
   "metadata": {},
   "source": [
    "Check if a stint lineup has more than 5 players! It could happen:\n",
    "\n",
    "1. Game 2031329, player H. Besson comes out (wrongly?) at 3rd period min 10:00 but he keeps playing and then goes out again at 7:33."
   ]
  },
  {
   "cell_type": "code",
   "execution_count": null,
   "metadata": {},
   "outputs": [],
   "source": [
    "stint_stats_df.shape\n",
    "mask = stint_stats_df['lineup'].apply(lambda x: len(x) != 5)\n",
    "stint_stats_df[mask]\n",
    "\n",
    "# stats_df.iloc[941][['game_id', 'lineup']]"
   ]
  }
 ],
 "metadata": {
  "kernelspec": {
   "display_name": "Python 3.10.7 ('p10')",
   "language": "python",
   "name": "python3"
  },
  "language_info": {
   "codemirror_mode": {
    "name": "ipython",
    "version": 3
   },
   "file_extension": ".py",
   "mimetype": "text/x-python",
   "name": "python",
   "nbconvert_exporter": "python",
   "pygments_lexer": "ipython3",
   "version": "3.10.7"
  },
  "orig_nbformat": 4,
  "vscode": {
   "interpreter": {
    "hash": "bba08d008a084c0b9f453daa67c429f78b2a7511c43dcbed9cf62fe0b7ddf753"
   }
  }
 },
 "nbformat": 4,
 "nbformat_minor": 2
}
