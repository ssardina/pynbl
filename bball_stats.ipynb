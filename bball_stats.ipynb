{
 "cells": [
  {
   "cell_type": "markdown",
   "metadata": {},
   "source": [
    "# BSS-AUS: Basketball Statistic System (AUS)\n",
    "\n",
    "This system allows to **incrementally** build a database of _stint lineups_ (advance) statistics for each game and each team.\n",
    "\n",
    "A **stint** is a lineup of players who play together in different interval periods across the game. The system will build the stints for each team from the play-by-play data and compute various statistics.\n",
    "\n",
    "The data comes as a raw JSON file:\n",
    "\n",
    "https://fibalivestats.dcd.shared.geniussports.com/data/2087737/data.json"
   ]
  },
  {
   "cell_type": "code",
   "execution_count": 1,
   "metadata": {},
   "outputs": [],
   "source": [
    "# Let's first load all required packages...\n",
    "import os\n",
    "import pandas as pd\n",
    "import numpy as np\n",
    "\n",
    "from config import *\n",
    "import bball_stats\n",
    "import tools"
   ]
  },
  {
   "cell_type": "markdown",
   "metadata": {},
   "source": [
    "## 1. Define games to scrape and saved data\n",
    "\n",
    "First, setup the games we want to scrape and compute, as well as the existing data stored in file to append to."
   ]
  },
  {
   "cell_type": "code",
   "execution_count": 2,
   "metadata": {},
   "outputs": [],
   "source": [
    "# games to be computed\n",
    "# format: (game id, game no for team 1, game no for team 2)\n",
    "games = [(1999318, 1, 1), (2087737, 2, 2), (2090351, 3, 3)]\n",
    "games = [(1976463, 0, 0)]\n",
    "# games = [1976446,1976447,1976448,1976452,1976454,2004608,2004609,1976449,1976451,1976453,1976455,1976458,1976456,1976457,1976459,1976460,1976461,1976462,1976463,1976464,2004610,1976465,1976468,1976469,1976474,1976473,1976482,2036215,2031329,2031330,2031332,2031333,2031334,2031335,2031336,2031337,2031338,2031340,2031341,2046695,2046696,2046697,2031342,2031343,2031344,2031345,2031346,2031347,2046698,2046700,2046701,2046702,2046703,2046704,2046706,2046707,2046709,2046710,2046711,2046712,2046713,2051763,2053811,2053812,2053813,2053814,2053815,2053816,2053817,2053818,2053819,2053820,2053821,2053822,2053823,2053824,2053825,2056454,2056455,2056457,2056458,2056461,2056462,2056460,2056463,2056464,2056466,2056467,2056469,2056471,2056472,2056473,2065653,2065654,2065655,2065656,2065657,2065658,2065659,2069165,2069166,2069167,2069168,2069169,2069170,2069171,2069172,2069175,2069177,2069179,2069181,2069183,2069184,2069186,2069187,2069191,2069192,2069194,2069196,2069199,2069202,2069203,2069204,2069190,2069193,2069195,2069197,2069198,2069200,2069201,2069205,2069173,2069174,2069176,2069178,2069180,2069182,2069180,2069188,2069189]\n",
    "# games = [(n, 0, 0) for n in games]\n",
    "\n",
    "reload = True\n",
    "file_stats_df = os.path.join(DATA_DIR, \"stats_df.pkl\")\n",
    "file_games_df = os.path.join(DATA_DIR, \"games_df.pkl\")"
   ]
  },
  {
   "cell_type": "markdown",
   "metadata": {},
   "source": [
    "## 2. Compute stat and game tables\n",
    "\n",
    "Now, let us run the system that scrapes the games' data, computes stats and game info, and adds them to the initial tables of stats and games."
   ]
  },
  {
   "cell_type": "code",
   "execution_count": 3,
   "metadata": {},
   "outputs": [
    {
     "name": "stdout",
     "output_type": "stream",
     "text": [
      "Computing game 1976463...\n",
      "\t .... done: Melbourne United (83) vs New Zealand Breakers (60) on 2021-12-19 00:00:00\n"
     ]
    }
   ],
   "source": [
    "init_stats_df = None\n",
    "game_df = None\n",
    "if os.path.exists(file_stats_df) and not reload:\n",
    "    # load the stat dataframe already stored as a file\n",
    "    print(f\"Loading initial stats df: {file_stats_df}\")\n",
    "    init_stats_df = pd.read_pickle(file_stats_df)\n",
    "    game_df = pd.read_pickle(file_games_df)\n",
    "    existing_games = init_stats_df.game_id.unique()\n",
    "else:\n",
    "    existing_games = []\n",
    "\n",
    "stats_dfs = [init_stats_df] if init_stats_df is not None else []\n",
    "games_data = []\n",
    "for game in games:\n",
    "    game_id, game_no1, game_no2 = game\n",
    "    if game_id in existing_games:\n",
    "        print(f\"Game {game_id} is already in table\")\n",
    "        continue\n",
    "    print(f\"Computing game {game_id}...\")\n",
    "\n",
    "    # now compute the actual stats for the game\n",
    "    result = bball_stats.build_game_stints_stats_df(game_id)\n",
    "    df = result['stint_stats_df']\n",
    "    team1 = result['team1']\n",
    "    team2 = result['team2']\n",
    "    try:\n",
    "        game_info = tools.get_game_info(game_id)    # extract date of game from HTML\n",
    "    except:\n",
    "        game_info = { \"venue\" : np.nan, \"date\": np.nan}\n",
    "    print(f\"\\t .... done: {team1[0]} ({team1[1]}) vs {team2[0]} ({team2[1]}) on {game_info['date']}\")\n",
    "\n",
    "    # fill game info\n",
    "    df.insert(0, 'game_id', game_id)\n",
    "    df.insert(3, 'game_no1', game_no1)\n",
    "    df.insert(4, 'game_no2', game_no2)\n",
    "    stats_dfs.append(df)\n",
    "\n",
    "    # build game dataframe table\n",
    "    games_data.append({\"game_id\": game_id,\n",
    "                        \"date\" : game_info['date'],\n",
    "                        \"team1\": team1[0], \"team2\": team2[0],\n",
    "                        \"s1\": team1[1], \"s2\": team2[1],\n",
    "                        \"game_no1\": game_no2, \"game_no2\": game_no2,\n",
    "                        \"winner\": 1 if team1[1] > team2[1] else 2,\n",
    "                        \"venue\" : game_info[\"venue\"]}\n",
    "                      )\n",
    "\n",
    "# put all dfs together into a single dataframe\n",
    "stats_df = pd.concat(stats_dfs)\n",
    "stats_df.reset_index(inplace=True, drop=True)\n",
    "stats_df.sample(5)\n",
    "\n",
    "if game_df is not None:\n",
    "    games_df = pd.concat([game_df, pd.DataFrame(games_data)])\n",
    "    games_df.reset_index(inplace=True, drop=True)\n",
    "else:\n",
    "    games_df = pd.DataFrame(games_data)"
   ]
  },
  {
   "cell_type": "markdown",
   "metadata": {},
   "source": [
    "If we want we can do some sanity checks, before saving to disk:"
   ]
  },
  {
   "cell_type": "code",
   "execution_count": 4,
   "metadata": {},
   "outputs": [
    {
     "data": {
      "text/html": [
       "<div>\n",
       "<style scoped>\n",
       "    .dataframe tbody tr th:only-of-type {\n",
       "        vertical-align: middle;\n",
       "    }\n",
       "\n",
       "    .dataframe tbody tr th {\n",
       "        vertical-align: top;\n",
       "    }\n",
       "\n",
       "    .dataframe thead th {\n",
       "        text-align: right;\n",
       "    }\n",
       "</style>\n",
       "<table border=\"1\" class=\"dataframe\">\n",
       "  <thead>\n",
       "    <tr style=\"text-align: right;\">\n",
       "      <th></th>\n",
       "      <th>game_id</th>\n",
       "      <th>date</th>\n",
       "      <th>team1</th>\n",
       "      <th>team2</th>\n",
       "      <th>s1</th>\n",
       "      <th>s2</th>\n",
       "      <th>game_no1</th>\n",
       "      <th>game_no2</th>\n",
       "      <th>winner</th>\n",
       "      <th>venue</th>\n",
       "    </tr>\n",
       "  </thead>\n",
       "  <tbody>\n",
       "    <tr>\n",
       "      <th>0</th>\n",
       "      <td>1976463</td>\n",
       "      <td>2021-12-19</td>\n",
       "      <td>Melbourne United</td>\n",
       "      <td>New Zealand Breakers</td>\n",
       "      <td>83</td>\n",
       "      <td>60</td>\n",
       "      <td>0</td>\n",
       "      <td>0</td>\n",
       "      <td>1</td>\n",
       "      <td>John Cain Arena</td>\n",
       "    </tr>\n",
       "  </tbody>\n",
       "</table>\n",
       "</div>"
      ],
      "text/plain": [
       "   game_id       date             team1                 team2  s1  s2  \\\n",
       "0  1976463 2021-12-19  Melbourne United  New Zealand Breakers  83  60   \n",
       "\n",
       "   game_no1  game_no2  winner            venue  \n",
       "0         0         0       1  John Cain Arena  "
      ]
     },
     "execution_count": 4,
     "metadata": {},
     "output_type": "execute_result"
    }
   ],
   "source": [
    "games_df"
   ]
  },
  {
   "cell_type": "code",
   "execution_count": 7,
   "metadata": {},
   "outputs": [
    {
     "data": {
      "text/plain": [
       "game_id                                                          1976463\n",
       "tno                                                                    1\n",
       "team                                                    Melbourne United\n",
       "game_no1                                                               0\n",
       "game_no2                                                               0\n",
       "                                             ...                        \n",
       "tov_24sec_opp                                                          0\n",
       "opp_fga_blocked_opp                                                    0\n",
       "lineup                 (M. Dellavedova, M. Peatling, J. Lual-Acuil, J...\n",
       "intervals                                      [(2, 00:07:19, 00:06:45)]\n",
       "mins                                                            0.566667\n",
       "Name: 4, Length: 97, dtype: object"
      ]
     },
     "execution_count": 7,
     "metadata": {},
     "output_type": "execute_result"
    }
   ],
   "source": [
    "stats_df.head(10)\n",
    "# stats_df.loc[4]"
   ]
  },
  {
   "cell_type": "code",
   "execution_count": 5,
   "metadata": {},
   "outputs": [
    {
     "data": {
      "text/plain": [
       "poss         10.88\n",
       "ortg         73.53\n",
       "drtg        101.21\n",
       "poss_opp      9.88\n",
       "ortg_opp    101.21\n",
       "drtg_opp     73.53\n",
       "Name: 41, dtype: object"
      ]
     },
     "execution_count": 5,
     "metadata": {},
     "output_type": "execute_result"
    }
   ],
   "source": [
    "# (ortg, drtg) should mirror (drtg_opp, ortg)\n",
    "stats_df.iloc[41][['poss', 'ortg', 'drtg', \"poss_opp\", \"ortg_opp\", \"drtg_opp\"]]"
   ]
  },
  {
   "cell_type": "markdown",
   "metadata": {},
   "source": [
    "## 3. Save stats and games to files\n",
    "\n",
    "We now save the full dataframes (stats and games) in various formats: binary (pickle), csv, and Excel.\n",
    "\n",
    "This will allows us to re-load that data later to add more games to it quicker."
   ]
  },
  {
   "cell_type": "code",
   "execution_count": 8,
   "metadata": {},
   "outputs": [],
   "source": [
    "\n",
    "import os\n",
    "\n",
    "stats_df.to_pickle(os.path.join(DATA_DIR, \"stats_df.pkl\"))\n",
    "games_df.to_pickle(os.path.join(DATA_DIR, \"games_df.pkl\"))\n",
    "\n",
    "stats_df.to_csv(os.path.join(DATA_DIR, \"stats_df.csv\"))\n",
    "games_df.to_csv(os.path.join(DATA_DIR, \"games_df.csv\"))\n",
    "\n",
    "with pd.ExcelWriter(os.path.join(DATA_DIR, 'stats_df.xlsx')) as writer:\n",
    "    stats_df.to_excel(writer, sheet_name='STATS')\n",
    "    games_df.to_excel(writer, sheet_name='GAMES')\n",
    "games_df.to_excel(os.path.join(DATA_DIR, \"games_df.xlsx\"))\n"
   ]
  },
  {
   "cell_type": "markdown",
   "metadata": {},
   "source": [
    "### 3. Inspection & analysis\n",
    "\n",
    "We use [dtale](https://pypi.org/project/dtale/) package for this."
   ]
  },
  {
   "cell_type": "code",
   "execution_count": 7,
   "metadata": {},
   "outputs": [
    {
     "data": {
      "text/html": [
       "\n",
       "        <iframe\n",
       "            width=\"100%\"\n",
       "            height=\"475\"\n",
       "            src=\"http://Thinkpad-X1:40000/dtale/iframe/1\"\n",
       "            frameborder=\"0\"\n",
       "            allowfullscreen\n",
       "        ></iframe>\n",
       "        "
      ],
      "text/plain": [
       "<IPython.lib.display.IFrame at 0x7f8bd3bd8ac0>"
      ]
     },
     "metadata": {},
     "output_type": "display_data"
    },
    {
     "data": {
      "text/plain": []
     },
     "execution_count": 7,
     "metadata": {},
     "output_type": "execute_result"
    }
   ],
   "source": [
    "import dtale\n",
    "\n",
    "dtale.show(stats_df)\n",
    "# dtale.show(stats_df[['tno', 'stint', 'poss', 'ortg', 'drtg', \"poss_opp\", \"ortg_opp\", \"drtg_opp\"]])"
   ]
  },
  {
   "cell_type": "markdown",
   "metadata": {},
   "source": [
    "## Web page analysis"
   ]
  },
  {
   "cell_type": "code",
   "execution_count": 8,
   "metadata": {},
   "outputs": [
    {
     "data": {
      "text/plain": [
       "{'venue': 'MyState Bank Arena', 'date': datetime.datetime(2021, 12, 3, 0, 0)}"
      ]
     },
     "execution_count": 8,
     "metadata": {},
     "output_type": "execute_result"
    }
   ],
   "source": [
    "tools.get_game_info(1976446)\n",
    "# import datetime\n",
    "# datetime.datetime.strptime(\"3/2/89\", \"%d/%m/%y\")"
   ]
  }
 ],
 "metadata": {
  "kernelspec": {
   "display_name": "Python 3.8.10 64-bit",
   "language": "python",
   "name": "python3"
  },
  "language_info": {
   "codemirror_mode": {
    "name": "ipython",
    "version": 3
   },
   "file_extension": ".py",
   "mimetype": "text/x-python",
   "name": "python",
   "nbconvert_exporter": "python",
   "pygments_lexer": "ipython3",
   "version": "3.8.10"
  },
  "orig_nbformat": 4,
  "vscode": {
   "interpreter": {
    "hash": "31f2aee4e71d21fbe5cf8b01ff0e069b9275f58929596ceb00d14d90e3e16cd6"
   }
  }
 },
 "nbformat": 4,
 "nbformat_minor": 2
}
