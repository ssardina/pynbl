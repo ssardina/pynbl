{
 "cells": [
  {
   "cell_type": "markdown",
   "metadata": {},
   "source": [
    "# pyNBL: Basketball Statistic System for Australian NBL\n",
    "\n",
    "[![Binder](https://mybinder.org/badge_logo.svg)](https://mybinder.org/v2/gh/ssardina/pynbl/HEAD)\n",
    "\n",
    "This notebook **incrementally** builds a set of stat tables from NBL Basketball Games:\n",
    "\n",
    "1. A table of games played, with team names, points, venue, etc.\n",
    "2. A stat table of _stint lineups_ (advance) statistics for each game and each team. A **stint** is a lineup of players who play together in different interval periods across the game. This table will contain the stints for each team from the play-by-play data and compute various statistics for those stints.\n",
    "\n",
    "Tables will be saved in CSV and Excel formats as well as in [Pickle format](https://docs.python.org/3/library/pickle.html) for later recovery as Panda DataFrames.\n",
    "\n",
    "\n",
    "The data comes as a raw JSON file using the game id (e.g., `2087737`):\n",
    "\n",
    "https://fibalivestats.dcd.shared.geniussports.com/data/2087737/data.json"
   ]
  },
  {
   "cell_type": "code",
   "execution_count": 1,
   "metadata": {},
   "outputs": [],
   "source": [
    "# Let's first load all required packages...\n",
    "import os\n",
    "from pathlib import Path\n",
    "import pandas as pd\n",
    "import numpy as np\n",
    "import dtale\n",
    "\n",
    "from config import *\n",
    "import bball_stats\n",
    "import tools\n",
    "\n",
    "\n",
    "# Set folder with data files and Pickle tables saved on disk\n",
    "def get_save_files(dir):\n",
    "    FILES = dict()\n",
    "    FILES['stint_stats'] = Path(dir, \"stint_stats_df\").with_suffix('.pkl')\n",
    "    FILES['stints'] = Path(dir, \"stints_df\").with_suffix('.pkl')\n",
    "    FILES['games'] = Path(dir, \"games_df\").with_suffix('.pkl')\n",
    "    FILES['players'] = Path(dir, \"players_df\").with_suffix('.pkl')\n",
    "\n",
    "    return FILES"
   ]
  },
  {
   "cell_type": "markdown",
   "metadata": {},
   "source": [
    "## 1. Define games to scrape and saved data\n",
    "\n",
    "First, setup the games we want to scrape and compute, as well as the existing data stored in file to append to."
   ]
  },
  {
   "cell_type": "code",
   "execution_count": 2,
   "metadata": {},
   "outputs": [
    {
     "name": "stdout",
     "output_type": "stream",
     "text": [
      "Games to scrape (46): [('2116412', 1), ('2116391', 1), ('2116406', 1), ('2116390', 1), ('2116402', 1), ('2120056', 0), ('2122059', 0), ('2134935', 0), ('2120058', 0), ('2120079', 0), ('2124207', 0), ('2116576', 0), ('2120054', 0), ('2120077', 0), ('2141127', 0), ('2120052', 0), ('2120055', 0), ('2122060', 0), ('2141126', 0), ('2120057', 0), ('2135116', 0), ('2135117', 0), ('2120080', 0), ('2120051', 0), ('2116579', 0), ('2120049', 0), ('2120050', 0), ('2120078', 0), ('2120048', 0), ('2120053', 0), ('2116381', 2), ('2116379', 2), ('2116429', 2), ('2116437', 2), ('2116420', 2), ('2116436', 2), ('2116423', 2), ('2116435', 2), ('2116384', 3), ('2116518', 3), ('2116419', 3), ('2116422', 3), ('2116386', 3), ('2116385', 3), ('2116407', 3), ('2116413', 3)]\n",
      "Folder to be used: data-22_23/NBL-Stats-JL.nosync/\n"
     ]
    }
   ],
   "source": [
    "# Games to be computed  - Format: (game id, round number)\n",
    "\n",
    "games_20_21 = [('1816803', 1), ('1816804', 1), ('1816920', 1), ('1816802', 1), ('1816801', 1), ('1817368', 2), ('1817370', 2), ('1817371', 2), ('1817372', 2), ('1817369', 2), ('1817367', 2), ('1843512', 3), ('1843514', 3), ('1843517', 3), ('1843515', 3), ('1843516', 3), ('1843513', 3), ('1843511', 3), ('1846331', 4), ('1846335', 4), ('1846338', 4), ('1846333', 4), ('1846336', 4), ('1846334', 4), ('1848323', 5), ('1848327', 5), ('1848322', 5), ('1848326', 5), ('1848324', 5), ('1848329', 5), ('1848328', 5), ('1848990', 6), ('1848985', 6), ('1848989', 6), ('1848986', 6), ('1848984', 6), ('1848988', 6), ('1848991', 6), ('1848987', 6), ('1848995', 7), ('1848999', 7), ('1848992', 7), ('1848996', 7), ('1848994', 7), ('1848997', 7), ('1848993', 7), ('1848998', 7), ('1849003', 8), ('1849007', 8), ('1849001', 8), ('1849002', 8), ('1849008', 8), ('1849009', 8), ('1849006', 8), ('1849005', 8), ('1849004', 8), ('1849000', 8), ('1849010', 9), ('1849019', 9), ('1849017', 9), ('1849012', 9), ('1849018', 9), ('1849015', 9), ('1849016', 9), ('1849013', 9), ('1849014', 9), ('1849011', 9), ('1859485', 10), ('1859486', 10), ('1859487', 10), ('1859484', 10), ('1859482', 10), ('1859483', 10), ('1859481', 10), ('1862515', 11), ('1862514', 11), ('1862517', 11), ('1862516', 11), ('1862518', 11), ('1862519', 11), ('1862520', 11), ('1866357', 12), ('1866351', 12), ('1866355', 12), ('1866356', 12), ('1866354', 12), ('1866350', 12), ('1866352', 12), ('1866363', 13), ('1866367', 13), ('1866360', 13), ('1866362', 13), ('1866364', 13), ('1866366', 13), ('1866365', 13), ('1866361', 13), ('1866368', 13), ('1869882', 14), ('1869881', 14), ('1866370', 14), ('1866374', 14), ('1866373', 14), ('1866371', 14), ('1866369', 14), ('1866372', 14), ('1869890', 15), ('1869886', 15), ('1869889', 15), ('1869885', 15), ('1869884', 15), ('1869883', 15), ('1869887', 15), ('1875311', 16), ('1875307', 16), ('1875304', 16), ('1875310', 16), ('1875305', 16), ('1875312', 16), ('1875306', 16), ('1875309', 16), ('1875313', 17), ('1875316', 17), ('1875314', 17), ('1875315', 17), ('1880553', 18), ('1875321', 18), ('1875324', 18), ('1875325', 18), ('1875319', 18), ('1875317', 18), ('1875322', 18), ('1875318', 18), ('1875323', 18), ('1875320', 18), ('1875328', 19), ('1875333', 19), ('1875327', 19), ('1875329', 19), ('1875330', 19), ('1875336', 19), ('1875326', 19), ('1875335', 19), ('1875332', 19), ('1875331', 19), ('1875334', 19), ('1875339', 20), ('1875340', 20), ('1875338', 20), ('1875344', 20), ('1875342', 20), ('1875341', 20), ('1875343', 20), ('1875337', 20), ('1875348', 21), ('1875350', 21), ('1880554', 21), ('1875349', 21), ('1875352', 21), ('1875347', 21), ('1875346', 21), ('1875345', 21), ('1875351', 21), ('1889799', 100), ('1889797', 100), ('1891192', 100), ('1891188', 100), ('1889798', 100), ('1889796', 100), ('1891805', 101), ('1891806', 101), ('1894782', 101)]\n",
    "\n",
    "games_21_22 = [('2004608', 1), ('1976448', 1), ('1976452', 1), ('1976454', 1), ('1976446', 1), ('1976447', 1), ('1976451', 2), ('1976455', 2), ('1976456', 2), ('1976453', 2), ('1976458', 2), ('1976449', 2), ('2004609', 2), ('1976461', 3), ('1976463', 3), ('1976459', 3), ('1976460', 3), ('1976462', 3), ('1976464', 3), ('1976457', 3), ('1976465', 3), ('2004610', 3), ('1976468', 4), ('1976469', 4), ('1976474', 5), ('1976473', 5), ('1976482', 6), ('2036215', 7), ('2031330', 7), ('2031332', 7), ('2031333', 7), ('2031329', 7), ('2031334', 7), ('2046695', 8), ('2031341', 8), ('2031335', 8), ('2046696', 8), ('2031338', 8), ('2031340', 8), ('2031337', 8), ('2031336', 8), ('2046697', 9), ('2031345', 9), ('2031343', 9), ('2031347', 9), ('2031342', 9), ('2031344', 9), ('2031346', 9), ('2046702', 10), ('2046704', 10), ('2046701', 10), ('2046703', 10), ('2046698', 10), ('2046700', 10), ('2046706', 10), ('2046711', 11), ('2051763', 11), ('2046712', 11), ('2046713', 11), ('2046709', 11), ('2046710', 11), ('2046707', 11), ('2053812', 12), ('2053816', 12), ('2053811', 12), ('2053815', 12), ('2053813', 12), ('2053814', 12), ('2053817', 12), ('2053818', 13), ('2053819', 13), ('2053822', 13), ('2053823', 13), ('2053821', 13), ('2053825', 13), ('2053820', 13), ('2053824', 13), ('2056457', 14), ('2056461', 14), ('2056462', 14), ('2056460', 14), ('2056458', 14), ('2056455', 14), ('2056454', 14), ('2056467', 15), ('2056472', 15), ('2056473', 15), ('2056466', 15), ('2056464', 15), ('2056469', 15), ('2056463', 15), ('2056471', 15), ('2065657', 16), ('2065653', 16), ('2065656', 16), ('2065655', 16), ('2065654', 16), ('2065659', 16), ('2065658', 16), ('2069172', 17), ('2069165', 17), ('2069171', 17), ('2069170', 17), ('2069169', 17), ('2069166', 17), ('2069168', 17), ('2069167', 17), ('2069175', 18), ('2069184', 18), ('2069181', 18), ('2069177', 18), ('2069183', 18), ('2069179', 18), ('2069186', 18), ('2069187', 18), ('2069202', 19), ('2069203', 19), ('2069196', 19), ('2069204', 19), ('2069205', 19), ('2069191', 19), ('2069192', 19), ('2069199', 19), ('2069194', 19), ('2069195', 20), ('2069189', 20), ('2069193', 20), ('2069197', 20), ('2069201', 20), ('2069200', 20), ('2069190', 20), ('2069198', 20), ('2069176', 21), ('2069185', 21), ('2069180', 21), ('2069178', 21), ('2069174', 21), ('2069173', 21), ('2069188', 21), ('2069182', 21), ('2087734', 100), ('2087735', 100), ('2087733', 100), ('2087737', 100), ('2087736', 100), ('2090350', 101), ('2090352', 101), ('2090351', 101)]\n",
    "\n",
    "# We build each round incrementally\n",
    "games_22_23 = []\n",
    "games_22_23.extend([('2116412', 1), ('2116391', 1), ('2116406', 1), ('2116390', 1), ('2116402', 1), ('2120056', 0), ('2122059', 0), ('2134935', 0), ('2120058', 0), ('2120079', 0), ('2124207', 0), ('2116576', 0), ('2120054', 0), ('2120077', 0), ('2141127', 0), ('2120052', 0), ('2120055', 0), ('2122060', 0), ('2141126', 0), ('2120057', 0), ('2135116', 0), ('2135117', 0), ('2120080', 0), ('2120051', 0), ('2116579', 0), ('2120049', 0), ('2120050', 0), ('2120078', 0), ('2120048', 0), ('2120053', 0), ('2116381', 2), ('2116379', 2), ('2116429', 2), ('2116437', 2), ('2116420', 2), ('2116436', 2), ('2116423', 2), ('2116435', 2), ('2116384', 3), ('2116518', 3), ('2116419', 3), ('2116422', 3), ('2116386', 3), ('2116385', 3), ('2116407', 3), ('2116413', 3), ('2116378', 4), ('2116389', 4), ('2116380', 4), ('2116382', 4), ('2116388', 4), ('2116387', 4), ('2116383', 4), ('2116411', 4), ('2116396', 5), ('2116417', 5), ('2116408', 5), ('2116414', 5), ('2116403', 5), ('2116393', 5), ('2116418', 5), ('2116400', 5), ('2116394', 6), ('2116424', 6), ('2116421', 6), ('2116401', 6), ('2116430', 6), ('2116432', 6), ('2116398', 6), ('2116427', 7), ('2116434', 7), ('2116410', 7), ('2116428', 7), ('2116433', 7), ('2116416', 7), ('2116405', 7), ('2116409', 8), ('2116397', 8), ('2116404', 8), ('2116395', 8), ('2116415', 8), ('2116399', 8), ('2116426', 9), ('2116438', 9), ('2116431', 9), ('2116455', 9), ('2116425', 9), ('2116454', 9), ('2116448', 9), ('2116443', 9), ('2116486', 10), ('2116444', 10), ('2116463', 10), ('2116473', 10), ('2116487', 10), ('2116439', 10), ('2116468', 10), ('2116478', 10), ('2116469', 11), ('2116464', 11), ('2116456', 11), ('2116459', 11), ('2116449', 11), ('2116483', 11), ('2116482', 11), ('2116440', 11), ('2116475', 11), ('2116445', 11), ('2116453', 12), ('2116471', 12), ('2116450', 12), ('2116480', 12), ('2116467', 12), ('2116477', 12), ('2116462', 12), ('2116447', 13), ('2116442', 13), ('2116465', 13), ('2116452', 13), ('2116458', 13), ('2116460', 13), ('2116485', 13), ('2116441', 14), ('2116446', 14), ('2116474', 14), ('2116457', 14), ('2116484', 14), ('2116479', 14), ('2116470', 14), ('2116451', 14), ('2116481', 15), ('2116488', 15), ('2116466', 15), ('2116492', 15), ('2116472', 15), ('2116476', 15), ('2116489', 15), ('2116491', 15), ('2116490', 15), ('2116461', 15), ('2116505', 16), ('2116493', 16), ('2116495', 16), ('2116500', 16), ('2116497', 16), ('2116496', 16), ('2116494', 16), ('2116498', 16), ('2116502', 16), ('2116508', 17), ('2116510', 17), ('2116499', 17), ('2116514', 17), ('2116506', 17), ('2116516', 17), ('2116512', 17), ('2116517', 17), ('2116501', 17), ('2116504', 18), ('2116507', 18), ('2116513', 18), ('2116511', 18), ('2116503', 18), ('2116515', 18), ('2116509', 18)])\n",
    "\n",
    "\n",
    "\n",
    "# DATA_DIR, games = 'data-20_21/', games_20_21\n",
    "# DATA_DIR, games = 'data-21_22/', games_21_22\n",
    "DATA_DIR, games = 'data-22_23/NBL-Stats-JL.nosync/', [(x[0], x[1]) for x in games_22_23 if x[1] <= 3]\n",
    "\n",
    "FILES = get_save_files(DATA_DIR)\n",
    "\n",
    "print(f\"Games to scrape ({len(games)}):\", games)\n",
    "print(\"Folder to be used:\", DATA_DIR)\n",
    "\n",
    "# Set to True to re-compute from scratch all tables\n",
    "reload = False"
   ]
  },
  {
   "cell_type": "code",
   "execution_count": 3,
   "metadata": {},
   "outputs": [],
   "source": [
    "import shutil\n",
    "\n",
    "\n",
    "for x in games:\n",
    "    file = os.path.join(\"test\", f\"data-{x[0]}.json\")\n",
    "    if os.path.exists(file):\n",
    "        try:\n",
    "            shutil.move(file, \"data-21_22/\")\n",
    "        except:\n",
    "            os.remove(file)"
   ]
  },
  {
   "cell_type": "markdown",
   "metadata": {},
   "source": [
    "## 2. Compute stat and game tables\n",
    "\n",
    "Now, let us run the system that scrapes the games' data, computes stats and game info, and adds them to the initial tables of stats and games.\n",
    "\n",
    "We start by loading all saved previous games, if any, as we want to append to that database (and we don't want to recompute them)."
   ]
  },
  {
   "cell_type": "code",
   "execution_count": 4,
   "metadata": {},
   "outputs": [
    {
     "name": "stdout",
     "output_type": "stream",
     "text": [
      "Loading recorded dataframes from files\n",
      "Recovered 37 games:  ['2122059' '2122060' '2141127' '2116579' '2135117' '2120050' '2141126'\n",
      " '2120049' '2135116' '2120048' '2134935' '2116576' '2124207' '2120077'\n",
      " '2120053' '2120079' '2120054' '2120078' '2120056' '2120055' '2120080'\n",
      " '2120058' '2120052' '2120057' '2120051' '2116391' '2116406' '2116390'\n",
      " '2116402' '2116412' '2116379' '2116429' '2116437' '2116420' '2116436'\n",
      " '2116423' '2116435']\n"
     ]
    }
   ],
   "source": [
    "# Load tables from saved files (if any)\n",
    "saved_stint_stats_df = None\n",
    "saved_stints_df = None\n",
    "saved_games_df = None\n",
    "saved_players_df = None\n",
    "existing_games = []\n",
    "\n",
    "if not reload:\n",
    "    # load the stat dataframe already stored as a file\n",
    "    print(f\"Loading recorded dataframes from files\")\n",
    "    try:\n",
    "        saved_stint_stats_df = pd.read_pickle(FILES['stint_stats'])\n",
    "        saved_stints_df = pd.read_pickle(FILES['stints'])\n",
    "        saved_games_df = pd.read_pickle(FILES['games'])\n",
    "        saved_players_df = pd.read_pickle(FILES['players'])\n",
    "        # collect game ids of all games recovered from file\n",
    "        existing_games = saved_games_df.game_id.unique()\n",
    "    except FileNotFoundError as e:\n",
    "        print(\"Error loading Pickle files: \", e)\n",
    "        saved_stint_stats_df = None\n",
    "        saved_stints_df = None\n",
    "        saved_games_df = None\n",
    "        saved_players_df = None\n",
    "        existing_games = []\n",
    "else:\n",
    "    existing_games = []\n",
    "\n",
    "print(f\"Recovered {len(existing_games)} games: \", existing_games)\n",
    "\n",
    "# saved_stats_df['lineup'].apply(lambda x: len(x) > 5)\n",
    "# saved_stats_df.loc[5,'lineup']\n",
    "# saved_stats_df.loc[5]\n",
    "\n",
    "# saved_stint_stats_df.sample(3)\n",
    "# saved_games_df.sample(3)"
   ]
  },
  {
   "cell_type": "markdown",
   "metadata": {},
   "source": [
    "It is now time to process games to extract:\n",
    "\n",
    "1. Table of **games**.\n",
    "2. Table of **players** who played in each game with their stats, for each team.\n",
    "3. Table of **stints** in each game for each team.\n",
    "4. Table of **stint stats** in each game for each team."
   ]
  },
  {
   "cell_type": "code",
   "execution_count": 5,
   "metadata": {},
   "outputs": [
    {
     "name": "stdout",
     "output_type": "stream",
     "text": [
      "Game 2116412 was already saved on file; no scrapping...\n",
      "Game 2116391 was already saved on file; no scrapping...\n",
      "Game 2116406 was already saved on file; no scrapping...\n",
      "Game 2116390 was already saved on file; no scrapping...\n",
      "Game 2116402 was already saved on file; no scrapping...\n",
      "Game 2120056 was already saved on file; no scrapping...\n",
      "Game 2122059 was already saved on file; no scrapping...\n",
      "Game 2134935 was already saved on file; no scrapping...\n",
      "Game 2120058 was already saved on file; no scrapping...\n",
      "Game 2120079 was already saved on file; no scrapping...\n",
      "Game 2124207 was already saved on file; no scrapping...\n",
      "Game 2116576 was already saved on file; no scrapping...\n",
      "Game 2120054 was already saved on file; no scrapping...\n",
      "Game 2120077 was already saved on file; no scrapping...\n",
      "Game 2141127 was already saved on file; no scrapping...\n",
      "Game 2120052 was already saved on file; no scrapping...\n",
      "Game 2120055 was already saved on file; no scrapping...\n",
      "Game 2122060 was already saved on file; no scrapping...\n",
      "Game 2141126 was already saved on file; no scrapping...\n",
      "Game 2120057 was already saved on file; no scrapping...\n",
      "Game 2135116 was already saved on file; no scrapping...\n",
      "Game 2135117 was already saved on file; no scrapping...\n",
      "Game 2120080 was already saved on file; no scrapping...\n",
      "Game 2120051 was already saved on file; no scrapping...\n",
      "Game 2116579 was already saved on file; no scrapping...\n",
      "Game 2120049 was already saved on file; no scrapping...\n",
      "Game 2120050 was already saved on file; no scrapping...\n",
      "Game 2120078 was already saved on file; no scrapping...\n",
      "Game 2120048 was already saved on file; no scrapping...\n",
      "Game 2120053 was already saved on file; no scrapping...\n",
      "Computing game 2116381...\n"
     ]
    },
    {
     "name": "stderr",
     "output_type": "stream",
     "text": [
      "2022-10-14 09:39:32 WARNING Sub team 1 @ 00:01:36 in period 4: incoming players already in court: {'Bul Kuol'}\n"
     ]
    },
    {
     "name": "stdout",
     "output_type": "stream",
     "text": [
      "\t .... done: Cairns Taipans (76) vs Perth Wildcats (105) on 2022-10-10 00:00:00\n",
      "Game 2116379 was already saved on file; no scrapping...\n",
      "Game 2116429 was already saved on file; no scrapping...\n",
      "Game 2116437 was already saved on file; no scrapping...\n",
      "Game 2116420 was already saved on file; no scrapping...\n",
      "Game 2116436 was already saved on file; no scrapping...\n",
      "Game 2116423 was already saved on file; no scrapping...\n",
      "Game 2116435 was already saved on file; no scrapping...\n",
      "Computing game 2116384...\n"
     ]
    },
    {
     "name": "stderr",
     "output_type": "stream",
     "text": [
      "2022-10-14 09:39:35 WARNING Sub team 1 @ 00:05:25 in period 1: incoming players already in court: {'Mitch McCarron'}\n"
     ]
    },
    {
     "name": "stdout",
     "output_type": "stream",
     "text": [
      "\t .... done: Adelaide 36ers (72) vs Tasmania JackJumpers (97) on 2022-10-13 00:00:00\n",
      "Computing game 2116518...\n",
      "Game 2116518 JSON data not available yet:  HTTP Error 403: Forbidden\n",
      "Computing game 2116419...\n",
      "Game 2116419 JSON data not available yet:  HTTP Error 403: Forbidden\n",
      "Computing game 2116422...\n",
      "Game 2116422 JSON data not available yet:  HTTP Error 403: Forbidden\n",
      "Computing game 2116386...\n",
      "Game 2116386 JSON data not available yet:  HTTP Error 403: Forbidden\n",
      "Computing game 2116385...\n",
      "Game 2116385 JSON data not available yet:  HTTP Error 403: Forbidden\n",
      "Computing game 2116407...\n",
      "Game 2116407 JSON data not available yet:  HTTP Error 403: Forbidden\n",
      "Computing game 2116413...\n",
      "Game 2116413 JSON data not available yet:  HTTP Error 403: Forbidden\n",
      "Number of total games collected:  39\n",
      "Number of NEW collected:  2\n",
      "Number of FAILED games (not yet played):  7\n"
     ]
    },
    {
     "data": {
      "text/html": [
       "<div>\n",
       "<style scoped>\n",
       "    .dataframe tbody tr th:only-of-type {\n",
       "        vertical-align: middle;\n",
       "    }\n",
       "\n",
       "    .dataframe tbody tr th {\n",
       "        vertical-align: top;\n",
       "    }\n",
       "\n",
       "    .dataframe thead th {\n",
       "        text-align: right;\n",
       "    }\n",
       "</style>\n",
       "<table border=\"1\" class=\"dataframe\">\n",
       "  <thead>\n",
       "    <tr style=\"text-align: right;\">\n",
       "      <th></th>\n",
       "      <th>game_id</th>\n",
       "      <th>date</th>\n",
       "      <th>round</th>\n",
       "      <th>team1</th>\n",
       "      <th>team2</th>\n",
       "      <th>s1</th>\n",
       "      <th>s2</th>\n",
       "      <th>winner</th>\n",
       "      <th>venue</th>\n",
       "    </tr>\n",
       "  </thead>\n",
       "  <tbody>\n",
       "    <tr>\n",
       "      <th>0</th>\n",
       "      <td>2116381</td>\n",
       "      <td>2022-10-10</td>\n",
       "      <td>2</td>\n",
       "      <td>Cairns Taipans</td>\n",
       "      <td>Perth Wildcats</td>\n",
       "      <td>76</td>\n",
       "      <td>105</td>\n",
       "      <td>2</td>\n",
       "      <td>Cairns Convention Centre</td>\n",
       "    </tr>\n",
       "    <tr>\n",
       "      <th>1</th>\n",
       "      <td>2116384</td>\n",
       "      <td>2022-10-13</td>\n",
       "      <td>3</td>\n",
       "      <td>Adelaide 36ers</td>\n",
       "      <td>Tasmania JackJumpers</td>\n",
       "      <td>72</td>\n",
       "      <td>97</td>\n",
       "      <td>2</td>\n",
       "      <td>Adelaide Entertainment Centre</td>\n",
       "    </tr>\n",
       "  </tbody>\n",
       "</table>\n",
       "</div>"
      ],
      "text/plain": [
       "   game_id       date  round           team1                 team2  s1   s2  \\\n",
       "0  2116381 2022-10-10      2  Cairns Taipans        Perth Wildcats  76  105   \n",
       "1  2116384 2022-10-13      3  Adelaide 36ers  Tasmania JackJumpers  72   97   \n",
       "\n",
       "   winner                          venue  \n",
       "0       2       Cairns Convention Centre  \n",
       "1       2  Adelaide Entertainment Centre  "
      ]
     },
     "execution_count": 5,
     "metadata": {},
     "output_type": "execute_result"
    }
   ],
   "source": [
    "# collect here set of stat dfs and game info, one per game\n",
    "#   then, we will put them together into different dataframes\n",
    "from urllib.error import HTTPError\n",
    "\n",
    "\n",
    "stint_stats_dfs = []\n",
    "stints_dfs = []\n",
    "players_dfs = []\n",
    "games_data = []\n",
    "\n",
    "# Build data for each game, we'll put them together after....\n",
    "for game in games:\n",
    "    # get game_id and round no (if available)\n",
    "    if isinstance(game, tuple):\n",
    "        game_id, round_no = game\n",
    "    else:\n",
    "        game_id = game\n",
    "        round_no = np.nan # no round info available\n",
    "\n",
    "    # don't scrape game data if already loaded from file, skip it\n",
    "    if game_id in existing_games:\n",
    "        print(f\"Game {game_id} was already saved on file; no scrapping...\")\n",
    "        continue\n",
    "\n",
    "    ##################################################################\n",
    "    # !!! MAIN STEP: scrape and compute the actual stats for the game\n",
    "    ##################################################################\n",
    "    print(f\"Computing game {game_id}...\")\n",
    "\n",
    "    # 1. Read game JSON file\n",
    "    try:\n",
    "        game_json = tools.get_json_data(game_id, dir=DATA_DIR)\n",
    "    except HTTPError as e:\n",
    "        print(f\"Game {game_id} JSON data not available yet: \", e)\n",
    "        continue\n",
    "\n",
    "\n",
    "    result = bball_stats.build_game_stints_stats_df(game_json, game_id)\n",
    "    game_stint_stats_df = result['stint_stats_df']   #  this is basically what we care, the stint stats\n",
    "    game_stints_df = result['stints_df']\n",
    "    game_team1, game_team2 = result['teams']\n",
    "\n",
    "    # Add the game id column to game tables\n",
    "    game_stint_stats_df.insert(0, 'game_id', game_id)\n",
    "    game_stints_df.insert(0, 'game_id', game_id)\n",
    "\n",
    "    # Extract players in the game\n",
    "    players_df = bball_stats.get_players_stats(game_json)\n",
    "    players_df.insert(0, 'game_id', game_id)\n",
    "\n",
    "    # Add tables to collected set of tables, one per game\n",
    "    stint_stats_dfs.append(game_stint_stats_df)\n",
    "    stints_dfs.append(game_stints_df)\n",
    "    players_dfs.append(players_df)\n",
    "\n",
    "    # Next build the record for the game dataframe\n",
    "    # first, extract date of game from HTML page\n",
    "    try:\n",
    "        game_info = tools.get_game_info(game_id)\n",
    "    except:\n",
    "        game_info = { \"venue\" : np.nan, \"date\": np.nan}\n",
    "    print(f\"\\t .... done: {game_team1[0]} ({game_team1[1]}) vs {game_team2[0]} ({game_team2[1]}) on {game_info['date']}\")\n",
    "\n",
    "    games_data.append({\"game_id\": game_id,\n",
    "                        \"date\" : game_info['date'],\n",
    "                        \"round\": round_no,\n",
    "                        \"team1\": game_team1[0],\n",
    "                        \"team2\": game_team2[0],\n",
    "                        \"s1\": game_team1[1],\n",
    "                        \"s2\": game_team2[1],\n",
    "                        \"winner\": 1 if game_team1[1] > game_team2[1] else 2,\n",
    "                        \"venue\" : game_info[\"venue\"]}\n",
    "                      )\n",
    "\n",
    "\n",
    "#################################\n",
    "# All games have been processed, now put all dfs together\n",
    "#################################\n",
    "if len(games_data) == 0:\n",
    "    raise SystemExit(\"No games!\")\n",
    "\n",
    "# First, build a dataframe with all the game data collected\n",
    "games_scrapped_df = pd.DataFrame(games_data)    # games that have been scrapped from web\n",
    "games_df =  games_scrapped_df if saved_games_df is None else pd.concat([saved_games_df, games_scrapped_df])\n",
    "games_df.reset_index(inplace=True, drop=True)\n",
    "\n",
    "# Build players dataframe\n",
    "players_df = pd.concat(players_dfs + ([saved_players_df] if saved_players_df is not None else []))\n",
    "players_df.reset_index(inplace=True, drop=True)\n",
    "\n",
    "# Build stint stats dataframe\n",
    "stint_stats_df = pd.concat(stint_stats_dfs + ([saved_stint_stats_df] if saved_stint_stats_df is not None else []))\n",
    "stint_stats_df.reset_index(inplace=True, drop=True)\n",
    "\n",
    "# Build stints dataframe\n",
    "stints_df = pd.concat(stints_dfs + ([saved_stints_df] if saved_stints_df is not None else []))\n",
    "stints_df.reset_index(inplace=True, drop=True)\n",
    "\n",
    "print(\"Number of total games collected: \", games_df.shape[0])\n",
    "print(\"Number of NEW collected: \", games_df.shape[0] - len(existing_games))\n",
    "print(\"Number of FAILED games (not yet played): \", len(games) - games_df.shape[0])\n",
    "\n",
    "# stint_stats_df.sample(2)\n",
    "# stints_df.sample(2)\n",
    "games_df.sample(5)\n",
    "games_scrapped_df # report all new games scrapped\n",
    "\n",
    "# players_df.sample(5)"
   ]
  },
  {
   "cell_type": "markdown",
   "metadata": {},
   "source": [
    "If we want we can do some sanity checks, before saving to disk:"
   ]
  },
  {
   "cell_type": "code",
   "execution_count": 6,
   "metadata": {},
   "outputs": [
    {
     "data": {
      "text/html": [
       "\n",
       "        <iframe\n",
       "            width=\"100%\"\n",
       "            height=\"475\"\n",
       "            src=\"http://x1-Thinkpad:40000/dtale/iframe/1\"\n",
       "            frameborder=\"0\"\n",
       "            allowfullscreen\n",
       "            \n",
       "        ></iframe>\n",
       "        "
      ],
      "text/plain": [
       "<IPython.lib.display.IFrame at 0x7faeafd6a620>"
      ]
     },
     "metadata": {},
     "output_type": "display_data"
    },
    {
     "data": {
      "text/plain": []
     },
     "execution_count": 6,
     "metadata": {},
     "output_type": "execute_result"
    }
   ],
   "source": [
    "dtale.show(games_df)\n",
    "# dtale.show(stint_stats_df)\n",
    "# dtale.show(stints_df)\n",
    "# dtale.show(players_df)"
   ]
  },
  {
   "cell_type": "code",
   "execution_count": 7,
   "metadata": {},
   "outputs": [
    {
     "name": "stdout",
     "output_type": "stream",
     "text": [
      "The shape of stats_df is: (1455, 99)\n",
      "Stats cols: ['poss', 'ortg', 'drtg', 'nrtg', 'fga', 'fgm', 'fgp', 'pts', 'patra', 'patrm', 'patrp', '3pt_fga', '3pt_fgm', '3pt_fgp', '2pt_fga', '2pt_fgm', '2pt_fgp', 'fta', 'ftm', 'ftp', 'tsp', 'ast', 'astr', 'fgm_astp', 'stl', 'stlr', 'blk', 'blkr', 'tov', 'tovr', 'reb', 'dreb', 'drebc', 'drebp', 'oreb', 'odrec', 'orebp', 'trb', 'trbr', 'tov_bh', 'tov_bp', 'tov_ofoul', 'tov_3sec', 'tov_8sec', 'tov_24sec', 'opp_fga_blocked']\n"
     ]
    },
    {
     "data": {
      "text/html": [
       "<div>\n",
       "<style scoped>\n",
       "    .dataframe tbody tr th:only-of-type {\n",
       "        vertical-align: middle;\n",
       "    }\n",
       "\n",
       "    .dataframe tbody tr th {\n",
       "        vertical-align: top;\n",
       "    }\n",
       "\n",
       "    .dataframe thead th {\n",
       "        text-align: right;\n",
       "    }\n",
       "</style>\n",
       "<table border=\"1\" class=\"dataframe\">\n",
       "  <thead>\n",
       "    <tr style=\"text-align: right;\">\n",
       "      <th></th>\n",
       "      <th>game_id</th>\n",
       "      <th>tno</th>\n",
       "      <th>team</th>\n",
       "      <th>stint</th>\n",
       "      <th>drebc</th>\n",
       "      <th>tov_3sec</th>\n",
       "      <th>stlr</th>\n",
       "      <th>tov_24sec</th>\n",
       "      <th>astr</th>\n",
       "      <th>3pt_fgp</th>\n",
       "      <th>2pt_fgm</th>\n",
       "      <th>tov</th>\n",
       "      <th>drebc_opp</th>\n",
       "      <th>tov_3sec_opp</th>\n",
       "      <th>stlr_opp</th>\n",
       "      <th>tov_24sec_opp</th>\n",
       "      <th>astr_opp</th>\n",
       "      <th>3pt_fgp_opp</th>\n",
       "      <th>2pt_fgm_opp</th>\n",
       "      <th>tov_opp</th>\n",
       "    </tr>\n",
       "  </thead>\n",
       "  <tbody>\n",
       "    <tr>\n",
       "      <th>470</th>\n",
       "      <td>2116402</td>\n",
       "      <td>2</td>\n",
       "      <td>New Zealand Breakers</td>\n",
       "      <td>2</td>\n",
       "      <td>0.0</td>\n",
       "      <td>0.0</td>\n",
       "      <td>NaN</td>\n",
       "      <td>0.0</td>\n",
       "      <td>NaN</td>\n",
       "      <td>0.0</td>\n",
       "      <td>0.0</td>\n",
       "      <td>0.0</td>\n",
       "      <td>1.0</td>\n",
       "      <td>0.0</td>\n",
       "      <td>0.00</td>\n",
       "      <td>0.0</td>\n",
       "      <td>100.00</td>\n",
       "      <td>0.0</td>\n",
       "      <td>1.0</td>\n",
       "      <td>0.0</td>\n",
       "    </tr>\n",
       "    <tr>\n",
       "      <th>1075</th>\n",
       "      <td>2116579</td>\n",
       "      <td>1</td>\n",
       "      <td>South East Melbourne Phoenix</td>\n",
       "      <td>2</td>\n",
       "      <td>0.0</td>\n",
       "      <td>0.0</td>\n",
       "      <td>0.00</td>\n",
       "      <td>0.0</td>\n",
       "      <td>0.00</td>\n",
       "      <td>0.0</td>\n",
       "      <td>0.0</td>\n",
       "      <td>0.0</td>\n",
       "      <td>2.0</td>\n",
       "      <td>0.0</td>\n",
       "      <td>NaN</td>\n",
       "      <td>0.0</td>\n",
       "      <td>NaN</td>\n",
       "      <td>0.0</td>\n",
       "      <td>0.0</td>\n",
       "      <td>0.0</td>\n",
       "    </tr>\n",
       "    <tr>\n",
       "      <th>7</th>\n",
       "      <td>2116381</td>\n",
       "      <td>1</td>\n",
       "      <td>Cairns Taipans</td>\n",
       "      <td>8</td>\n",
       "      <td>1.0</td>\n",
       "      <td>0.0</td>\n",
       "      <td>50.00</td>\n",
       "      <td>0.0</td>\n",
       "      <td>25.00</td>\n",
       "      <td>0.0</td>\n",
       "      <td>1.0</td>\n",
       "      <td>1.0</td>\n",
       "      <td>3.0</td>\n",
       "      <td>0.0</td>\n",
       "      <td>22.52</td>\n",
       "      <td>0.0</td>\n",
       "      <td>22.52</td>\n",
       "      <td>0.0</td>\n",
       "      <td>1.0</td>\n",
       "      <td>2.0</td>\n",
       "    </tr>\n",
       "    <tr>\n",
       "      <th>669</th>\n",
       "      <td>2120078</td>\n",
       "      <td>2</td>\n",
       "      <td>Adelaide 36ers</td>\n",
       "      <td>11</td>\n",
       "      <td>0.0</td>\n",
       "      <td>0.0</td>\n",
       "      <td>0.00</td>\n",
       "      <td>0.0</td>\n",
       "      <td>0.00</td>\n",
       "      <td>0.0</td>\n",
       "      <td>0.0</td>\n",
       "      <td>0.0</td>\n",
       "      <td>4.0</td>\n",
       "      <td>0.0</td>\n",
       "      <td>0.00</td>\n",
       "      <td>0.0</td>\n",
       "      <td>60.24</td>\n",
       "      <td>0.0</td>\n",
       "      <td>2.0</td>\n",
       "      <td>0.0</td>\n",
       "    </tr>\n",
       "    <tr>\n",
       "      <th>1324</th>\n",
       "      <td>2120048</td>\n",
       "      <td>2</td>\n",
       "      <td>Adelaide 36ers</td>\n",
       "      <td>1</td>\n",
       "      <td>7.0</td>\n",
       "      <td>0.0</td>\n",
       "      <td>16.39</td>\n",
       "      <td>0.0</td>\n",
       "      <td>40.98</td>\n",
       "      <td>0.0</td>\n",
       "      <td>5.0</td>\n",
       "      <td>3.0</td>\n",
       "      <td>2.0</td>\n",
       "      <td>0.0</td>\n",
       "      <td>18.38</td>\n",
       "      <td>0.0</td>\n",
       "      <td>27.57</td>\n",
       "      <td>20.0</td>\n",
       "      <td>3.0</td>\n",
       "      <td>2.0</td>\n",
       "    </tr>\n",
       "  </tbody>\n",
       "</table>\n",
       "</div>"
      ],
      "text/plain": [
       "      game_id  tno                          team  stint  drebc  tov_3sec  \\\n",
       "470   2116402    2          New Zealand Breakers      2    0.0       0.0   \n",
       "1075  2116579    1  South East Melbourne Phoenix      2    0.0       0.0   \n",
       "7     2116381    1                Cairns Taipans      8    1.0       0.0   \n",
       "669   2120078    2                Adelaide 36ers     11    0.0       0.0   \n",
       "1324  2120048    2                Adelaide 36ers      1    7.0       0.0   \n",
       "\n",
       "       stlr  tov_24sec   astr  3pt_fgp  2pt_fgm  tov  drebc_opp  tov_3sec_opp  \\\n",
       "470     NaN        0.0    NaN      0.0      0.0  0.0        1.0           0.0   \n",
       "1075   0.00        0.0   0.00      0.0      0.0  0.0        2.0           0.0   \n",
       "7     50.00        0.0  25.00      0.0      1.0  1.0        3.0           0.0   \n",
       "669    0.00        0.0   0.00      0.0      0.0  0.0        4.0           0.0   \n",
       "1324  16.39        0.0  40.98      0.0      5.0  3.0        2.0           0.0   \n",
       "\n",
       "      stlr_opp  tov_24sec_opp  astr_opp  3pt_fgp_opp  2pt_fgm_opp  tov_opp  \n",
       "470       0.00            0.0    100.00          0.0          1.0      0.0  \n",
       "1075       NaN            0.0       NaN          0.0          0.0      0.0  \n",
       "7        22.52            0.0     22.52          0.0          1.0      2.0  \n",
       "669       0.00            0.0     60.24          0.0          2.0      0.0  \n",
       "1324     18.38            0.0     27.57         20.0          3.0      2.0  "
      ]
     },
     "execution_count": 7,
     "metadata": {},
     "output_type": "execute_result"
    }
   ],
   "source": [
    "import random\n",
    "print(\"The shape of stats_df is:\", stint_stats_df.shape)\n",
    "stats_cols = list(stint_stats_df.columns[4:-49])\n",
    "print(\"Stats cols:\", stats_cols)\n",
    "\n",
    "# build columns we want to show\n",
    "cols = ['game_id' , 'tno', 'team', 'stint']\n",
    "rnd_cols = random.sample(stats_cols, 8)\n",
    "rnd_cols.extend([f\"{x}_opp\" for x in rnd_cols])\n",
    "cols.extend(rnd_cols)\n",
    "\n",
    "# show some sample of stats computed\n",
    "stint_stats_df[cols].sample(5)"
   ]
  },
  {
   "cell_type": "markdown",
   "metadata": {},
   "source": [
    "Sanity check that `(ortg, drtg)` (offensive/defensive rate goal) should mirror `(drtg_opp, ortg_opp)` (opponent offensive/defensive rate goal)):"
   ]
  },
  {
   "cell_type": "code",
   "execution_count": 8,
   "metadata": {},
   "outputs": [
    {
     "data": {
      "text/plain": [
       "game_id            2116381\n",
       "team        Cairns Taipans\n",
       "poss                   2.0\n",
       "ortg                 100.0\n",
       "drtg                286.89\n",
       "poss_opp              2.44\n",
       "ortg_opp            286.89\n",
       "drtg_opp             100.0\n",
       "Name: 4, dtype: object"
      ]
     },
     "execution_count": 8,
     "metadata": {},
     "output_type": "execute_result"
    }
   ],
   "source": [
    "# (ortg, drtg) should mirror (drtg_opp, ortg_opp)\n",
    "stint_stats_df.iloc[4][['game_id' , 'team', 'poss', 'ortg', 'drtg', \"poss_opp\", \"ortg_opp\", \"drtg_opp\"]]"
   ]
  },
  {
   "cell_type": "markdown",
   "metadata": {},
   "source": [
    "## 3. Save stats and games to files\n",
    "\n",
    "We now save the full dataframes (stats and games) in various formats: binary (pickle), csv, and Excel.\n",
    "\n",
    "This will allows us to re-load that data later to add more games to it quicker."
   ]
  },
  {
   "cell_type": "code",
   "execution_count": 9,
   "metadata": {},
   "outputs": [
    {
     "name": "stdout",
     "output_type": "stream",
     "text": [
      "Finished saving in data-22_23/NBL-Stats-JL.nosync/ @ 10/14/2022, 09:40:06\n"
     ]
    },
    {
     "name": "stdout",
     "output_type": "stream",
     "text": [
      "Executing shutdown due to inactivity...\n"
     ]
    },
    {
     "name": "stderr",
     "output_type": "stream",
     "text": [
      "2022-10-14 10:39:55,357 - INFO     - Executing shutdown due to inactivity...\n"
     ]
    },
    {
     "name": "stdout",
     "output_type": "stream",
     "text": [
      "Executing shutdown...\n"
     ]
    },
    {
     "name": "stderr",
     "output_type": "stream",
     "text": [
      "2022-10-14 10:39:55,377 - INFO     - Executing shutdown...\n"
     ]
    },
    {
     "name": "stdout",
     "output_type": "stream",
     "text": [
      "Exception on /shutdown [GET]\n",
      "Traceback (most recent call last):\n",
      "  File \"/home/ssardina/opt/virtual-envs/p10/lib/python3.10/site-packages/flask/app.py\", line 2073, in wsgi_app\n",
      "    response = self.full_dispatch_request()\n",
      "  File \"/home/ssardina/opt/virtual-envs/p10/lib/python3.10/site-packages/flask/app.py\", line 1519, in full_dispatch_request\n",
      "    rv = self.handle_user_exception(e)\n",
      "  File \"/home/ssardina/opt/virtual-envs/p10/lib/python3.10/site-packages/flask/app.py\", line 1517, in full_dispatch_request\n",
      "    rv = self.dispatch_request()\n",
      "  File \"/home/ssardina/opt/virtual-envs/p10/lib/python3.10/site-packages/flask/app.py\", line 1503, in dispatch_request\n",
      "    return self.ensure_sync(self.view_functions[rule.endpoint])(**req.view_args)\n",
      "  File \"/home/ssardina/opt/virtual-envs/p10/lib/python3.10/site-packages/dtale/app.py\", line 410, in shutdown\n",
      "    shutdown_server()\n",
      "  File \"/home/ssardina/opt/virtual-envs/p10/lib/python3.10/site-packages/dtale/app.py\", line 396, in shutdown_server\n",
      "    raise RuntimeError(\"Not running with the Werkzeug Server\")\n",
      "RuntimeError: Not running with the Werkzeug Server\n"
     ]
    },
    {
     "name": "stderr",
     "output_type": "stream",
     "text": [
      "2022-10-14 10:39:55,380 - ERROR    - Exception on /shutdown [GET]\n",
      "Traceback (most recent call last):\n",
      "  File \"/home/ssardina/opt/virtual-envs/p10/lib/python3.10/site-packages/flask/app.py\", line 2073, in wsgi_app\n",
      "    response = self.full_dispatch_request()\n",
      "  File \"/home/ssardina/opt/virtual-envs/p10/lib/python3.10/site-packages/flask/app.py\", line 1519, in full_dispatch_request\n",
      "    rv = self.handle_user_exception(e)\n",
      "  File \"/home/ssardina/opt/virtual-envs/p10/lib/python3.10/site-packages/flask/app.py\", line 1517, in full_dispatch_request\n",
      "    rv = self.dispatch_request()\n",
      "  File \"/home/ssardina/opt/virtual-envs/p10/lib/python3.10/site-packages/flask/app.py\", line 1503, in dispatch_request\n",
      "    return self.ensure_sync(self.view_functions[rule.endpoint])(**req.view_args)\n",
      "  File \"/home/ssardina/opt/virtual-envs/p10/lib/python3.10/site-packages/dtale/app.py\", line 410, in shutdown\n",
      "    shutdown_server()\n",
      "  File \"/home/ssardina/opt/virtual-envs/p10/lib/python3.10/site-packages/dtale/app.py\", line 396, in shutdown_server\n",
      "    raise RuntimeError(\"Not running with the Werkzeug Server\")\n",
      "RuntimeError: Not running with the Werkzeug Server\n"
     ]
    }
   ],
   "source": [
    "import datetime\n",
    "import os\n",
    "import shutil\n",
    "from pathlib import Path\n",
    "\n",
    "# make a backup of existing tables on files\n",
    "for pkl_file in FILES.values():\n",
    "    for ext in ['.csv', '.xlsx', '.pkl']:\n",
    "        file = Path(pkl_file).with_suffix(ext)\n",
    "        if os.path.exists(file):\n",
    "            # print(\"Backup file\", file)\n",
    "            shutil.copy(file, str(file) + \".bak\")\n",
    "\n",
    "# dump stint stats dataframe\n",
    "stint_stats_df.to_pickle(Path(DATA_DIR, \"stint_stats_df\").with_suffix(\".pkl\"))\n",
    "stint_stats_df.to_csv(Path(DATA_DIR, \"stint_stats_df\").with_suffix(\".csv\"), index=False)\n",
    "stint_stats_df.to_excel(Path(DATA_DIR, \"stint_stats_df\").with_suffix(\".xlsx\"), index=False)\n",
    "\n",
    "# dump stint stats dataframe\n",
    "stints_df.to_pickle(Path(DATA_DIR, \"stints_df\").with_suffix(\".pkl\"))\n",
    "stints_df.to_csv(Path(DATA_DIR, \"stints_df\").with_suffix(\".csv\"), index=False)\n",
    "stints_df.to_excel(Path(DATA_DIR, \"stints_df\").with_suffix(\".xlsx\"), index=False)\n",
    "\n",
    "# dump game dataframe\n",
    "games_df.to_pickle(Path(DATA_DIR, \"games_df\").with_suffix(\".pkl\"))\n",
    "games_df.to_csv(Path(DATA_DIR, \"games_df\").with_suffix(\".csv\"), index=False)\n",
    "games_df.to_excel(Path(DATA_DIR, \"games_df\").with_suffix(\".xlsx\"), index=False)\n",
    "\n",
    "# dump players dataframe\n",
    "players_df.to_pickle(Path(DATA_DIR, \"players_df\").with_suffix(\".pkl\"))\n",
    "players_df.to_csv(Path(DATA_DIR, \"players_df\").with_suffix(\".csv\"), index=False)\n",
    "players_df.to_excel(Path(DATA_DIR, \"players_df\").with_suffix(\".xlsx\"), index=False)\n",
    "\n",
    "now = datetime.datetime.now() # current date and time\n",
    "date_time = now.strftime(\"%m/%d/%Y, %H:%M:%S\")\n",
    "\n",
    "print(f\"Finished saving in {DATA_DIR} @ {date_time}\")"
   ]
  },
  {
   "cell_type": "markdown",
   "metadata": {},
   "source": [
    "## 4. Inspection & analysis\n",
    "\n",
    "We use [dtale](https://pypi.org/project/dtale/) package for this."
   ]
  },
  {
   "cell_type": "code",
   "execution_count": null,
   "metadata": {},
   "outputs": [],
   "source": [
    "dtale.show(stint_stats_df)\n",
    "# dtale.show(stats_df[['tno', 'stint', 'poss', 'ortg', 'drtg', \"poss_opp\", \"ortg_opp\", \"drtg_opp\"]])"
   ]
  },
  {
   "cell_type": "markdown",
   "metadata": {},
   "source": [
    "## 5. Some checks..."
   ]
  },
  {
   "cell_type": "markdown",
   "metadata": {},
   "source": [
    "Check if a stint lineup has more than 5 players! It could happen:\n",
    "\n",
    "1. Game 2031329, player H. Besson comes out (wrongly?) at 3rd period min 10:00 but he keeps playing and then goes out again at 7:33."
   ]
  },
  {
   "cell_type": "code",
   "execution_count": null,
   "metadata": {},
   "outputs": [],
   "source": [
    "stint_stats_df.shape\n",
    "mask = stint_stats_df['lineup'].apply(lambda x: len(x) != 5)\n",
    "stint_stats_df[mask]\n",
    "\n",
    "# stats_df.iloc[941][['game_id', 'lineup']]"
   ]
  }
 ],
 "metadata": {
  "kernelspec": {
   "display_name": "Python 3.10.7 ('p10')",
   "language": "python",
   "name": "python3"
  },
  "language_info": {
   "codemirror_mode": {
    "name": "ipython",
    "version": 3
   },
   "file_extension": ".py",
   "mimetype": "text/x-python",
   "name": "python",
   "nbconvert_exporter": "python",
   "pygments_lexer": "ipython3",
   "version": "3.10.6"
  },
  "orig_nbformat": 4,
  "vscode": {
   "interpreter": {
    "hash": "bba08d008a084c0b9f453daa67c429f78b2a7511c43dcbed9cf62fe0b7ddf753"
   }
  }
 },
 "nbformat": 4,
 "nbformat_minor": 2
}
