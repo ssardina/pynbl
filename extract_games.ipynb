{
 "cells": [
  {
   "cell_type": "markdown",
   "metadata": {},
   "source": [
    "# Extract Game Ids\n",
    "\n",
    "This notebook allows to extract the games id for a season in a round by inspecting the web pages of the form \n",
    "\n",
    "```\n",
    "https://nbl.com.au/schedule?round=<ROUND-ID>&season=<SEASON-ID>\n",
    "```\n",
    "\n",
    "For example this is pre-season for 2022-2033:\n",
    "\n",
    "https://nbl.com.au/schedule?round=PS&season=34173\n",
    "\n",
    "Those pages expose game links of the form `https://nbl.com.au/games/<GAME-ID>`, but only after Javascript has run. So, we need to use a virtual webdriver to actually browse the page (in silent) after that. We do this with module `selenium` that provides drivers for browsers. Here is [an explanation](https://stackoverflow.com/questions/11047348/is-this-possible-to-load-the-page-after-the-javascript-execute-using-python) how to load a page after Javascript has executed.\n",
    "\n",
    "**Note:** the original page, before Javascript, will also expose the game ids in structures of the form `matchId:<GAME-ID>`, but it will give all of them of the season, without filtering on the round.\n"
   ]
  },
  {
   "cell_type": "code",
   "execution_count": 1,
   "metadata": {},
   "outputs": [],
   "source": [
    "import re\n",
    "\n",
    "# Download geckodriver (https://github.com/mozilla/geckodriver/releases) and put it in path\n",
    "from selenium import webdriver\n",
    "from selenium.webdriver.firefox.options import Options"
   ]
  },
  {
   "cell_type": "code",
   "execution_count": 2,
   "metadata": {},
   "outputs": [
    {
     "name": "stdout",
     "output_type": "stream",
     "text": [
      "Season 27725\n",
      "Rounds:  [1, 2, 3, 4, 5, 6, 7, 8, 9, 10, 11, 12, 13, 14, 15, 16, 17, 18, 19, 20, 21, 'SF', 'F']\n"
     ]
    }
   ],
   "source": [
    "# def get_game_ids(season, round) -> list:\n",
    "ROUNDS = list(range(1, 22)) + [\"SF\", \"F\"]\n",
    "SEASON=27725    # 2020-2021\n",
    "# SEASON=30249    # 2021-2022\n",
    "\n",
    "# rounds = [\"PS\"]\n",
    "# season=34173    # 2022-2023\n",
    "\n",
    "def get_url(season, round):\n",
    "    return f\"https://nbl.com.au/schedule?round={round}&season={season}\"\n",
    "\n",
    "\n",
    "print(\"Season\", SEASON)\n",
    "print(\"Rounds: \", ROUNDS)"
   ]
  },
  {
   "cell_type": "code",
   "execution_count": 3,
   "metadata": {},
   "outputs": [
    {
     "name": "stdout",
     "output_type": "stream",
     "text": [
      "Extracting web HTML for round 1 at  https://nbl.com.au/schedule?round=1&season=27725\n",
      "Extracting web HTML for round 2 at  https://nbl.com.au/schedule?round=2&season=27725\n",
      "Extracting web HTML for round 3 at  https://nbl.com.au/schedule?round=3&season=27725\n",
      "Extracting web HTML for round 4 at  https://nbl.com.au/schedule?round=4&season=27725\n",
      "Extracting web HTML for round 5 at  https://nbl.com.au/schedule?round=5&season=27725\n",
      "Extracting web HTML for round 6 at  https://nbl.com.au/schedule?round=6&season=27725\n",
      "Extracting web HTML for round 7 at  https://nbl.com.au/schedule?round=7&season=27725\n",
      "Extracting web HTML for round 8 at  https://nbl.com.au/schedule?round=8&season=27725\n",
      "Extracting web HTML for round 9 at  https://nbl.com.au/schedule?round=9&season=27725\n",
      "Extracting web HTML for round 10 at  https://nbl.com.au/schedule?round=10&season=27725\n",
      "Extracting web HTML for round 11 at  https://nbl.com.au/schedule?round=11&season=27725\n",
      "Extracting web HTML for round 12 at  https://nbl.com.au/schedule?round=12&season=27725\n",
      "Extracting web HTML for round 13 at  https://nbl.com.au/schedule?round=13&season=27725\n",
      "Extracting web HTML for round 14 at  https://nbl.com.au/schedule?round=14&season=27725\n",
      "Extracting web HTML for round 15 at  https://nbl.com.au/schedule?round=15&season=27725\n",
      "Extracting web HTML for round 16 at  https://nbl.com.au/schedule?round=16&season=27725\n",
      "Extracting web HTML for round 17 at  https://nbl.com.au/schedule?round=17&season=27725\n",
      "Extracting web HTML for round 18 at  https://nbl.com.au/schedule?round=18&season=27725\n",
      "Extracting web HTML for round 19 at  https://nbl.com.au/schedule?round=19&season=27725\n",
      "Extracting web HTML for round 20 at  https://nbl.com.au/schedule?round=20&season=27725\n",
      "Extracting web HTML for round 21 at  https://nbl.com.au/schedule?round=21&season=27725\n",
      "Extracting web HTML for round SF at  https://nbl.com.au/schedule?round=SF&season=27725\n",
      "Extracting web HTML for round F at  https://nbl.com.au/schedule?round=F&season=27725\n"
     ]
    }
   ],
   "source": [
    "# We need an actual browser so that the JavaScript is loaded and the links https://.../games/<game_id> are generated\n",
    "options = Options()\n",
    "options.headless = True\n",
    "browser = webdriver.Firefox(options=options)\n",
    "# browser = webdriver.Firefox(options=options, executable_path=r'C:\\Utility\\BrowserDrivers\\geckodriver.exe')\n",
    "\n",
    "html_texts = []\n",
    "\n",
    "for rno in ROUNDS:\n",
    "    url = get_url(SEASON, rno)\n",
    "    print(f\"Extracting web HTML for round {rno} at \", url)\n",
    "    browser.get(url)\n",
    "    html_text = browser.page_source\n",
    "    html_texts.append((rno, html_text))\n",
    "\n",
    "browser.quit()"
   ]
  },
  {
   "cell_type": "markdown",
   "metadata": {},
   "source": [
    "Now find all the game ids and generate list as per round."
   ]
  },
  {
   "cell_type": "code",
   "execution_count": 4,
   "metadata": {},
   "outputs": [
    {
     "name": "stdout",
     "output_type": "stream",
     "text": [
      "Number of games extracted for round 1:  5\n",
      "Number of games extracted for round 2:  6\n",
      "Number of games extracted for round 3:  7\n",
      "Number of games extracted for round 4:  6\n",
      "Number of games extracted for round 5:  7\n",
      "Number of games extracted for round 6:  8\n",
      "Number of games extracted for round 7:  8\n",
      "Number of games extracted for round 8:  10\n",
      "Number of games extracted for round 9:  10\n",
      "Number of games extracted for round 10:  7\n",
      "Number of games extracted for round 11:  7\n",
      "Number of games extracted for round 12:  7\n",
      "Number of games extracted for round 13:  9\n",
      "Number of games extracted for round 14:  8\n",
      "Number of games extracted for round 15:  7\n",
      "Number of games extracted for round 16:  8\n",
      "Number of games extracted for round 17:  4\n",
      "Number of games extracted for round 18:  10\n",
      "Number of games extracted for round 19:  11\n",
      "Number of games extracted for round 20:  8\n",
      "Number of games extracted for round 21:  9\n",
      "Number of games extracted for round SF:  6\n",
      "Number of games extracted for round F:  3\n",
      "Total games: 171\n",
      "[('1816803', 1), ('1816804', 1), ('1816920', 1), ('1816802', 1), ('1816801', 1), ('1817368', 2), ('1817370', 2), ('1817371', 2), ('1817372', 2), ('1817369', 2), ('1817367', 2), ('1843512', 3), ('1843514', 3), ('1843517', 3), ('1843515', 3), ('1843516', 3), ('1843513', 3), ('1843511', 3), ('1846331', 4), ('1846335', 4), ('1846338', 4), ('1846333', 4), ('1846336', 4), ('1846334', 4), ('1848323', 5), ('1848327', 5), ('1848322', 5), ('1848326', 5), ('1848324', 5), ('1848329', 5), ('1848328', 5), ('1848990', 6), ('1848985', 6), ('1848989', 6), ('1848986', 6), ('1848984', 6), ('1848988', 6), ('1848991', 6), ('1848987', 6), ('1848995', 7), ('1848999', 7), ('1848992', 7), ('1848996', 7), ('1848994', 7), ('1848997', 7), ('1848993', 7), ('1848998', 7), ('1849003', 8), ('1849007', 8), ('1849001', 8), ('1849002', 8), ('1849008', 8), ('1849009', 8), ('1849006', 8), ('1849005', 8), ('1849004', 8), ('1849000', 8), ('1849010', 9), ('1849019', 9), ('1849017', 9), ('1849012', 9), ('1849018', 9), ('1849015', 9), ('1849016', 9), ('1849013', 9), ('1849014', 9), ('1849011', 9), ('1859485', 10), ('1859486', 10), ('1859487', 10), ('1859484', 10), ('1859482', 10), ('1859483', 10), ('1859481', 10), ('1862515', 11), ('1862514', 11), ('1862517', 11), ('1862516', 11), ('1862518', 11), ('1862519', 11), ('1862520', 11), ('1866357', 12), ('1866351', 12), ('1866355', 12), ('1866356', 12), ('1866354', 12), ('1866350', 12), ('1866352', 12), ('1866363', 13), ('1866367', 13), ('1866360', 13), ('1866362', 13), ('1866364', 13), ('1866366', 13), ('1866365', 13), ('1866361', 13), ('1866368', 13), ('1869882', 14), ('1869881', 14), ('1866370', 14), ('1866374', 14), ('1866373', 14), ('1866371', 14), ('1866369', 14), ('1866372', 14), ('1869890', 15), ('1869886', 15), ('1869889', 15), ('1869885', 15), ('1869884', 15), ('1869883', 15), ('1869887', 15), ('1875311', 16), ('1875307', 16), ('1875304', 16), ('1875310', 16), ('1875305', 16), ('1875312', 16), ('1875306', 16), ('1875309', 16), ('1875313', 17), ('1875316', 17), ('1875314', 17), ('1875315', 17), ('1880553', 18), ('1875321', 18), ('1875324', 18), ('1875325', 18), ('1875319', 18), ('1875317', 18), ('1875322', 18), ('1875318', 18), ('1875323', 18), ('1875320', 18), ('1875328', 19), ('1875333', 19), ('1875327', 19), ('1875329', 19), ('1875330', 19), ('1875336', 19), ('1875326', 19), ('1875335', 19), ('1875332', 19), ('1875331', 19), ('1875334', 19), ('1875339', 20), ('1875340', 20), ('1875338', 20), ('1875344', 20), ('1875342', 20), ('1875341', 20), ('1875343', 20), ('1875337', 20), ('1875348', 21), ('1875350', 21), ('1880554', 21), ('1875349', 21), ('1875352', 21), ('1875347', 21), ('1875346', 21), ('1875345', 21), ('1875351', 21), ('1889799', 100), ('1889797', 100), ('1891192', 100), ('1891188', 100), ('1889798', 100), ('1889796', 100), ('1891805', 101), ('1891806', 101), ('1894782', 101)]\n"
     ]
    }
   ],
   "source": [
    "pattern = r'/games/(\\d+)'\n",
    "\n",
    "MAP_ROUNDS = { \"SF\" : 100, \"F\" : 101, \"PS\" : 0}\n",
    "\n",
    "games = []\n",
    "for (rnd, html_text) in html_texts:\n",
    "    game_ids = set(re.findall(pattern, html_text))\n",
    "    print(f\"Number of games extracted for round {rnd}: \", len(game_ids))\n",
    "\n",
    "\n",
    "    games.extend([(x, rnd if isinstance(rnd, int) else MAP_ROUNDS[rnd]) for x in game_ids])\n",
    "\n",
    "print(\"Total games:\", len(games))\n",
    "print(games)"
   ]
  },
  {
   "cell_type": "markdown",
   "metadata": {},
   "source": [
    "# Option 2: Get all the games with no browser\n",
    "\n",
    "Here we don't use a web-browser and we extract just all the games from the original source from items `matchId:<GAME-ID>`.\n",
    "\n",
    "With this solution the page gives ALL the game links, so we don't know what round each is."
   ]
  },
  {
   "cell_type": "code",
   "execution_count": null,
   "metadata": {},
   "outputs": [],
   "source": [
    "import re\n",
    "import bs4\n",
    "import requests\n",
    "from bs4 import BeautifulSoup # https://stackabuse.com/guide-to-parsing-html-with-beautifulsoup-in-python/"
   ]
  },
  {
   "cell_type": "code",
   "execution_count": null,
   "metadata": {},
   "outputs": [],
   "source": [
    "r = requests.get(url)\n",
    "html_text = r.text\n",
    "\n",
    "game_ids = set(re.findall(r'matchId:(\\d+)', html_text))\n",
    "\n",
    "print(\"Number of games extracted: \", len(game_ids))\n",
    "\n",
    "games = [(x, round if isinstance(round, int) else 0) for x in game_ids]\n",
    "print(games)"
   ]
  },
  {
   "cell_type": "code",
   "execution_count": null,
   "metadata": {},
   "outputs": [],
   "source": []
  }
 ],
 "metadata": {
  "kernelspec": {
   "display_name": "Python 3.10.7 ('p10')",
   "language": "python",
   "name": "python3"
  },
  "language_info": {
   "codemirror_mode": {
    "name": "ipython",
    "version": 3
   },
   "file_extension": ".py",
   "mimetype": "text/x-python",
   "name": "python",
   "nbconvert_exporter": "python",
   "pygments_lexer": "ipython3",
   "version": "3.10.7"
  },
  "orig_nbformat": 4,
  "vscode": {
   "interpreter": {
    "hash": "bba08d008a084c0b9f453daa67c429f78b2a7511c43dcbed9cf62fe0b7ddf753"
   }
  }
 },
 "nbformat": 4,
 "nbformat_minor": 2
}
