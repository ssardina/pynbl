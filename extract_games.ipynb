{
 "cells": [
  {
   "cell_type": "markdown",
   "metadata": {},
   "source": [
    "# Extract Game Ids\n",
    "\n",
    "This notebook allows to extract the games id for a season in a round by inspecting the web pages of the form \n",
    "\n",
    "```\n",
    "https://nbl.com.au/schedule?round=<ROUND-ID>&season=<SEASON-ID>\n",
    "```\n",
    "\n",
    "For example this is pre-season for 2022-2033:\n",
    "\n",
    "https://nbl.com.au/schedule?round=PS&season=34173\n",
    "\n",
    "Those pages expose game links of the form `https://nbl.com.au/games/<GAME-ID>`, but only after Javascript has run. So, we need to use a virtual webdriver to actually browse the page (in silent) after that. We do this with module `selenium` that provides drivers for browsers. Here is [an explanation](https://stackoverflow.com/questions/11047348/is-this-possible-to-load-the-page-after-the-javascript-execute-using-python) how to load a page after Javascript has executed.\n",
    "\n",
    "**Note:** the original page, before Javascript, will also expose the game ids in structures of the form `matchId:<GAME-ID>`, but it will give all of them of the season, without filtering on the round.\n"
   ]
  },
  {
   "cell_type": "code",
   "execution_count": 9,
   "metadata": {},
   "outputs": [],
   "source": [
    "import re\n",
    "\n",
    "# Download geckodriver (https://github.com/mozilla/geckodriver/releases) and put it in path\n",
    "from selenium import webdriver\n",
    "from selenium.webdriver.firefox.options import Options"
   ]
  },
  {
   "cell_type": "code",
   "execution_count": 10,
   "metadata": {},
   "outputs": [
    {
     "name": "stdout",
     "output_type": "stream",
     "text": [
      "Link to inspect: https://nbl.com.au/schedule?round=PS&season=34173\n"
     ]
    }
   ],
   "source": [
    "# def get_game_ids(season, round) -> list:\n",
    "round=\"PS\"\n",
    "season=34173\n",
    "\n",
    "url = f\"https://nbl.com.au/schedule?round={round}&season={season}\"\n",
    "\n",
    "print(\"Link to inspect:\", url)"
   ]
  },
  {
   "cell_type": "code",
   "execution_count": 11,
   "metadata": {},
   "outputs": [],
   "source": [
    "# We need an actual browser so that the JavaScript is loaded and the links https://.../games/<game_id> are generated\n",
    "options = Options()\n",
    "options.headless = True\n",
    "browser = webdriver.Firefox(options=options)\n",
    "# browser = webdriver.Firefox(options=options, executable_path=r'C:\\Utility\\BrowserDrivers\\geckodriver.exe')\n",
    "\n",
    "browser.get(url)\n",
    "html_text = browser.page_source\n",
    "browser.quit()"
   ]
  },
  {
   "cell_type": "markdown",
   "metadata": {},
   "source": [
    "Now find all the game ids and generate list as per round."
   ]
  },
  {
   "cell_type": "code",
   "execution_count": 12,
   "metadata": {},
   "outputs": [
    {
     "name": "stdout",
     "output_type": "stream",
     "text": [
      "Number of games extracted:  25\n",
      "[('2122059', 0), ('2120077', 0), ('2120053', 0), ('2120079', 0), ('2120054', 0), ('2122060', 0), ('2141127', 0), ('2116579', 0), ('2135117', 0), ('2120050', 0), ('2141126', 0), ('2120049', 0), ('2135116', 0), ('2120048', 0), ('2120078', 0), ('2120056', 0), ('2134935', 0), ('2120055', 0), ('2120080', 0), ('2120058', 0), ('2116576', 0), ('2120052', 0), ('2120057', 0), ('2124207', 0), ('2120051', 0)]\n"
     ]
    }
   ],
   "source": [
    "game_ids = set(re.findall(r'/games/(\\d+)', html_text))\n",
    "\n",
    "print(\"Number of games extracted: \", len(game_ids))\n",
    "\n",
    "games = [(x, round if isinstance(round, int) else 0) for x in game_ids]\n",
    "print(games)"
   ]
  },
  {
   "cell_type": "markdown",
   "metadata": {},
   "source": [
    "# Option 2: Get all the games with no browser\n",
    "\n",
    "Here we don't use a web-browser and we extract just all the games from the original source from items `matchId:<GAME-ID>`.\n",
    "\n",
    "With this solution the page gives ALL the game links, so we don't know what round each is."
   ]
  },
  {
   "cell_type": "code",
   "execution_count": 5,
   "metadata": {},
   "outputs": [],
   "source": [
    "import re\n",
    "import bs4\n",
    "import requests\n",
    "from bs4 import BeautifulSoup # https://stackabuse.com/guide-to-parsing-html-with-beautifulsoup-in-python/"
   ]
  },
  {
   "cell_type": "code",
   "execution_count": 8,
   "metadata": {},
   "outputs": [
    {
     "name": "stdout",
     "output_type": "stream",
     "text": [
      "Number of games extracted:  165\n",
      "[('2122059', 0), ('2116433', 0), ('2116506', 0), ('2116473', 0), ('2116459', 0), ('2116423', 0), ('2116466', 0), ('2120054', 0), ('2116517', 0), ('2116502', 0), ('2116472', 0), ('2120049', 0), ('2116492', 0), ('2116397', 0), ('2116468', 0), ('2116390', 0), ('2116429', 0), ('2116406', 0), ('2116418', 0), ('2116487', 0), ('2116437', 0), ('2116395', 0), ('2116464', 0), ('2116485', 0), ('2116512', 0), ('2116460', 0), ('2116453', 0), ('2116501', 0), ('2116426', 0), ('2116498', 0), ('2116470', 0), ('2116434', 0), ('2116507', 0), ('2116504', 0), ('2116488', 0), ('2116452', 0), ('2116481', 0), ('2116486', 0), ('2120077', 0), ('2116394', 0), ('2116510', 0), ('2120053', 0), ('2116467', 0), ('2116449', 0), ('2116409', 0), ('2116515', 0), ('2116448', 0), ('2116425', 0), ('2122060', 0), ('2116411', 0), ('2116579', 0), ('2116435', 0), ('2116443', 0), ('2120050', 0), ('2116379', 0), ('2116414', 0), ('2116450', 0), ('2116444', 0), ('2116440', 0), ('2120048', 0), ('2120078', 0), ('2116441', 0), ('2116490', 0), ('2116428', 0), ('2116432', 0), ('2116404', 0), ('2116489', 0), ('2116405', 0), ('2116493', 0), ('2116491', 0), ('2116391', 0), ('2116455', 0), ('2116474', 0), ('2116398', 0), ('2120057', 0), ('2116476', 0), ('2116416', 0), ('2116505', 0), ('2116482', 0), ('2116383', 0), ('2116442', 0), ('2116479', 0), ('2116381', 0), ('2116378', 0), ('2116402', 0), ('2116514', 0), ('2116430', 0), ('2116445', 0), ('2116436', 0), ('2116422', 0), ('2116465', 0), ('2116494', 0), ('2116511', 0), ('2141126', 0), ('2116499', 0), ('2116509', 0), ('2116480', 0), ('2116463', 0), ('2116382', 0), ('2135116', 0), ('2116419', 0), ('2116438', 0), ('2116508', 0), ('2116439', 0), ('2134935', 0), ('2116387', 0), ('2116454', 0), ('2116462', 0), ('2116385', 0), ('2120058', 0), ('2116576', 0), ('2116431', 0), ('2116456', 0), ('2116478', 0), ('2116477', 0), ('2116500', 0), ('2116446', 0), ('2116469', 0), ('2116484', 0), ('2116497', 0), ('2116415', 0), ('2124207', 0), ('2116503', 0), ('2120051', 0), ('2116408', 0), ('2116495', 0), ('2116417', 0), ('2116400', 0), ('2116420', 0), ('2116413', 0), ('2116424', 0), ('2116457', 0), ('2116389', 0), ('2120079', 0), ('2116516', 0), ('2116513', 0), ('2141127', 0), ('2135117', 0), ('2116458', 0), ('2116447', 0), ('2116518', 0), ('2116396', 0), ('2116461', 0), ('2116393', 0), ('2116412', 0), ('2116384', 0), ('2120056', 0), ('2120080', 0), ('2120055', 0), ('2116403', 0), ('2116427', 0), ('2116421', 0), ('2116475', 0), ('2116401', 0), ('2120052', 0), ('2116483', 0), ('2116451', 0), ('2116471', 0), ('2116407', 0), ('2116410', 0), ('2116399', 0), ('2116386', 0), ('2116496', 0), ('2116380', 0), ('2116388', 0)]\n"
     ]
    }
   ],
   "source": [
    "r = requests.get(url)\n",
    "html_text = r.text\n",
    "\n",
    "game_ids = set(re.findall(r'matchId:(\\d+)', html_text))\n",
    "\n",
    "print(\"Number of games extracted: \", len(game_ids))\n",
    "\n",
    "games = [(x, round if isinstance(round, int) else 0) for x in game_ids]\n",
    "print(games)"
   ]
  },
  {
   "cell_type": "code",
   "execution_count": null,
   "metadata": {},
   "outputs": [],
   "source": []
  }
 ],
 "metadata": {
  "kernelspec": {
   "display_name": "Python 3.10.7 ('p10')",
   "language": "python",
   "name": "python3"
  },
  "language_info": {
   "codemirror_mode": {
    "name": "ipython",
    "version": 3
   },
   "file_extension": ".py",
   "mimetype": "text/x-python",
   "name": "python",
   "nbconvert_exporter": "python",
   "pygments_lexer": "ipython3",
   "version": "3.10.7"
  },
  "orig_nbformat": 4,
  "vscode": {
   "interpreter": {
    "hash": "bba08d008a084c0b9f453daa67c429f78b2a7511c43dcbed9cf62fe0b7ddf753"
   }
  }
 },
 "nbformat": 4,
 "nbformat_minor": 2
}
