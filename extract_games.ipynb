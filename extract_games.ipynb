{
 "cells": [
  {
   "cell_type": "markdown",
   "metadata": {},
   "source": [
    "# Extract Game Ids\n",
    "\n",
    "This notebook allows to extract the games id for a season in a round by inspecting the web pages of the form \n",
    "\n",
    "```\n",
    "https://nbl.com.au/schedule?round=<ROUND-ID>&season=<SEASON-ID>\n",
    "```\n",
    "\n",
    "For example this is pre-season for 2022-2033:\n",
    "\n",
    "https://nbl.com.au/schedule?round=PS&season=34173\n",
    "\n",
    "Those pages expose game links of the form `https://nbl.com.au/games/<GAME-ID>`, but only after Javascript has run. So, we need to use a virtual webdriver to actually browse the page (in silent) after that. We do this with module `selenium` that provides drivers for browsers. Here is [an explanation](https://stackoverflow.com/questions/11047348/is-this-possible-to-load-the-page-after-the-javascript-execute-using-python) how to load a page after Javascript has executed.\n",
    "\n",
    "**Note:** the original page, before Javascript, will also expose the game ids in structures of the form `matchId:<GAME-ID>`, but it will give all of them of the season, without filtering on the round.\n"
   ]
  },
  {
   "cell_type": "code",
   "execution_count": null,
   "metadata": {},
   "outputs": [],
   "source": [
    "import re\n",
    "\n",
    "# Download geckodriver (https://github.com/mozilla/geckodriver/releases) and put it in path\n",
    "from selenium import webdriver\n",
    "from selenium.webdriver.firefox.options import Options"
   ]
  },
  {
   "cell_type": "code",
   "execution_count": null,
   "metadata": {},
   "outputs": [],
   "source": [
    "# def get_game_ids(season, round) -> list:\n",
    "round=\"PS\"\n",
    "season=34173\n",
    "\n",
    "url = f\"https://nbl.com.au/schedule?round={round}&season={season}\"\n",
    "\n",
    "print(\"Link to inspect:\", url)"
   ]
  },
  {
   "cell_type": "code",
   "execution_count": null,
   "metadata": {},
   "outputs": [],
   "source": [
    "# We need an actual browser so that the JavaScript is loaded and the links https://.../games/<game_id> are generated\n",
    "options = Options()\n",
    "options.headless = True\n",
    "browser = webdriver.Firefox(options=options)\n",
    "# browser = webdriver.Firefox(options=options, executable_path=r'C:\\Utility\\BrowserDrivers\\geckodriver.exe')\n",
    "\n",
    "browser.get(url)\n",
    "html_text = browser.page_source\n",
    "browser.quit()"
   ]
  },
  {
   "cell_type": "markdown",
   "metadata": {},
   "source": [
    "Now find all the game ids and generate list as per round."
   ]
  },
  {
   "cell_type": "code",
   "execution_count": null,
   "metadata": {},
   "outputs": [],
   "source": [
    "game_ids = set(re.findall(r'/games/(\\d+)', html_text))\n",
    "\n",
    "print(\"Number of games extracted: \", len(game_ids))\n",
    "\n",
    "games = [(x, round if isinstance(round, int) else 0) for x in game_ids]\n",
    "print(games)"
   ]
  },
  {
   "cell_type": "markdown",
   "metadata": {},
   "source": [
    "# Option 2: Get all the games with no browser\n",
    "\n",
    "Here we don't use a web-browser and we extract just all the games from the original source from items `matchId:<GAME-ID>`.\n",
    "\n",
    "With this solution the page gives ALL the game links, so we don't know what round each is."
   ]
  },
  {
   "cell_type": "code",
   "execution_count": null,
   "metadata": {},
   "outputs": [],
   "source": [
    "import re\n",
    "import bs4\n",
    "import requests\n",
    "from bs4 import BeautifulSoup # https://stackabuse.com/guide-to-parsing-html-with-beautifulsoup-in-python/"
   ]
  },
  {
   "cell_type": "code",
   "execution_count": null,
   "metadata": {},
   "outputs": [],
   "source": [
    "r = requests.get(url)\n",
    "html_text = r.text\n",
    "\n",
    "game_ids = set(re.findall(r'matchId:(\\d+)', html_text))\n",
    "\n",
    "print(\"Number of games extracted: \", len(game_ids))\n",
    "\n",
    "games = [(x, round if isinstance(round, int) else 0) for x in game_ids]\n",
    "print(games)"
   ]
  },
  {
   "cell_type": "code",
   "execution_count": null,
   "metadata": {},
   "outputs": [],
   "source": []
  }
 ],
 "metadata": {
  "kernelspec": {
   "display_name": "Python 3.10.7 ('p10')",
   "language": "python",
   "name": "python3"
  },
  "language_info": {
   "codemirror_mode": {
    "name": "ipython",
    "version": 3
   },
   "file_extension": ".py",
   "mimetype": "text/x-python",
   "name": "python",
   "nbconvert_exporter": "python",
   "pygments_lexer": "ipython3",
   "version": "3.10.7"
  },
  "orig_nbformat": 4,
  "vscode": {
   "interpreter": {
    "hash": "bba08d008a084c0b9f453daa67c429f78b2a7511c43dcbed9cf62fe0b7ddf753"
   }
  }
 },
 "nbformat": 4,
 "nbformat_minor": 2
}
